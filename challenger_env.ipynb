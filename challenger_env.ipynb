{
 "cells": [
  {
   "cell_type": "markdown",
   "metadata": {},
   "source": [
    "# Bias model bootstrapping notebook\n",
    "\n",
    "Eventually this notebook will (hopefully?) contain all the code necessary to run our final experiments.\n",
    "For now it just contains a demo of MCE IRL on some gridworlds from the \"learning biases\" paper.\n",
    "\n",
    "First we have some not-very-interesting setup:"
   ]
  },
  {
   "cell_type": "code",
   "execution_count": 2,
   "metadata": {},
   "outputs": [],
   "source": [
    "%matplotlib inline\n",
    "\n",
    "# These are useful for debugging, but make code slower:\n",
    "%load_ext autoreload\n",
    "%autoreload 2\n",
    "\n",
    "import logging\n",
    "\n",
    "import numpy as np\n",
    "import matplotlib.pyplot as plt\n",
    "import pandas as pd\n",
    "import seaborn as sns\n",
    "import jax\n",
    "import jax.experimental.optimizers as jopt\n",
    "import jax.random as jrandom\n",
    "import numpy as np\n",
    "\n",
    "from pref_bootstrap.envs import gridworld, mdp_interface\n",
    "from pref_bootstrap.algos import mce_irl\n",
    "import pref_bootstrap.feedback_learner_blind_irl as fbl_blind_irl\n",
    "import pref_bootstrap.feedback_learner_paired_comparisons as fbl_paired_comp\n",
    "import pref_bootstrap.reward_models as r_models\n",
    "import pref_bootstrap.expert_base as experts\n",
    "\n",
    "sns.set(context='notebook', style='darkgrid')\n",
    "logging.basicConfig(level=logging.INFO)\n",
    "np.set_printoptions(precision=4, linewidth=100)"
   ]
  },
  {
   "cell_type": "markdown",
   "metadata": {},
   "source": [
    "## Very simple example of using environments and MCE IRL code\n",
    "\n",
    "This code doesn't use the new agent API"
   ]
  },
  {
   "cell_type": "code",
   "execution_count": 4,
   "metadata": {},
   "outputs": [],
   "source": [
    "grid = ['XXXXXXXXX',\n",
    "        'X9X6XA  X',\n",
    "        'X X X XXX',\n",
    "        'X      2X',\n",
    "        'XXXXXXXXX']\n",
    "random_gridworld = gridworld.GridworldMdp(grid, living_reward=-.1)\n",
    "\n",
    "env = mdp_interface.GridworldEnvWrapper(random_gridworld, random_gridworld.height + random_gridworld.width)"
   ]
  },
  {
   "cell_type": "code",
   "execution_count": null,
   "metadata": {},
   "outputs": [],
   "source": []
  },
  {
   "cell_type": "code",
   "execution_count": 5,
   "metadata": {},
   "outputs": [],
   "source": [
    "# generate some optimal demos (represented by a single optimal occupancy measure vector) and run MCE IRL\n",
    "_, optimal_om = mce_irl.mce_occupancy_measures(env)\n",
    "rmodel = r_models.LinearRewardModel(env.obs_dim)\n",
    "opt_tup = jopt.momentum(1e-2, 0.9)"
   ]
  },
  {
   "cell_type": "code",
   "execution_count": 6,
   "metadata": {},
   "outputs": [
    {
     "name": "stderr",
     "output_type": "stream",
     "text": [
      "WARNING:absl:No GPU/TPU found, falling back to CPU. (Set TF_CPP_MIN_LOG_LEVEL=0 and rerun for more info.)\n",
      "INFO:root:Occupancy measure error@iter   0: 6.091253 (||params||=6.574091, ||grad||=9.638029, ||E[dr/dw]||=8.046631)\n",
      "INFO:root:Occupancy measure error@iter  100: 0.100611 (||params||=8.655410, ||grad||=0.109976, ||E[dr/dw]||=6.335662)\n",
      "INFO:root:Occupancy measure error@iter  200: 0.030341 (||params||=8.940771, ||grad||=0.041924, ||E[dr/dw]||=6.393700)\n",
      "INFO:root:Occupancy measure error@iter  300: 0.021033 (||params||=9.134612, ||grad||=0.029409, ||E[dr/dw]||=6.400043)\n",
      "INFO:root:Occupancy measure error@iter  400: 0.016305 (||params||=9.283921, ||grad||=0.022720, ||E[dr/dw]||=6.403207)\n",
      "INFO:root:Occupancy measure error@iter  500: 0.013329 (||params||=9.406160, ||grad||=0.018528, ||E[dr/dw]||=6.405202)\n",
      "INFO:root:Occupancy measure error@iter  600: 0.011276 (||params||=9.509972, ||grad||=0.015644, ||E[dr/dw]||=6.406580)\n",
      "INFO:root:Occupancy measure error@iter  700: 0.009769 (||params||=9.600337, ||grad||=0.013535, ||E[dr/dw]||=6.407592)\n",
      "INFO:root:Occupancy measure error@iter  800: 0.008613 (||params||=9.680416, ||grad||=0.011924, ||E[dr/dw]||=6.408370)\n",
      "INFO:root:Occupancy measure error@iter  900: 0.007700 (||params||=9.752349, ||grad||=0.010652, ||E[dr/dw]||=6.408983)\n"
     ]
    }
   ],
   "source": [
    "rew_params, visitations = mce_irl.mce_irl(env, opt_tup, rmodel, optimal_om, print_interval=100, max_iter=1000)"
   ]
  },
  {
   "cell_type": "code",
   "execution_count": 8,
   "metadata": {},
   "outputs": [
    {
     "name": "stdout",
     "output_type": "stream",
     "text": [
      "Optimal state visitation frequencies for each grid cell:\n"
     ]
    },
    {
     "data": {
      "image/png": "[encoded data removed]",
      "text/plain": [
       "<Figure size 432x288 with 1 Axes>"
      ]
     },
     "metadata": {
      "needs_background": "light"
     },
     "output_type": "display_data"
    },
    {
     "name": "stdout",
     "output_type": "stream",
     "text": [
      "\n",
      "Recovered state visitation frequencies for each grid cell:\n"
     ]
    },
    {
     "data": {
      "image/png": "[encoded data removed]",
      "text/plain": [
       "<Figure size 432x288 with 1 Axes>"
      ]
     },
     "metadata": {
      "needs_background": "light"
     },
     "output_type": "display_data"
    }
   ],
   "source": [
    "print('Optimal state visitation frequencies for each grid cell:')\n",
    "plt.imshow(optimal_om.reshape((random_gridworld.height, random_gridworld.width)))\n",
    "plt.show()\n",
    "print('\\nRecovered state visitation frequencies for each grid cell:')\n",
    "plt.imshow(visitations.reshape((random_gridworld.height, random_gridworld.width)))\n",
    "plt.show()"
   ]
  },
  {
   "cell_type": "markdown",
   "metadata": {},
   "source": [
    "## More complex example showing how to use an EnvFeedbackModel to recover both a reward function + sub-rationality model\n",
    "\n",
    "This code actually does use the new API to show how to use the 'blind IRL' feedback model (& its associated expert, which doesn't support observation blinding yet)."
   ]
  },
  {
   "cell_type": "code",
   "execution_count": 9,
   "metadata": {},
   "outputs": [],
   "source": [
    "# ALRIGHT, HERE IS WHERE I WILL DEBUG THE TOPK FEEDBACK LEARNER\n",
    "# ABLATIONS: COULD WE DO BETTER IF ALL OUR TRAJECTORIES ARE GOOD? \n",
    "# OR IS IT NECESSARY TO HAVE BAD TRAJECTORIES? "
   ]
  },
  {
   "cell_type": "code",
   "execution_count": 14,
   "metadata": {},
   "outputs": [
    {
     "name": "stderr",
     "output_type": "stream",
     "text": [
      "/userdata/smetzger/gim/lib/python3.6/site-packages/jax/_src/lax/lax.py:6271: UserWarning: Explicitly requested dtype float64 requested in array is not available, and will be truncated to dtype float32. To enable more dtypes, set the jax_enable_x64 configuration option or the JAX_ENABLE_X64 shell environment variable. See https://github.com/google/jax#current-gotchas for more.\n",
      "  warnings.warn(msg.format(dtype, fun_name , truncated_dtype))\n"
     ]
    }
   ],
   "source": [
    "import pref_bootstrap.feedback_learner_topk as fbl_topk\n",
    "rmodel = r_models.LinearRewardModel(env.obs_dim)\n",
    "top_K_feedback_model = fbl_topk.TopKFeedbackModel(env)\n",
    "top_K_expert = experts.TopKExpert(env, temp=.3, K=.01, seed=42)"
   ]
  },
  {
   "cell_type": "code",
   "execution_count": 15,
   "metadata": {},
   "outputs": [
    {
     "name": "stdout",
     "output_type": "stream",
     "text": [
      "cutoff 16.0\n",
      "0.027\n",
      "0.027\n"
     ]
    }
   ],
   "source": [
    "# def genereate_top_K_dataset(n_traj): \n",
    "import random\n",
    "\n",
    "n_traj = 1000\n",
    "rmodel = r_models.LinearRewardModel(env.obs_dim)\n",
    "rmodel.set_params(env.reward_matrix)\n",
    "traj = mce_irl.mce_irl_sample(env, n_traj, R=np.ones((env.n_states,)))\n",
    "labels= top_K_expert.interact(traj, rmodel)\n",
    "\n",
    "labels_final, traj_final = [], []\n",
    "for l, t in zip(labels, traj['states']): \n",
    "    if not(l):\n",
    "        if True:#random.random() < (np.sum(labels)/len(labels)):\n",
    "            labels_final.append(l), traj_final.append(t)\n",
    "    else: \n",
    "        labels_final.append(l), traj_final.append(t)\n",
    "        \n",
    "labels_final = np.array(labels_final)\n",
    "        \n",
    "print(np.sum(labels)/len(labels))\n",
    "print(np.sum(labels_final)/len(labels_final))\n"
   ]
  },
  {
   "cell_type": "code",
   "execution_count": 16,
   "metadata": {},
   "outputs": [
    {
     "name": "stdout",
     "output_type": "stream",
     "text": [
      "cutoff 14.0\n"
     ]
    }
   ],
   "source": [
    "def generate_topk_dataset(n_traj):\n",
    "    # def genereate_top_K_dataset(n_traj): \n",
    "    import random\n",
    "    rmodel = r_models.LinearRewardModel(env.obs_dim)\n",
    "    rmodel.set_params(env.reward_matrix)\n",
    "    traj = mce_irl.mce_irl_sample(env, n_traj, R=np.ones((env.n_states,)))\n",
    "    labels= top_K_expert.interact(traj, rmodel)\n",
    "\n",
    "    labels_final, traj_final = [], []\n",
    "    for l, t in zip(labels, traj['states']): \n",
    "        if not(l):\n",
    "            if random.random() < top_K_expert.K:#TODO if there are issues update this so that we balance our dataset.\n",
    "                labels_final.append(l), traj_final.append(t)\n",
    "        else: \n",
    "            labels_final.append(l), traj_final.append(t)\n",
    "\n",
    "    labels_final = np.array([int(l) for l in labels_final])\n",
    "    \n",
    "    return {\n",
    "        'trajectories':np.array(traj_final), \n",
    "        'labels':labels_final\n",
    "    }\n",
    "\n",
    "top_K_dataset = generate_topk_dataset(10000)\n"
   ]
  },
  {
   "cell_type": "code",
   "execution_count": 17,
   "metadata": {},
   "outputs": [
    {
     "name": "stderr",
     "output_type": "stream",
     "text": [
      "/userdata/smetzger/gim/lib/python3.6/site-packages/jax/_src/lax/lax.py:6271: UserWarning: Explicitly requested dtype float64 requested in array is not available, and will be truncated to dtype float32. To enable more dtypes, set the jax_enable_x64 configuration option or the JAX_ENABLE_X64 shell environment variable. See https://github.com/google/jax#current-gotchas for more.\n",
      "  warnings.warn(msg.format(dtype, fun_name , truncated_dtype))\n"
     ]
    },
    {
     "name": "stdout",
     "output_type": "stream",
     "text": [
      "sampledvec [ 0.82   10.8032]\n"
     ]
    }
   ],
   "source": [
    "lr = 1e-3\n",
    "steps = 10000\n",
    "loss_prev = float('Inf')\n",
    "delta = 100\n",
    "eps = 1e-5\n",
    "\n",
    "import pref_bootstrap.feedback_learner_topk as fbl_topk\n",
    "top_K_feedback_model = fbl_topk.TopKFeedbackModel(env)\n",
    "top_K_expert = experts.TopKExpert(env, temp=.3, K=.05, seed=42)\n",
    "rmodel = r_models.LinearRewardModel(env.obs_dim)\n",
    "import jax\n",
    "import jax.numpy as jnp\n",
    "\n",
    "rng = jrandom.PRNGKey(42)\n",
    "rng, top_K_bias_params = top_K_feedback_model.init_bias_params(rng)"
   ]
  },
  {
   "cell_type": "code",
   "execution_count": 18,
   "metadata": {},
   "outputs": [
    {
     "name": "stdout",
     "output_type": "stream",
     "text": [
      "step 0 loss -5.761\n",
      "step 100 loss -0.530\n",
      "step 200 loss -0.527\n",
      "step 300 loss -0.525\n",
      "step 400 loss -0.522\n",
      "step 500 loss -0.520\n",
      "step 600 loss -0.517\n",
      "step 700 loss -0.515\n",
      "step 800 loss -0.512\n",
      "step 900 loss -0.510\n",
      "terminated due to delta\n"
     ]
    }
   ],
   "source": [
    "def trad_optimize(model, data, rmodel, bias_params, use_bias_prior=False, eps=1e-9):\n",
    "    \"\"\"\n",
    "    Note: Going to add back the projected G.D\n",
    "    I'm not really sure why he was trying to optimize the probability of the bias terms under the bias prior, \n",
    "    i don't really think that makes much sense. You'll basically just push it towards the mean terms even\n",
    "    thought its not really there...\n",
    "    \n",
    "    \"\"\"\n",
    "    lr = 1e-2\n",
    "    steps = 1000\n",
    "    loss_prev = float('Inf')\n",
    "    delta = 100\n",
    " \n",
    "    step = 0\n",
    "    \n",
    "    while(step<steps):\n",
    "\n",
    "        grew = model.log_likelihood_grad_rew(data, rmodel, bias_params)\n",
    "        new_r = rmodel.get_params() + lr*grew\n",
    "        rmodel.set_params(new_r)\n",
    "        \n",
    "        gbias = model.log_likelihood_grad_bias(data, rmodel, bias_params)\n",
    "        \n",
    "        \n",
    "        \n",
    "        bias_prior_grad = model.bias_prior.log_prior_grad(bias_params)\n",
    "        \n",
    "        if use_bias_prior: \n",
    "            gbias = gbias+ bias_prior_grad\n",
    "        \n",
    "        bias_params = bias_params + lr*(gbias)\n",
    "        \n",
    "        # Projected G.D. done right (I think this was a bug term from the last one)\n",
    "        \n",
    "        if use_bias_prior: \n",
    "            bias_params = model.bias_prior.project_to_support(bias_params)\n",
    "        \n",
    "        loss = model.log_likelihood(data, rmodel, bias_params)\n",
    "        if step % 100 == 0:\n",
    "            print('step %d loss %.3f' %(step, loss))\n",
    "        if step > 0: \n",
    "            delta = loss-loss_prev\n",
    "        loss_prev = loss\n",
    "        step +=1\n",
    "\n",
    "        \n",
    "\n",
    "    if np.abs(delta) <= .0001: \n",
    "        print('terminated due to delta')\n",
    "    else: \n",
    "        print('terminated due to steps exceeding %d' %steps)\n",
    "        \n",
    "    return model, rmodel, bias_params\n",
    "rmodel = r_models.LinearRewardModel(env.obs_dim)\n",
    "_, rmodel, _ = trad_optimize(top_K_feedback_model, top_K_dataset, rmodel, top_K_bias_params)"
   ]
  },
  {
   "cell_type": "code",
   "execution_count": 21,
   "metadata": {},
   "outputs": [
    {
     "data": {
      "image/png": "[encoded data removed]",
      "text/plain": [
       "<Figure size 432x288 with 1 Axes>"
      ]
     },
     "metadata": {
      "needs_background": "light"
     },
     "output_type": "display_data"
    },
    {
     "name": "stdout",
     "output_type": "stream",
     "text": [
      "Optimal state visitation frequencies for each grid cell:\n"
     ]
    },
    {
     "data": {
      "image/png": "[encoded data removed]",
      "text/plain": [
       "<Figure size 432x288 with 1 Axes>"
      ]
     },
     "metadata": {
      "needs_background": "light"
     },
     "output_type": "display_data"
    },
    {
     "name": "stdout",
     "output_type": "stream",
     "text": [
      "Inferred \n"
     ]
    },
    {
     "data": {
      "image/png": "[encoded data removed]",
      "text/plain": [
       "<Figure size 432x288 with 1 Axes>"
      ]
     },
     "metadata": {
      "needs_background": "light"
     },
     "output_type": "display_data"
    }
   ],
   "source": [
    "def evaluate(rmodel):\n",
    "    plt.plot(rmodel.get_params(), label='estimated')\n",
    "    plt.plot(env.reward_matrix, label='real reward')\n",
    "    plt.legend()\n",
    "    plt.title('Estimated Reward Function')\n",
    "    plt.show()\n",
    "\n",
    "    _, topk_om = mce_irl.mce_occupancy_measures(env, R=rmodel.get_params())\n",
    "\n",
    "    print('Optimal state visitation frequencies for each grid cell:')\n",
    "    plt.imshow(optimal_om.reshape((random_gridworld.height, random_gridworld.width)))\n",
    "    plt.show()\n",
    "    print('Inferred ')\n",
    "    plt.imshow(topk_om.reshape((random_gridworld.height, random_gridworld.width)))\n",
    "    plt.show()\n",
    "    \n",
    "evaluate(rmodel)"
   ]
  },
  {
   "cell_type": "code",
   "execution_count": 22,
   "metadata": {},
   "outputs": [],
   "source": [
    "# Now can we get another feedback modality to work with the traditional grad descent? "
   ]
  },
  {
   "cell_type": "code",
   "execution_count": 23,
   "metadata": {},
   "outputs": [],
   "source": [
    "pc_feedback_model = fbl_paired_comp.PairedCompFeedbackModel(env)\n",
    "rng, pc_bias_params = pc_feedback_model.init_bias_params(rng)\n",
    "pc_expert = experts.PairedComparisonExpert(env, boltz_temp=1.0, seed=42)\n",
    "\n",
    "# generate some random trajectories & compare a random subset of them\n",
    "def generate_comparison_dataset(pc_ntraj):\n",
    "    pc_trajectories = mce_irl.mce_irl_sample(env, pc_ntraj, R=np.ones((env.n_states, )))\n",
    "    to_compare_first = np.arange(len(pc_trajectories['states']))\n",
    "    comparisons = []\n",
    "    for first_idx in range(pc_ntraj):\n",
    "        second_idx = np.random.randint(pc_ntraj - 1)\n",
    "        if second_idx >= first_idx:\n",
    "            second_idx += 1\n",
    "        traj1_is_better = pc_expert.interact(\n",
    "            dict(states=pc_trajectories['states'][first_idx]),\n",
    "            dict(states=pc_trajectories['states'][second_idx]))\n",
    "        if traj1_is_better:\n",
    "            # the better trajectory comes before the worse one\n",
    "            comparisons.append((first_idx, second_idx))\n",
    "        else:\n",
    "            comparisons.append((second_idx, first_idx))\n",
    "    return {\n",
    "        'trajectories': pc_trajectories,\n",
    "        'comparisons': np.asarray(comparisons),\n",
    "    }\n",
    "\n",
    "comparison_dataset = generate_comparison_dataset(100)"
   ]
  },
  {
   "cell_type": "code",
   "execution_count": 24,
   "metadata": {},
   "outputs": [
    {
     "name": "stdout",
     "output_type": "stream",
     "text": [
      "step 0 loss -0.695\n",
      "step 100 loss -0.691\n",
      "step 200 loss -0.691\n",
      "step 300 loss -0.691\n",
      "step 400 loss -0.691\n",
      "step 500 loss -0.690\n",
      "step 600 loss -0.690\n",
      "step 700 loss -0.690\n",
      "step 800 loss -0.690\n",
      "step 900 loss -0.690\n",
      "terminated due to delta\n"
     ]
    },
    {
     "data": {
      "image/png": "[encoded data removed]",
      "text/plain": [
       "<Figure size 432x288 with 1 Axes>"
      ]
     },
     "metadata": {
      "needs_background": "light"
     },
     "output_type": "display_data"
    },
    {
     "name": "stdout",
     "output_type": "stream",
     "text": [
      "Optimal state visitation frequencies for each grid cell:\n"
     ]
    },
    {
     "data": {
      "image/png": "[encoded data removed]",
      "text/plain": [
       "<Figure size 432x288 with 1 Axes>"
      ]
     },
     "metadata": {
      "needs_background": "light"
     },
     "output_type": "display_data"
    },
    {
     "name": "stdout",
     "output_type": "stream",
     "text": [
      "Inferred \n"
     ]
    },
    {
     "data": {
      "image/png": "[encoded data removed]",
      "text/plain": [
       "<Figure size 432x288 with 1 Axes>"
      ]
     },
     "metadata": {
      "needs_background": "light"
     },
     "output_type": "display_data"
    }
   ],
   "source": [
    "rmodel = r_models.LinearRewardModel(env.obs_dim)\n",
    "_, rmodel, _ = trad_optimize(pc_feedback_model, comparison_dataset, rmodel, pc_bias_params, use_bias_prior=False)\n",
    "evaluate(rmodel)"
   ]
  },
  {
   "cell_type": "code",
   "execution_count": 26,
   "metadata": {},
   "outputs": [
    {
     "name": "stdout",
     "output_type": "stream",
     "text": [
      "step 0 loss -33.540\n",
      "step 100 loss -10.846\n",
      "step 200 loss -10.113\n",
      "step 300 loss -9.963\n",
      "step 400 loss -9.888\n",
      "step 500 loss -9.840\n",
      "step 600 loss -9.807\n",
      "step 700 loss -9.782\n",
      "step 800 loss -9.763\n",
      "step 900 loss -9.747\n",
      "terminated due to steps exceeding 1000\n"
     ]
    },
    {
     "data": {
      "image/png": "[encoded data removed]",
      "text/plain": [
       "<Figure size 432x288 with 1 Axes>"
      ]
     },
     "metadata": {
      "needs_background": "light"
     },
     "output_type": "display_data"
    },
    {
     "name": "stdout",
     "output_type": "stream",
     "text": [
      "Optimal state visitation frequencies for each grid cell:\n"
     ]
    },
    {
     "data": {
      "image/png": "[encoded data removed]",
      "text/plain": [
       "<Figure size 432x288 with 1 Axes>"
      ]
     },
     "metadata": {
      "needs_background": "light"
     },
     "output_type": "display_data"
    },
    {
     "name": "stdout",
     "output_type": "stream",
     "text": [
      "Inferred \n"
     ]
    },
    {
     "data": {
      "image/png": "[encoded data removed]",
      "text/plain": [
       "<Figure size 432x288 with 1 Axes>"
      ]
     },
     "metadata": {
      "needs_background": "light"
     },
     "output_type": "display_data"
    }
   ],
   "source": [
    "irl_feedback_model = fbl_blind_irl.BlindIRLFeedbackModel(env)\n",
    "rmodel = r_models.LinearRewardModel(env.obs_dim)\n",
    "rng = jrandom.PRNGKey(42)\n",
    "rng, irl_bias_params = irl_feedback_model.init_bias_params(rng)\n",
    "irl_expert = experts.MEDemonstratorExpert(env, np.random.randint((1 << 31) - 1))\n",
    "# we'll do IRL based on 10 trajectories\n",
    "irl_dataset = irl_expert.interact(10)\n",
    "_, rmodel, _ = trad_optimize(irl_feedback_model, irl_dataset, rmodel, irl_bias_params, use_bias_prior=True)\n",
    "evaluate(rmodel)"
   ]
  },
  {
   "cell_type": "code",
   "execution_count": 27,
   "metadata": {},
   "outputs": [],
   "source": [
    "def multi_optimize(model_list, data_list, rmodel, bias_list, use_bias_list, optimize_reward=True): \n",
    "    \n",
    "    lr = 1\n",
    "    steps = 1000\n",
    "    loss_prev = float('Inf')\n",
    "    delta = 100\n",
    "    step = 0\n",
    "    \n",
    "    while(step<steps):\n",
    "    \n",
    "        grew = jnp.zeros_like(env.reward_matrix)\n",
    "        \n",
    "        if optimize_reward: \n",
    "            for model, data, bias_params in zip(model_list, data_list, bias_list):\n",
    "                grew += model.log_likelihood_grad_rew(data, rmodel, bias_params)\n",
    "\n",
    "        new_r = rmodel.get_params() + lr*grew\n",
    "        rmodel.set_params(new_r)\n",
    "        \n",
    "        for k, (model, data, bias_params, use_bias_prior) in enumerate(zip(model_list, data_list, bias_list, use_bias_list)):\n",
    "            gbias = model.log_likelihood_grad_bias(data, rmodel, bias_params)\n",
    "            if use_bias_prior: \n",
    "                bias_prior_grad = model.bias_prior.log_prior_grad(bias_params)\n",
    "                gbias = gbias + bias_prior_grad\n",
    "        \n",
    "            bias_list[k] = bias_params + lr*(gbias)\n",
    "            \n",
    "                    \n",
    "            if use_bias_prior: \n",
    "                bias_list[k] = model.bias_prior.project_to_support(bias_list[k])\n",
    "\n",
    "\n",
    "        for k, (model, data, bias_params) in enumerate(zip(model_list, data_list, bias_list)):\n",
    "            loss = model.log_likelihood(data, rmodel, bias_params)\n",
    "          \n",
    "            if step % 100 == 0:\n",
    "                print('step %d loss %.3f model %d' %(step, loss, k))\n",
    "                print('---', bias_params)\n",
    "        if step > 0: \n",
    "            delta = loss-loss_prev\n",
    "        loss_prev = loss\n",
    "        step +=1\n",
    "        \n",
    "    return model_list, rmodel, bias_list"
   ]
  },
  {
   "cell_type": "code",
   "execution_count": 28,
   "metadata": {},
   "outputs": [],
   "source": [
    "# Reinitializing all the models\n",
    "\n",
    "def init_models(opt_reward=False):\n",
    "    irl_feedback_model = fbl_blind_irl.BlindIRLFeedbackModel(env)\n",
    "    rmodel = r_models.LinearRewardModel(env.obs_dim)\n",
    "    rng = jrandom.PRNGKey(42)\n",
    "    rng, irl_bias_params = irl_feedback_model.init_bias_params(rng)\n",
    "    irl_expert = experts.MEDemonstratorExpert(env, np.random.randint((1 << 31) - 1))\n",
    "    # we'll do IRL based on 10 trajectories\n",
    "    irl_dataset = irl_expert.interact(10)\n",
    "\n",
    "    pc_feedback_model = fbl_paired_comp.PairedCompFeedbackModel(env)\n",
    "    rng, pc_bias_params = pc_feedback_model.init_bias_params(rng)\n",
    "    pc_expert = experts.PairedComparisonExpert(env, boltz_temp=1.0, seed=42)\n",
    "\n",
    "    # generate some random trajectories & compare a random subset of them\n",
    "    def generate_comparison_dataset(pc_ntraj):\n",
    "        pc_trajectories = mce_irl.mce_irl_sample(env, pc_ntraj, R=np.ones((env.n_states, )))\n",
    "        to_compare_first = np.arange(len(pc_trajectories['states']))\n",
    "        comparisons = []\n",
    "        for first_idx in range(pc_ntraj):\n",
    "            second_idx = np.random.randint(pc_ntraj - 1)\n",
    "            if second_idx >= first_idx:\n",
    "                second_idx += 1\n",
    "            traj1_is_better = pc_expert.interact(\n",
    "                dict(states=pc_trajectories['states'][first_idx]),\n",
    "                dict(states=pc_trajectories['states'][second_idx]))\n",
    "            if traj1_is_better:\n",
    "                # the better trajectory comes before the worse one\n",
    "                comparisons.append((first_idx, second_idx))\n",
    "            else:\n",
    "                comparisons.append((second_idx, first_idx))\n",
    "        return {\n",
    "            'trajectories': pc_trajectories,\n",
    "            'comparisons': np.asarray(comparisons),\n",
    "        }\n",
    "\n",
    "    comparison_dataset = generate_comparison_dataset(20)\n",
    "\n",
    "    top_K_expert = experts.TopKExpert(env, temp=.4, K=.05, seed=42)\n",
    "    def generate_topk_dataset(n_traj):\n",
    "        # def genereate_top_K_dataset(n_traj): \n",
    "        import random\n",
    "        rmodel = r_models.LinearRewardModel(env.obs_dim)\n",
    "        rmodel.set_params(env.reward_matrix)\n",
    "        traj = mce_irl.mce_irl_sample(env, n_traj, R=np.ones((env.n_states,)))\n",
    "        labels= top_K_expert.interact(traj, rmodel)\n",
    "\n",
    "        labels_final, traj_final = [], []\n",
    "        for l, t in zip(labels, traj['states']): \n",
    "            if not(l):\n",
    "                if random.random() < top_K_expert.K:#TODO if there are issues update this so that we balance our dataset.\n",
    "                    labels_final.append(l), traj_final.append(t)\n",
    "            else: \n",
    "                labels_final.append(l), traj_final.append(t)\n",
    "\n",
    "        labels_final = np.array([int(l) for l in labels_final])\n",
    "\n",
    "        return {\n",
    "            'trajectories':np.array(traj_final), \n",
    "            'labels':labels_final\n",
    "        }\n",
    "\n",
    "    top_K_dataset = generate_topk_dataset(1000)\n",
    "\n",
    "    import pref_bootstrap.feedback_learner_topk as fbl_topk\n",
    "    top_K_feedback_model = fbl_topk.TopKFeedbackModel(env)\n",
    "\n",
    "    rmodel = r_models.LinearRewardModel(env.obs_dim)\n",
    "    import jax\n",
    "    import jax.numpy as jnp\n",
    "\n",
    "    rng = jrandom.PRNGKey(23)\n",
    "    rng, top_K_bias_params = top_K_feedback_model.init_bias_params(rng)\n",
    "\n",
    "    model_list = [top_K_feedback_model, pc_feedback_model, irl_feedback_model]\n",
    "    data_list = [top_K_dataset, comparison_dataset, irl_dataset]\n",
    "    bias_list = [top_K_bias_params, pc_bias_params, irl_bias_params]\n",
    "    use_bias_list = [False, True, True]\n",
    "    rmodel = r_models.LinearRewardModel(env.obs_dim)\n",
    "    if opt_reward:\n",
    "        rmodel.set_params(env.reward_matrix)\n",
    "        \n",
    "    names = ['top_K', 'paired_comparisons', 'blind_irl']\n",
    "    \n",
    "    biases_actual = []\n",
    "    \n",
    "    # TOP K biases \n",
    "    biases_actual.append((top_K_expert.temp, top_K_expert.cutoff))\n",
    "    \n",
    "    # pc actual bias\n",
    "    biases_actual.append((pc_expert.boltz_temp))\n",
    "    \n",
    "    #blind irl actual bias\n",
    "    biases_actual.append((irl_bias_params))\n",
    "        \n",
    "    return model_list, data_list, rmodel, bias_list, use_bias_list, names, biases_actual"
   ]
  },
  {
   "cell_type": "code",
   "execution_count": 29,
   "metadata": {},
   "outputs": [
    {
     "name": "stdout",
     "output_type": "stream",
     "text": [
      "cutoff 6.0\n"
     ]
    },
    {
     "name": "stderr",
     "output_type": "stream",
     "text": [
      "/userdata/smetzger/gim/lib/python3.6/site-packages/jax/_src/lax/lax.py:6271: UserWarning: Explicitly requested dtype float64 requested in array is not available, and will be truncated to dtype float32. To enable more dtypes, set the jax_enable_x64 configuration option or the JAX_ENABLE_X64 shell environment variable. See https://github.com/google/jax#current-gotchas for more.\n",
      "  warnings.warn(msg.format(dtype, fun_name , truncated_dtype))\n"
     ]
    },
    {
     "name": "stdout",
     "output_type": "stream",
     "text": [
      "sampledvec [0.5868 7.5754]\n",
      "step 0 loss -10.124 model 0\n",
      "--- [-3.0799  7.2498]\n",
      "step 0 loss -0.693 model 1\n",
      "--- 0.0\n",
      "step 0 loss -8.581 model 2\n",
      "--- [9.9999e-01 1.0000e-05 1.0000e-05 1.0000e-05 9.9999e-01 9.9999e-01 3.3721e-01 6.2954e-01 1.0000e-05\n",
      " 1.0000e-05 9.9999e-01 1.0000e-05 9.9999e-01 1.0000e-05 9.9999e-01 1.0000e-05 1.0000e-05 1.0000e-05\n",
      " 1.0000e-05 9.9999e-01 9.9999e-01 9.9999e-01 1.0000e-05 9.9999e-01 9.9999e-01 1.0000e-05 1.0000e-05\n",
      " 9.9999e-01 1.0000e-05 9.9999e-01 9.9999e-01 9.9999e-01 9.9999e-01 1.0000e-05 1.0000e-05 9.9999e-01\n",
      " 9.9999e-01 1.0000e-05 9.9999e-01 1.0000e-05 1.0000e-05 1.0000e-05 1.0000e-05 9.9999e-01 6.9195e-01]\n",
      "step 100 loss -0.463 model 0\n",
      "--- [ 0.8102 -0.8149]\n",
      "step 100 loss -0.693 model 1\n",
      "--- 0.0\n",
      "step 100 loss -8.581 model 2\n",
      "--- [9.9999e-01 1.0000e-05 1.0000e-05 1.0000e-05 9.9999e-01 9.9999e-01 1.0000e-05 9.9999e-01 1.0000e-05\n",
      " 1.0000e-05 9.9999e-01 1.0000e-05 9.9999e-01 1.0000e-05 9.9999e-01 1.0000e-05 1.0000e-05 1.0000e-05\n",
      " 1.0000e-05 9.9999e-01 9.9999e-01 9.9999e-01 1.0000e-05 9.9999e-01 9.9999e-01 1.0000e-05 1.0000e-05\n",
      " 9.9999e-01 1.0000e-05 9.9999e-01 9.9999e-01 9.9999e-01 9.9999e-01 1.0000e-05 1.0000e-05 9.9999e-01\n",
      " 9.9999e-01 1.0000e-05 9.9999e-01 1.0000e-05 1.0000e-05 1.0000e-05 1.0000e-05 9.9999e-01 9.9999e-01]\n",
      "step 200 loss -0.463 model 0\n",
      "--- [ 0.7186 -0.939 ]\n",
      "step 200 loss -0.693 model 1\n",
      "--- 0.0\n",
      "step 200 loss -8.581 model 2\n",
      "--- [9.9999e-01 1.0000e-05 1.0000e-05 1.0000e-05 9.9999e-01 9.9999e-01 1.0000e-05 9.9999e-01 1.0000e-05\n",
      " 1.0000e-05 9.9999e-01 1.0000e-05 9.9999e-01 1.0000e-05 9.9999e-01 1.0000e-05 1.0000e-05 1.0000e-05\n",
      " 1.0000e-05 9.9999e-01 9.9999e-01 9.9999e-01 1.0000e-05 9.9999e-01 9.9999e-01 1.0000e-05 1.0000e-05\n",
      " 9.9999e-01 1.0000e-05 9.9999e-01 9.9999e-01 9.9999e-01 9.9999e-01 1.0000e-05 1.0000e-05 9.9999e-01\n",
      " 9.9999e-01 1.0000e-05 9.9999e-01 1.0000e-05 1.0000e-05 1.0000e-05 1.0000e-05 9.9999e-01 9.9999e-01]\n",
      "step 300 loss -0.463 model 0\n",
      "--- [ 0.6939 -0.9802]\n",
      "step 300 loss -0.693 model 1\n",
      "--- 0.0\n",
      "step 300 loss -8.581 model 2\n",
      "--- [9.9999e-01 1.0000e-05 1.0000e-05 1.0000e-05 9.9999e-01 9.9999e-01 1.0000e-05 9.9999e-01 1.0000e-05\n",
      " 1.0000e-05 9.9999e-01 1.0000e-05 9.9999e-01 1.0000e-05 9.9999e-01 1.0000e-05 1.0000e-05 1.0000e-05\n",
      " 1.0000e-05 9.9999e-01 9.9999e-01 9.9999e-01 1.0000e-05 9.9999e-01 9.9999e-01 1.0000e-05 1.0000e-05\n",
      " 9.9999e-01 1.0000e-05 9.9999e-01 9.9999e-01 9.9999e-01 9.9999e-01 1.0000e-05 1.0000e-05 9.9999e-01\n",
      " 9.9999e-01 1.0000e-05 9.9999e-01 1.0000e-05 1.0000e-05 1.0000e-05 1.0000e-05 9.9999e-01 9.9999e-01]\n",
      "step 400 loss -0.463 model 0\n",
      "--- [ 0.6859 -0.9943]\n",
      "step 400 loss -0.693 model 1\n",
      "--- 0.0\n",
      "step 400 loss -8.581 model 2\n",
      "--- [9.9999e-01 1.0000e-05 1.0000e-05 1.0000e-05 9.9999e-01 9.9999e-01 1.0000e-05 9.9999e-01 1.0000e-05\n",
      " 1.0000e-05 9.9999e-01 1.0000e-05 9.9999e-01 1.0000e-05 9.9999e-01 1.0000e-05 1.0000e-05 1.0000e-05\n",
      " 1.0000e-05 9.9999e-01 9.9999e-01 9.9999e-01 1.0000e-05 9.9999e-01 9.9999e-01 1.0000e-05 1.0000e-05\n",
      " 9.9999e-01 1.0000e-05 9.9999e-01 9.9999e-01 9.9999e-01 9.9999e-01 1.0000e-05 1.0000e-05 9.9999e-01\n",
      " 9.9999e-01 1.0000e-05 9.9999e-01 1.0000e-05 1.0000e-05 1.0000e-05 1.0000e-05 9.9999e-01 9.9999e-01]\n",
      "step 500 loss -0.463 model 0\n",
      "--- [ 0.6832 -0.9992]\n",
      "step 500 loss -0.693 model 1\n",
      "--- 0.0\n",
      "step 500 loss -8.581 model 2\n",
      "--- [9.9999e-01 1.0000e-05 1.0000e-05 1.0000e-05 9.9999e-01 9.9999e-01 1.0000e-05 9.9999e-01 1.0000e-05\n",
      " 1.0000e-05 9.9999e-01 1.0000e-05 9.9999e-01 1.0000e-05 9.9999e-01 1.0000e-05 1.0000e-05 1.0000e-05\n",
      " 1.0000e-05 9.9999e-01 9.9999e-01 9.9999e-01 1.0000e-05 9.9999e-01 9.9999e-01 1.0000e-05 1.0000e-05\n",
      " 9.9999e-01 1.0000e-05 9.9999e-01 9.9999e-01 9.9999e-01 9.9999e-01 1.0000e-05 1.0000e-05 9.9999e-01\n",
      " 9.9999e-01 1.0000e-05 9.9999e-01 1.0000e-05 1.0000e-05 1.0000e-05 1.0000e-05 9.9999e-01 9.9999e-01]\n",
      "step 600 loss -0.463 model 0\n",
      "--- [ 0.6823 -1.0009]\n",
      "step 600 loss -0.693 model 1\n",
      "--- 0.0\n",
      "step 600 loss -8.581 model 2\n",
      "--- [9.9999e-01 1.0000e-05 1.0000e-05 1.0000e-05 9.9999e-01 9.9999e-01 1.0000e-05 9.9999e-01 1.0000e-05\n",
      " 1.0000e-05 9.9999e-01 1.0000e-05 9.9999e-01 1.0000e-05 9.9999e-01 1.0000e-05 1.0000e-05 1.0000e-05\n",
      " 1.0000e-05 9.9999e-01 9.9999e-01 9.9999e-01 1.0000e-05 9.9999e-01 9.9999e-01 1.0000e-05 1.0000e-05\n",
      " 9.9999e-01 1.0000e-05 9.9999e-01 9.9999e-01 9.9999e-01 9.9999e-01 1.0000e-05 1.0000e-05 9.9999e-01\n",
      " 9.9999e-01 1.0000e-05 9.9999e-01 1.0000e-05 1.0000e-05 1.0000e-05 1.0000e-05 9.9999e-01 9.9999e-01]\n",
      "step 700 loss -0.463 model 0\n",
      "--- [ 0.6819 -1.0015]\n",
      "step 700 loss -0.693 model 1\n",
      "--- 0.0\n",
      "step 700 loss -8.581 model 2\n",
      "--- [9.9999e-01 1.0000e-05 1.0000e-05 1.0000e-05 9.9999e-01 9.9999e-01 1.0000e-05 9.9999e-01 1.0000e-05\n",
      " 1.0000e-05 9.9999e-01 1.0000e-05 9.9999e-01 1.0000e-05 9.9999e-01 1.0000e-05 1.0000e-05 1.0000e-05\n",
      " 1.0000e-05 9.9999e-01 9.9999e-01 9.9999e-01 1.0000e-05 9.9999e-01 9.9999e-01 1.0000e-05 1.0000e-05\n",
      " 9.9999e-01 1.0000e-05 9.9999e-01 9.9999e-01 9.9999e-01 9.9999e-01 1.0000e-05 1.0000e-05 9.9999e-01\n",
      " 9.9999e-01 1.0000e-05 9.9999e-01 1.0000e-05 1.0000e-05 1.0000e-05 1.0000e-05 9.9999e-01 9.9999e-01]\n",
      "step 800 loss -0.463 model 0\n",
      "--- [ 0.6818 -1.0017]\n",
      "step 800 loss -0.693 model 1\n",
      "--- 0.0\n",
      "step 800 loss -8.581 model 2\n",
      "--- [9.9999e-01 1.0000e-05 1.0000e-05 1.0000e-05 9.9999e-01 9.9999e-01 1.0000e-05 9.9999e-01 1.0000e-05\n",
      " 1.0000e-05 9.9999e-01 1.0000e-05 9.9999e-01 1.0000e-05 9.9999e-01 1.0000e-05 1.0000e-05 1.0000e-05\n",
      " 1.0000e-05 9.9999e-01 9.9999e-01 9.9999e-01 1.0000e-05 9.9999e-01 9.9999e-01 1.0000e-05 1.0000e-05\n",
      " 9.9999e-01 1.0000e-05 9.9999e-01 9.9999e-01 9.9999e-01 9.9999e-01 1.0000e-05 1.0000e-05 9.9999e-01\n",
      " 9.9999e-01 1.0000e-05 9.9999e-01 1.0000e-05 1.0000e-05 1.0000e-05 1.0000e-05 9.9999e-01 9.9999e-01]\n",
      "step 900 loss -0.463 model 0\n",
      "--- [ 0.6818 -1.0018]\n",
      "step 900 loss -0.693 model 1\n",
      "--- 0.0\n",
      "step 900 loss -8.581 model 2\n",
      "--- [9.9999e-01 1.0000e-05 1.0000e-05 1.0000e-05 9.9999e-01 9.9999e-01 1.0000e-05 9.9999e-01 1.0000e-05\n",
      " 1.0000e-05 9.9999e-01 1.0000e-05 9.9999e-01 1.0000e-05 9.9999e-01 1.0000e-05 1.0000e-05 1.0000e-05\n",
      " 1.0000e-05 9.9999e-01 9.9999e-01 9.9999e-01 1.0000e-05 9.9999e-01 9.9999e-01 1.0000e-05 1.0000e-05\n",
      " 9.9999e-01 1.0000e-05 9.9999e-01 9.9999e-01 9.9999e-01 9.9999e-01 1.0000e-05 1.0000e-05 9.9999e-01\n",
      " 9.9999e-01 1.0000e-05 9.9999e-01 1.0000e-05 1.0000e-05 1.0000e-05 1.0000e-05 9.9999e-01 9.9999e-01]\n"
     ]
    }
   ],
   "source": [
    "model_list, data_list, rmodel, bias_list, use_bias_list, names, _ = init_models(opt_reward=True)\n",
    "models, rmodel, biases = multi_optimize(model_list, data_list, rmodel, bias_list, use_bias_list, optimize_reward=False)"
   ]
  },
  {
   "cell_type": "code",
   "execution_count": 30,
   "metadata": {},
   "outputs": [
    {
     "data": {
      "image/png": "[encoded data removed]",
      "text/plain": [
       "<Figure size 432x288 with 1 Axes>"
      ]
     },
     "metadata": {
      "needs_background": "light"
     },
     "output_type": "display_data"
    },
    {
     "name": "stdout",
     "output_type": "stream",
     "text": [
      "Optimal state visitation frequencies for each grid cell:\n"
     ]
    },
    {
     "data": {
      "image/png": "[encoded data removed]",
      "text/plain": [
       "<Figure size 432x288 with 1 Axes>"
      ]
     },
     "metadata": {
      "needs_background": "light"
     },
     "output_type": "display_data"
    },
    {
     "name": "stdout",
     "output_type": "stream",
     "text": [
      "Inferred \n"
     ]
    },
    {
     "data": {
      "image/png": "[encoded data removed]",
      "text/plain": [
       "<Figure size 432x288 with 1 Axes>"
      ]
     },
     "metadata": {
      "needs_background": "light"
     },
     "output_type": "display_data"
    }
   ],
   "source": [
    "evaluate(rmodel)"
   ]
  },
  {
   "cell_type": "code",
   "execution_count": 31,
   "metadata": {},
   "outputs": [
    {
     "data": {
      "text/plain": [
       "Text(0.5,1,'Blind IRL')"
      ]
     },
     "execution_count": 31,
     "metadata": {},
     "output_type": "execute_result"
    },
    {
     "data": {
      "image/png": "[encoded data removed]",
      "text/plain": [
       "<Figure size 432x288 with 1 Axes>"
      ]
     },
     "metadata": {
      "needs_background": "light"
     },
     "output_type": "display_data"
    }
   ],
   "source": [
    "plt.plot(biases[-1], label=\"recovered\")\n",
    "plt.plot(irl_bias_params, label='Actual')\n",
    "plt.legend()\n",
    "plt.title('Blind IRL')"
   ]
  },
  {
   "cell_type": "code",
   "execution_count": 32,
   "metadata": {},
   "outputs": [],
   "source": [
    "# Plot the distribution of rewards and labels: \n",
    "def topK_dist(top_K_dataset): \n",
    "    states = top_K_dataset['trajectories']\n",
    "    flat_states = states.flatten()\n",
    "    all_fn_values = rmodel.get_params() #(self.env.observation_matrix)\n",
    "    rew_est = (all_fn_values[flat_states]) # hopefully jax can do this, if not...need 1-hot.\n",
    "    per_obs_rew  = jnp.reshape(rew_est, states.shape[:2] + rew_est.shape[1:])\n",
    "    per_traj_rew_est = jnp.sum(per_obs_rew, axis=1)\n",
    "    return per_traj_rew_est"
   ]
  },
  {
   "cell_type": "code",
   "execution_count": 33,
   "metadata": {},
   "outputs": [],
   "source": [
    "# Plot 1. Method comparison. \n",
    "model_list = [top_K_feedback_model, pc_feedback_model, irl_feedback_model]\n",
    "data_list = [top_K_dataset, comparison_dataset, irl_dataset]\n",
    "bias_list = [top_K_bias_params, pc_bias_params, irl_bias_params]\n",
    "use_bias_list = [False, True, True]\n",
    "rmodel = r_models.LinearRewardModel(env.obs_dim)\n",
    "rmodel.set_params(env.reward_matrix)"
   ]
  },
  {
   "cell_type": "code",
   "execution_count": 34,
   "metadata": {},
   "outputs": [],
   "source": [
    "import pandas as pd\n",
    "\n",
    "def get_rew(trajs, rmodel): \n",
    "    states = trajs['states']\n",
    "    flat_states = states.flatten()\n",
    "    all_fn_values = rmodel\n",
    "    rew_est = (all_fn_values[flat_states]) # hopefully jax can do this, if not...need 1-hot.\n",
    "    per_obs_rew  = jnp.reshape(rew_est, states.shape[:2] + rew_est.shape[1:])\n",
    "    per_traj_rew_est = jnp.sum(per_obs_rew, axis=1)\n",
    "    return np.mean(per_traj_rew_est)\n",
    "\n",
    "def evaluate_full(rmodel): \n",
    "    _, om = mce_irl.mce_occupancy_measures(env, R=rmodel.get_params())\n",
    "    trajs = mce_irl.mce_irl_sample(env, 100, R=rmodel.get_params())\n",
    "    rews = get_rew(trajs, rmodel.get_params())\n",
    "\n",
    "    \n",
    "    return rmodel.get_params(), rews, om"
   ]
  },
  {
   "cell_type": "code",
   "execution_count": 35,
   "metadata": {},
   "outputs": [
    {
     "name": "stdout",
     "output_type": "stream",
     "text": [
      "cutoff 6.0\n"
     ]
    },
    {
     "name": "stderr",
     "output_type": "stream",
     "text": [
      "/userdata/smetzger/gim/lib/python3.6/site-packages/jax/_src/lax/lax.py:6271: UserWarning: Explicitly requested dtype float64 requested in array is not available, and will be truncated to dtype float32. To enable more dtypes, set the jax_enable_x64 configuration option or the JAX_ENABLE_X64 shell environment variable. See https://github.com/google/jax#current-gotchas for more.\n",
      "  warnings.warn(msg.format(dtype, fun_name , truncated_dtype))\n"
     ]
    },
    {
     "name": "stdout",
     "output_type": "stream",
     "text": [
      "sampledvec [0.5868 7.5754]\n",
      "step 0 loss -5.517\n",
      "step 100 loss -0.589\n",
      "step 200 loss -0.588\n",
      "step 300 loss -0.587\n",
      "step 400 loss -0.586\n",
      "step 500 loss -0.586\n",
      "step 600 loss -0.585\n",
      "step 700 loss -0.584\n",
      "step 800 loss -0.583\n",
      "step 900 loss -0.582\n",
      "terminated due to delta\n",
      "step 0 loss -1.961\n",
      "step 100 loss -0.672\n",
      "step 200 loss -0.671\n",
      "step 300 loss -0.670\n",
      "step 400 loss -0.670\n",
      "step 500 loss -0.669\n",
      "step 600 loss -0.669\n",
      "step 700 loss -0.668\n",
      "step 800 loss -0.667\n",
      "step 900 loss -0.666\n",
      "terminated due to delta\n",
      "step 0 loss -18.319\n",
      "step 100 loss -9.189\n",
      "step 200 loss -9.108\n",
      "step 300 loss -9.072\n",
      "step 400 loss -9.050\n",
      "step 500 loss -9.036\n",
      "step 600 loss -9.025\n",
      "step 700 loss -9.017\n",
      "step 800 loss -9.010\n",
      "step 900 loss -9.004\n",
      "terminated due to delta\n",
      "cutoff 6.0\n",
      "sampledvec [0.5868 7.5754]\n",
      "step 0 loss -2.691\n",
      "step 100 loss -0.607\n",
      "step 200 loss -0.602\n",
      "step 300 loss -0.596\n",
      "step 400 loss -0.591\n",
      "step 500 loss -0.585\n",
      "step 600 loss -0.579\n",
      "step 700 loss -0.574\n",
      "step 800 loss -0.568\n",
      "step 900 loss -0.563\n",
      "terminated due to delta\n",
      "step 0 loss -2.004\n",
      "step 100 loss -0.692\n",
      "step 200 loss -0.692\n",
      "step 300 loss -0.692\n",
      "step 400 loss -0.691\n",
      "step 500 loss -0.691\n",
      "step 600 loss -0.691\n",
      "step 700 loss -0.691\n",
      "step 800 loss -0.691\n",
      "step 900 loss -0.691\n",
      "terminated due to delta\n",
      "step 0 loss -34.703\n",
      "step 100 loss -8.960\n",
      "step 200 loss -8.798\n",
      "step 300 loss -8.735\n",
      "step 400 loss -8.699\n",
      "step 500 loss -8.674\n",
      "step 600 loss -8.657\n",
      "step 700 loss -8.643\n",
      "step 800 loss -8.633\n",
      "step 900 loss -8.624\n",
      "terminated due to delta\n",
      "cutoff 6.0\n",
      "sampledvec [0.5868 7.5754]\n",
      "step 0 loss -2.616\n",
      "step 100 loss -0.613\n",
      "step 200 loss -0.598\n",
      "step 300 loss -0.584\n",
      "step 400 loss -0.573\n",
      "step 500 loss -0.564\n",
      "step 600 loss -0.558\n",
      "step 700 loss -0.553\n",
      "step 800 loss -0.549\n",
      "step 900 loss -0.546\n",
      "terminated due to delta\n",
      "step 0 loss -1.316\n",
      "step 100 loss -0.693\n",
      "step 200 loss -0.693\n",
      "step 300 loss -0.693\n",
      "step 400 loss -0.693\n",
      "step 500 loss -0.693\n",
      "step 600 loss -0.693\n",
      "step 700 loss -0.693\n",
      "step 800 loss -0.693\n",
      "step 900 loss -0.693\n",
      "terminated due to delta\n",
      "step 0 loss -20.380\n",
      "step 100 loss -8.914\n",
      "step 200 loss -8.790\n",
      "step 300 loss -8.732\n",
      "step 400 loss -8.697\n",
      "step 500 loss -8.673\n",
      "step 600 loss -8.656\n",
      "step 700 loss -8.642\n",
      "step 800 loss -8.632\n",
      "step 900 loss -8.623\n",
      "terminated due to delta\n",
      "cutoff 4.0\n",
      "sampledvec [0.5868 7.5754]\n",
      "step 0 loss -4.060\n",
      "step 100 loss -0.446\n",
      "step 200 loss -0.438\n",
      "step 300 loss -0.432\n",
      "step 400 loss -0.427\n",
      "step 500 loss -0.423\n",
      "step 600 loss -0.420\n",
      "step 700 loss -0.418\n",
      "step 800 loss -0.415\n",
      "step 900 loss -0.413\n",
      "terminated due to delta\n",
      "step 0 loss -2.285\n",
      "step 100 loss -0.690\n",
      "step 200 loss -0.689\n",
      "step 300 loss -0.689\n",
      "step 400 loss -0.689\n",
      "step 500 loss -0.689\n",
      "step 600 loss -0.689\n",
      "step 700 loss -0.689\n",
      "step 800 loss -0.689\n",
      "step 900 loss -0.688\n",
      "terminated due to delta\n",
      "step 0 loss -19.232\n",
      "step 100 loss -9.651\n",
      "step 200 loss -9.491\n",
      "step 300 loss -9.416\n",
      "step 400 loss -9.370\n",
      "step 500 loss -9.338\n",
      "step 600 loss -9.314\n",
      "step 700 loss -9.296\n",
      "step 800 loss -9.281\n",
      "step 900 loss -9.269\n",
      "terminated due to delta\n",
      "cutoff 6.0\n",
      "sampledvec [0.5868 7.5754]\n",
      "step 0 loss -3.116\n",
      "step 100 loss -0.583\n",
      "step 200 loss -0.578\n",
      "step 300 loss -0.574\n",
      "step 400 loss -0.570\n",
      "step 500 loss -0.566\n",
      "step 600 loss -0.563\n",
      "step 700 loss -0.559\n",
      "step 800 loss -0.556\n",
      "step 900 loss -0.553\n",
      "terminated due to delta\n",
      "step 0 loss -1.924\n",
      "step 100 loss -0.693\n",
      "step 200 loss -0.693\n",
      "step 300 loss -0.693\n",
      "step 400 loss -0.693\n",
      "step 500 loss -0.693\n",
      "step 600 loss -0.693\n",
      "step 700 loss -0.693\n",
      "step 800 loss -0.693\n",
      "step 900 loss -0.693\n",
      "terminated due to delta\n",
      "step 0 loss -28.581\n",
      "step 100 loss -8.906\n",
      "step 200 loss -8.782\n",
      "step 300 loss -8.726\n",
      "step 400 loss -8.692\n",
      "step 500 loss -8.669\n",
      "step 600 loss -8.653\n",
      "step 700 loss -8.640\n",
      "step 800 loss -8.630\n",
      "step 900 loss -8.621\n",
      "terminated due to delta\n"
     ]
    }
   ],
   "source": [
    "biases_recovered, biases_actual, recovered_reward, mean_reward_obtained, obs_obtained, method, fold = [],[],[],[],[],[], []\n",
    "\n",
    "for _ in range(5): \n",
    "    \n",
    "    # eval each method\n",
    "        # reset reward_model\n",
    "        \n",
    "    model_list, data_list, rmodel, bias_list, use_bias_list, names, biases_actual = init_models()\n",
    "    use_bias_list = [False, True, True]\n",
    "    for model, dataset, bias_params, ub, name, b_actual in zip(model_list, data_list, bias_list, use_bias_list, names, biases_actual):     \n",
    "        rmodel = r_models.LinearRewardModel(env.obs_dim)\n",
    "        _, rmodel, bias_p_recovered = trad_optimize(model, dataset, rmodel, bias_params, use_bias_prior=ub)\n",
    "        \n",
    "        recovered_reward_vec, mean_reward, obs_f = evaluate_full(rmodel)\n",
    "        \n",
    "        biases_recovered.append(bias_p_recovered)\n",
    "        biases_actual.append(b_actual)\n",
    "        recovered_reward.append(recovered_reward_vec)\n",
    "        mean_reward_obtained.append(mean_reward)\n",
    "        obs_obtained.append(obs_f)\n",
    "        method.append(name)\n",
    "        fold.append(_)\n",
    "        "
   ]
  },
  {
   "cell_type": "code",
   "execution_count": 36,
   "metadata": {},
   "outputs": [],
   "source": [
    "rmodel.set_params(env.reward_matrix)\n",
    "r, mean_rew_opt, obs_f = evaluate_full(rmodel)\n",
    "obs_optimal = [obs_f]*len(method)\n",
    "optimal_rew = [mean_rew_opt]*len(method)\n",
    "real_rew = [r]*len(method)\n"
   ]
  },
  {
   "cell_type": "code",
   "execution_count": 37,
   "metadata": {},
   "outputs": [
    {
     "name": "stdout",
     "output_type": "stream",
     "text": [
      "15 15 15 15 15 15 6\n"
     ]
    }
   ],
   "source": [
    "print(len(biases_recovered), len(real_rew), len(recovered_reward), len(mean_reward_obtained), \n",
    "     len(obs_obtained), len(optimal_rew), len(biases_actual))\n",
    "res = pd.DataFrame({\n",
    "    'biases_recoverd':biases_recovered, \n",
    "    'recovered_reward':recovered_reward,\n",
    "    'mean_reward_obtained':mean_reward_obtained,\n",
    "    'obs_obtained':obs_obtained,\n",
    "    'obs_optimal':obs_optimal, \n",
    "    'optimal_rew':optimal_rew, \n",
    "    'method':method\n",
    "})\n",
    "        "
   ]
  },
  {
   "cell_type": "code",
   "execution_count": null,
   "metadata": {},
   "outputs": [],
   "source": []
  },
  {
   "cell_type": "code",
   "execution_count": null,
   "metadata": {},
   "outputs": [],
   "source": []
  },
  {
   "cell_type": "code",
   "execution_count": 38,
   "metadata": {},
   "outputs": [],
   "source": [
    "import seaborn as sns"
   ]
  },
  {
   "cell_type": "code",
   "execution_count": 42,
   "metadata": {},
   "outputs": [
    {
     "data": {
      "image/png": "[encoded data removed]",
      "text/plain": [
       "<Figure size 432x288 with 1 Axes>"
      ]
     },
     "metadata": {
      "needs_background": "light"
     },
     "output_type": "display_data"
    }
   ],
   "source": [
    "sns.barplot(x='method', y='mean_reward_obtained', data=res)\n",
    "plt.axhline(optimal_rew[0], label='optimal rew')\n",
    "plt.legend()\n",
    "plt.savefig('./images/init_results_linear_modded.png')"
   ]
  },
  {
   "cell_type": "code",
   "execution_count": 40,
   "metadata": {},
   "outputs": [
    {
     "data": {
      "text/html": [
       "<div>\n",
       "<style scoped>\n",
       "    .dataframe tbody tr th:only-of-type {\n",
       "        vertical-align: middle;\n",
       "    }\n",
       "\n",
       "    .dataframe tbody tr th {\n",
       "        vertical-align: top;\n",
       "    }\n",
       "\n",
       "    .dataframe thead th {\n",
       "        text-align: right;\n",
       "    }\n",
       "</style>\n",
       "<table border=\"1\" class=\"dataframe\">\n",
       "  <thead>\n",
       "    <tr style=\"text-align: right;\">\n",
       "      <th></th>\n",
       "      <th>biases_recoverd</th>\n",
       "      <th>recovered_reward</th>\n",
       "      <th>mean_reward_obtained</th>\n",
       "      <th>obs_obtained</th>\n",
       "      <th>obs_optimal</th>\n",
       "      <th>optimal_rew</th>\n",
       "      <th>method</th>\n",
       "    </tr>\n",
       "  </thead>\n",
       "  <tbody>\n",
       "    <tr>\n",
       "      <th>0</th>\n",
       "      <td>[-0.06425522, 7.5700493]</td>\n",
       "      <td>[-0.7221801, -0.01383332, -0.050621584, 0.1033...</td>\n",
       "      <td>9.027928</td>\n",
       "      <td>[0.0, 0.0, 0.0, 0.0, 0.0, 0.0, 0.0, 0.0, 0.0, ...</td>\n",
       "      <td>[0.0, 0.0, 0.0, 0.0, 0.0, 0.0, 0.0, 0.0, 0.0, ...</td>\n",
       "      <td>61.29</td>\n",
       "      <td>top_K</td>\n",
       "    </tr>\n",
       "    <tr>\n",
       "      <th>1</th>\n",
       "      <td>0.019776309</td>\n",
       "      <td>[0.37167102, 0.461152, -1.0135255, 0.5871777, ...</td>\n",
       "      <td>19.593683</td>\n",
       "      <td>[0.0, 0.0, 0.0, 0.0, 0.0, 0.0, 0.0, 0.0, 0.0, ...</td>\n",
       "      <td>[0.0, 0.0, 0.0, 0.0, 0.0, 0.0, 0.0, 0.0, 0.0, ...</td>\n",
       "      <td>61.29</td>\n",
       "      <td>paired_comparisons</td>\n",
       "    </tr>\n",
       "    <tr>\n",
       "      <th>2</th>\n",
       "      <td>[0.99999, 1e-05, 1e-05, 1e-05, 0.99999, 0.9999...</td>\n",
       "      <td>[0.4982558, 1.8156606, 2.0355377, -0.9967099, ...</td>\n",
       "      <td>26.344639</td>\n",
       "      <td>[0.0, 0.0, 0.0, 0.0, 0.0, 0.0, 0.0, 0.0, 0.0, ...</td>\n",
       "      <td>[0.0, 0.0, 0.0, 0.0, 0.0, 0.0, 0.0, 0.0, 0.0, ...</td>\n",
       "      <td>61.29</td>\n",
       "      <td>blind_irl</td>\n",
       "    </tr>\n",
       "    <tr>\n",
       "      <th>3</th>\n",
       "      <td>[-0.20552002, 7.576166]</td>\n",
       "      <td>[-1.1698575, 0.63819927, 0.5972021, -1.5374672...</td>\n",
       "      <td>11.180447</td>\n",
       "      <td>[0.0, 0.0, 0.0, 0.0, 0.0, 0.0, 0.0, 0.0, 0.0, ...</td>\n",
       "      <td>[0.0, 0.0, 0.0, 0.0, 0.0, 0.0, 0.0, 0.0, 0.0, ...</td>\n",
       "      <td>61.29</td>\n",
       "      <td>top_K</td>\n",
       "    </tr>\n",
       "    <tr>\n",
       "      <th>4</th>\n",
       "      <td>0.0018446958</td>\n",
       "      <td>[-0.9711386, 0.0137722595, -1.3939564, 0.73992...</td>\n",
       "      <td>17.082067</td>\n",
       "      <td>[0.0, 0.0, 0.0, 0.0, 0.0, 0.0, 0.0, 0.0, 0.0, ...</td>\n",
       "      <td>[0.0, 0.0, 0.0, 0.0, 0.0, 0.0, 0.0, 0.0, 0.0, ...</td>\n",
       "      <td>61.29</td>\n",
       "      <td>paired_comparisons</td>\n",
       "    </tr>\n",
       "    <tr>\n",
       "      <th>5</th>\n",
       "      <td>[0.99999, 1e-05, 1e-05, 1e-05, 0.99999, 0.9999...</td>\n",
       "      <td>[-1.8221484, 1.0407585, -0.30087274, 0.3770436...</td>\n",
       "      <td>25.702393</td>\n",
       "      <td>[0.0, 0.0, 0.0, 0.0, 0.0, 0.0, 0.0, 0.0, 0.0, ...</td>\n",
       "      <td>[0.0, 0.0, 0.0, 0.0, 0.0, 0.0, 0.0, 0.0, 0.0, ...</td>\n",
       "      <td>61.29</td>\n",
       "      <td>blind_irl</td>\n",
       "    </tr>\n",
       "    <tr>\n",
       "      <th>6</th>\n",
       "      <td>[-0.14505814, 7.6692195]</td>\n",
       "      <td>[0.1569051, -0.40442201, 0.77840203, -2.630527...</td>\n",
       "      <td>15.061328</td>\n",
       "      <td>[0.0, 0.0, 0.0, 0.0, 0.0, 0.0, 0.0, 0.0, 0.0, ...</td>\n",
       "      <td>[0.0, 0.0, 0.0, 0.0, 0.0, 0.0, 0.0, 0.0, 0.0, ...</td>\n",
       "      <td>61.29</td>\n",
       "      <td>top_K</td>\n",
       "    </tr>\n",
       "    <tr>\n",
       "      <th>7</th>\n",
       "      <td>0.0</td>\n",
       "      <td>[-0.59511614, -0.39289147, -0.060629956, -1.89...</td>\n",
       "      <td>10.774458</td>\n",
       "      <td>[0.0, 0.0, 0.0, 0.0, 0.0, 0.0, 0.0, 0.0, 0.0, ...</td>\n",
       "      <td>[0.0, 0.0, 0.0, 0.0, 0.0, 0.0, 0.0, 0.0, 0.0, ...</td>\n",
       "      <td>61.29</td>\n",
       "      <td>paired_comparisons</td>\n",
       "    </tr>\n",
       "    <tr>\n",
       "      <th>8</th>\n",
       "      <td>[0.99999, 1e-05, 1e-05, 1e-05, 0.99999, 0.9999...</td>\n",
       "      <td>[-0.76310456, -0.7318633, 0.15464628, 0.240096...</td>\n",
       "      <td>24.619976</td>\n",
       "      <td>[0.0, 0.0, 0.0, 0.0, 0.0, 0.0, 0.0, 0.0, 0.0, ...</td>\n",
       "      <td>[0.0, 0.0, 0.0, 0.0, 0.0, 0.0, 0.0, 0.0, 0.0, ...</td>\n",
       "      <td>61.29</td>\n",
       "      <td>blind_irl</td>\n",
       "    </tr>\n",
       "    <tr>\n",
       "      <th>9</th>\n",
       "      <td>[-0.17655385, 7.632902]</td>\n",
       "      <td>[-0.63919973, -0.8166343, -0.29417995, 1.12963...</td>\n",
       "      <td>3.8421478</td>\n",
       "      <td>[0.0, 0.0, 0.0, 0.0, 0.0, 0.0, 0.0, 0.0, 0.0, ...</td>\n",
       "      <td>[0.0, 0.0, 0.0, 0.0, 0.0, 0.0, 0.0, 0.0, 0.0, ...</td>\n",
       "      <td>61.29</td>\n",
       "      <td>top_K</td>\n",
       "    </tr>\n",
       "    <tr>\n",
       "      <th>10</th>\n",
       "      <td>0.004534912</td>\n",
       "      <td>[0.3700892, 1.3180528, -0.37506714, 0.6222666,...</td>\n",
       "      <td>8.635064</td>\n",
       "      <td>[0.0, 0.0, 0.0, 0.0, 0.0, 0.0, 0.0, 0.0, 0.0, ...</td>\n",
       "      <td>[0.0, 0.0, 0.0, 0.0, 0.0, 0.0, 0.0, 0.0, 0.0, ...</td>\n",
       "      <td>61.29</td>\n",
       "      <td>paired_comparisons</td>\n",
       "    </tr>\n",
       "    <tr>\n",
       "      <th>11</th>\n",
       "      <td>[0.99999, 1e-05, 1e-05, 1e-05, 0.99999, 0.9999...</td>\n",
       "      <td>[1.0331426, 0.66061616, 0.90413016, 0.7033234,...</td>\n",
       "      <td>16.22329</td>\n",
       "      <td>[0.0, 0.0, 0.0, 0.0, 0.0, 0.0, 0.0, 0.0, 0.0, ...</td>\n",
       "      <td>[0.0, 0.0, 0.0, 0.0, 0.0, 0.0, 0.0, 0.0, 0.0, ...</td>\n",
       "      <td>61.29</td>\n",
       "      <td>blind_irl</td>\n",
       "    </tr>\n",
       "    <tr>\n",
       "      <th>12</th>\n",
       "      <td>[-0.14856912, 7.5801697]</td>\n",
       "      <td>[-1.0366005, 0.13903907, -0.10702228, 1.179592...</td>\n",
       "      <td>11.068435</td>\n",
       "      <td>[0.0, 0.0, 0.0, 0.0, 0.0, 0.0, 0.0, 0.0, 0.0, ...</td>\n",
       "      <td>[0.0, 0.0, 0.0, 0.0, 0.0, 0.0, 0.0, 0.0, 0.0, ...</td>\n",
       "      <td>61.29</td>\n",
       "      <td>top_K</td>\n",
       "    </tr>\n",
       "    <tr>\n",
       "      <th>13</th>\n",
       "      <td>0.0</td>\n",
       "      <td>[0.02322043, 0.029013878, 1.6183153, -0.813362...</td>\n",
       "      <td>1.3579221</td>\n",
       "      <td>[0.0, 0.0, 0.0, 0.0, 0.0, 0.0, 0.0, 0.0, 0.0, ...</td>\n",
       "      <td>[0.0, 0.0, 0.0, 0.0, 0.0, 0.0, 0.0, 0.0, 0.0, ...</td>\n",
       "      <td>61.29</td>\n",
       "      <td>paired_comparisons</td>\n",
       "    </tr>\n",
       "    <tr>\n",
       "      <th>14</th>\n",
       "      <td>[0.99999, 1e-05, 1e-05, 1e-05, 0.99999, 0.9999...</td>\n",
       "      <td>[0.285511, 0.99935484, 0.9489583, -1.301356, 1...</td>\n",
       "      <td>26.25748</td>\n",
       "      <td>[0.0, 0.0, 0.0, 0.0, 0.0, 0.0, 0.0, 0.0, 0.0, ...</td>\n",
       "      <td>[0.0, 0.0, 0.0, 0.0, 0.0, 0.0, 0.0, 0.0, 0.0, ...</td>\n",
       "      <td>61.29</td>\n",
       "      <td>blind_irl</td>\n",
       "    </tr>\n",
       "  </tbody>\n",
       "</table>\n",
       "</div>"
      ],
      "text/plain": [
       "                                      biases_recoverd  \\\n",
       "0                            [-0.06425522, 7.5700493]   \n",
       "1                                         0.019776309   \n",
       "2   [0.99999, 1e-05, 1e-05, 1e-05, 0.99999, 0.9999...   \n",
       "3                             [-0.20552002, 7.576166]   \n",
       "4                                        0.0018446958   \n",
       "5   [0.99999, 1e-05, 1e-05, 1e-05, 0.99999, 0.9999...   \n",
       "6                            [-0.14505814, 7.6692195]   \n",
       "7                                                 0.0   \n",
       "8   [0.99999, 1e-05, 1e-05, 1e-05, 0.99999, 0.9999...   \n",
       "9                             [-0.17655385, 7.632902]   \n",
       "10                                        0.004534912   \n",
       "11  [0.99999, 1e-05, 1e-05, 1e-05, 0.99999, 0.9999...   \n",
       "12                           [-0.14856912, 7.5801697]   \n",
       "13                                                0.0   \n",
       "14  [0.99999, 1e-05, 1e-05, 1e-05, 0.99999, 0.9999...   \n",
       "\n",
       "                                     recovered_reward mean_reward_obtained  \\\n",
       "0   [-0.7221801, -0.01383332, -0.050621584, 0.1033...             9.027928   \n",
       "1   [0.37167102, 0.461152, -1.0135255, 0.5871777, ...            19.593683   \n",
       "2   [0.4982558, 1.8156606, 2.0355377, -0.9967099, ...            26.344639   \n",
       "3   [-1.1698575, 0.63819927, 0.5972021, -1.5374672...            11.180447   \n",
       "4   [-0.9711386, 0.0137722595, -1.3939564, 0.73992...            17.082067   \n",
       "5   [-1.8221484, 1.0407585, -0.30087274, 0.3770436...            25.702393   \n",
       "6   [0.1569051, -0.40442201, 0.77840203, -2.630527...            15.061328   \n",
       "7   [-0.59511614, -0.39289147, -0.060629956, -1.89...            10.774458   \n",
       "8   [-0.76310456, -0.7318633, 0.15464628, 0.240096...            24.619976   \n",
       "9   [-0.63919973, -0.8166343, -0.29417995, 1.12963...            3.8421478   \n",
       "10  [0.3700892, 1.3180528, -0.37506714, 0.6222666,...             8.635064   \n",
       "11  [1.0331426, 0.66061616, 0.90413016, 0.7033234,...             16.22329   \n",
       "12  [-1.0366005, 0.13903907, -0.10702228, 1.179592...            11.068435   \n",
       "13  [0.02322043, 0.029013878, 1.6183153, -0.813362...            1.3579221   \n",
       "14  [0.285511, 0.99935484, 0.9489583, -1.301356, 1...             26.25748   \n",
       "\n",
       "                                         obs_obtained  \\\n",
       "0   [0.0, 0.0, 0.0, 0.0, 0.0, 0.0, 0.0, 0.0, 0.0, ...   \n",
       "1   [0.0, 0.0, 0.0, 0.0, 0.0, 0.0, 0.0, 0.0, 0.0, ...   \n",
       "2   [0.0, 0.0, 0.0, 0.0, 0.0, 0.0, 0.0, 0.0, 0.0, ...   \n",
       "3   [0.0, 0.0, 0.0, 0.0, 0.0, 0.0, 0.0, 0.0, 0.0, ...   \n",
       "4   [0.0, 0.0, 0.0, 0.0, 0.0, 0.0, 0.0, 0.0, 0.0, ...   \n",
       "5   [0.0, 0.0, 0.0, 0.0, 0.0, 0.0, 0.0, 0.0, 0.0, ...   \n",
       "6   [0.0, 0.0, 0.0, 0.0, 0.0, 0.0, 0.0, 0.0, 0.0, ...   \n",
       "7   [0.0, 0.0, 0.0, 0.0, 0.0, 0.0, 0.0, 0.0, 0.0, ...   \n",
       "8   [0.0, 0.0, 0.0, 0.0, 0.0, 0.0, 0.0, 0.0, 0.0, ...   \n",
       "9   [0.0, 0.0, 0.0, 0.0, 0.0, 0.0, 0.0, 0.0, 0.0, ...   \n",
       "10  [0.0, 0.0, 0.0, 0.0, 0.0, 0.0, 0.0, 0.0, 0.0, ...   \n",
       "11  [0.0, 0.0, 0.0, 0.0, 0.0, 0.0, 0.0, 0.0, 0.0, ...   \n",
       "12  [0.0, 0.0, 0.0, 0.0, 0.0, 0.0, 0.0, 0.0, 0.0, ...   \n",
       "13  [0.0, 0.0, 0.0, 0.0, 0.0, 0.0, 0.0, 0.0, 0.0, ...   \n",
       "14  [0.0, 0.0, 0.0, 0.0, 0.0, 0.0, 0.0, 0.0, 0.0, ...   \n",
       "\n",
       "                                          obs_optimal optimal_rew  \\\n",
       "0   [0.0, 0.0, 0.0, 0.0, 0.0, 0.0, 0.0, 0.0, 0.0, ...       61.29   \n",
       "1   [0.0, 0.0, 0.0, 0.0, 0.0, 0.0, 0.0, 0.0, 0.0, ...       61.29   \n",
       "2   [0.0, 0.0, 0.0, 0.0, 0.0, 0.0, 0.0, 0.0, 0.0, ...       61.29   \n",
       "3   [0.0, 0.0, 0.0, 0.0, 0.0, 0.0, 0.0, 0.0, 0.0, ...       61.29   \n",
       "4   [0.0, 0.0, 0.0, 0.0, 0.0, 0.0, 0.0, 0.0, 0.0, ...       61.29   \n",
       "5   [0.0, 0.0, 0.0, 0.0, 0.0, 0.0, 0.0, 0.0, 0.0, ...       61.29   \n",
       "6   [0.0, 0.0, 0.0, 0.0, 0.0, 0.0, 0.0, 0.0, 0.0, ...       61.29   \n",
       "7   [0.0, 0.0, 0.0, 0.0, 0.0, 0.0, 0.0, 0.0, 0.0, ...       61.29   \n",
       "8   [0.0, 0.0, 0.0, 0.0, 0.0, 0.0, 0.0, 0.0, 0.0, ...       61.29   \n",
       "9   [0.0, 0.0, 0.0, 0.0, 0.0, 0.0, 0.0, 0.0, 0.0, ...       61.29   \n",
       "10  [0.0, 0.0, 0.0, 0.0, 0.0, 0.0, 0.0, 0.0, 0.0, ...       61.29   \n",
       "11  [0.0, 0.0, 0.0, 0.0, 0.0, 0.0, 0.0, 0.0, 0.0, ...       61.29   \n",
       "12  [0.0, 0.0, 0.0, 0.0, 0.0, 0.0, 0.0, 0.0, 0.0, ...       61.29   \n",
       "13  [0.0, 0.0, 0.0, 0.0, 0.0, 0.0, 0.0, 0.0, 0.0, ...       61.29   \n",
       "14  [0.0, 0.0, 0.0, 0.0, 0.0, 0.0, 0.0, 0.0, 0.0, ...       61.29   \n",
       "\n",
       "                method  \n",
       "0                top_K  \n",
       "1   paired_comparisons  \n",
       "2            blind_irl  \n",
       "3                top_K  \n",
       "4   paired_comparisons  \n",
       "5            blind_irl  \n",
       "6                top_K  \n",
       "7   paired_comparisons  \n",
       "8            blind_irl  \n",
       "9                top_K  \n",
       "10  paired_comparisons  \n",
       "11           blind_irl  \n",
       "12               top_K  \n",
       "13  paired_comparisons  \n",
       "14           blind_irl  "
      ]
     },
     "execution_count": 40,
     "metadata": {},
     "output_type": "execute_result"
    }
   ],
   "source": [
    "res"
   ]
  },
  {
   "cell_type": "code",
   "execution_count": 41,
   "metadata": {},
   "outputs": [],
   "source": [
    "from datetime import datetime\n",
    "\n",
    "now = datetime.now()\n",
    "ts = now.strftime('%Y_%m_%d_%H_%M_%S')\n",
    "\n",
    "\n",
    "res.to_pickle('./results/hard_world_compare_%s.pkl' %ts)"
   ]
  },
  {
   "cell_type": "code",
   "execution_count": null,
   "metadata": {},
   "outputs": [],
   "source": [
    "v =  res['obs_obtained'].values"
   ]
  },
  {
   "cell_type": "code",
   "execution_count": null,
   "metadata": {},
   "outputs": [],
   "source": []
  }
 ],
 "metadata": {
  "kernelspec": {
   "display_name": "Python 3",
   "language": "python",
   "name": "python3"
  },
  "language_info": {
   "codemirror_mode": {
    "name": "ipython",
    "version": 3
   },
   "file_extension": ".py",
   "mimetype": "text/x-python",
   "name": "python",
   "nbconvert_exporter": "python",
   "pygments_lexer": "ipython3",
   "version": "3.6.6"
  }
 },
 "nbformat": 4,
 "nbformat_minor": 4
}
