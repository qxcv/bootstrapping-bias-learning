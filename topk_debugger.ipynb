{
 "cells": [
  {
   "cell_type": "markdown",
   "metadata": {},
   "source": [
    "# Bias model bootstrapping notebook\n",
    "\n",
    "Eventually this notebook will (hopefully?) contain all the code necessary to run our final experiments.\n",
    "For now it just contains a demo of MCE IRL on some gridworlds from the \"learning biases\" paper.\n",
    "\n",
    "First we have some not-very-interesting setup:"
   ]
  },
  {
   "cell_type": "code",
   "execution_count": 2,
   "metadata": {},
   "outputs": [],
   "source": [
    "%matplotlib inline\n",
    "\n",
    "# These are useful for debugging, but make code slower:\n",
    "%load_ext autoreload\n",
    "%autoreload 2\n",
    "\n",
    "import logging\n",
    "\n",
    "import numpy as np\n",
    "import matplotlib.pyplot as plt\n",
    "import pandas as pd\n",
    "import seaborn as sns\n",
    "import jax\n",
    "import jax.experimental.optimizers as jopt\n",
    "import jax.random as jrandom\n",
    "import numpy as np\n",
    "\n",
    "from pref_bootstrap.envs import gridworld, mdp_interface\n",
    "from pref_bootstrap.algos import mce_irl\n",
    "import pref_bootstrap.feedback_learner_blind_irl as fbl_blind_irl\n",
    "import pref_bootstrap.feedback_learner_paired_comparisons as fbl_paired_comp\n",
    "import pref_bootstrap.reward_models as r_models\n",
    "import pref_bootstrap.expert_base as experts\n",
    "\n",
    "sns.set(context='notebook', style='darkgrid')\n",
    "logging.basicConfig(level=logging.INFO)\n",
    "np.set_printoptions(precision=4, linewidth=100)"
   ]
  },
  {
   "cell_type": "markdown",
   "metadata": {},
   "source": [
    "## Very simple example of using environments and MCE IRL code\n",
    "\n",
    "This code doesn't use the new agent API"
   ]
  },
  {
   "cell_type": "code",
   "execution_count": 3,
   "metadata": {},
   "outputs": [],
   "source": [
    "random_gridworld = gridworld.GridworldMdp.generate_random(4, 4, 0.2, 0.1)\n",
    "env = mdp_interface.GridworldEnvWrapper(random_gridworld, random_gridworld.height + random_gridworld.width)"
   ]
  },
  {
   "cell_type": "code",
   "execution_count": 4,
   "metadata": {},
   "outputs": [],
   "source": [
    "# generate some optimal demos (represented by a single optimal occupancy measure vector) and run MCE IRL\n",
    "_, optimal_om = mce_irl.mce_occupancy_measures(env)\n",
    "rmodel = r_models.LinearRewardModel(env.obs_dim)\n",
    "opt_tup = jopt.momentum(1e-2, 0.9)"
   ]
  },
  {
   "cell_type": "code",
   "execution_count": 5,
   "metadata": {},
   "outputs": [
    {
     "name": "stderr",
     "output_type": "stream",
     "text": [
      "WARNING:absl:No GPU/TPU found, falling back to CPU. (Set TF_CPP_MIN_LOG_LEVEL=0 and rerun for more info.)\n",
      "INFO:root:Occupancy measure error@iter   0: 4.988160 (||params||=3.971815, ||grad||=6.247153, ||E[dr/dw]||=4.734044)\n",
      "INFO:root:Occupancy measure error@iter  100: 0.055015 (||params||=4.646745, ||grad||=0.064917, ||E[dr/dw]||=6.008991)\n",
      "INFO:root:Occupancy measure error@iter  200: 0.014059 (||params||=4.450650, ||grad||=0.016256, ||E[dr/dw]||=5.965172)\n",
      "INFO:root:Occupancy measure error@iter  300: 0.008065 (||params||=4.427583, ||grad||=0.009523, ||E[dr/dw]||=5.963070)\n",
      "INFO:root:Occupancy measure error@iter  400: 0.004521 (||params||=4.419999, ||grad||=0.005375, ||E[dr/dw]||=5.962824)\n",
      "INFO:root:Occupancy measure error@iter  500: 0.002476 (||params||=4.416963, ||grad||=0.002956, ||E[dr/dw]||=5.962768)\n",
      "INFO:root:Occupancy measure error@iter  600: 0.001339 (||params||=4.415679, ||grad||=0.001603, ||E[dr/dw]||=5.962764)\n"
     ]
    }
   ],
   "source": [
    "rew_params, visitations = mce_irl.mce_irl(env, opt_tup, rmodel, optimal_om, print_interval=100, max_iter=1000)"
   ]
  },
  {
   "cell_type": "code",
   "execution_count": 6,
   "metadata": {},
   "outputs": [
    {
     "name": "stdout",
     "output_type": "stream",
     "text": [
      "Optimal state visitation frequencies for each grid cell:\n",
      "[[0.     0.     0.     0.    ]\n",
      " [0.     5.8141 0.5664 0.    ]\n",
      " [0.     0.5664 1.053  0.    ]\n",
      " [0.     0.     0.     0.    ]]\n",
      "\n",
      "Recovered state visitation frequencies for each grid cell:\n",
      "[[0.     0.     0.     0.    ]\n",
      " [0.     5.8142 0.5669 0.    ]\n",
      " [0.     0.5669 1.052  0.    ]\n",
      " [0.     0.     0.     0.    ]]\n"
     ]
    }
   ],
   "source": [
    "print('Optimal state visitation frequencies for each grid cell:')\n",
    "print(optimal_om.reshape((random_gridworld.height, random_gridworld.width)))\n",
    "print('\\nRecovered state visitation frequencies for each grid cell:')\n",
    "print(visitations.reshape((random_gridworld.height, random_gridworld.width)))"
   ]
  },
  {
   "cell_type": "markdown",
   "metadata": {},
   "source": [
    "## More complex example showing how to use an EnvFeedbackModel to recover both a reward function + sub-rationality model\n",
    "\n",
    "This code actually does use the new API to show how to use the 'blind IRL' feedback model (& its associated expert, which doesn't support observation blinding yet)."
   ]
  },
  {
   "cell_type": "code",
   "execution_count": 7,
   "metadata": {},
   "outputs": [],
   "source": [
    "irl_feedback_model = fbl_blind_irl.BlindIRLFeedbackModel(env)\n",
    "rmodel = r_models.LinearRewardModel(env.obs_dim)\n",
    "rng = jrandom.PRNGKey(42)\n",
    "irl_bias_params, rng = irl_feedback_model.init_bias_params(rng)\n",
    "irl_expert = experts.MEDemonstratorExpert(env, np.random.randint((1 << 31) - 1))\n",
    "# we'll do IRL based on 10 trajectories\n",
    "irl_dataset = irl_expert.interact(10)"
   ]
  },
  {
   "cell_type": "code",
   "execution_count": 8,
   "metadata": {},
   "outputs": [
    {
     "name": "stdout",
     "output_type": "stream",
     "text": [
      "Log likelihood (IRL): -9.270973205566406\n",
      "Gradient w.r.t. reward params (IRL):\n",
      " [ 0.      0.      0.      0.      0.      0.0516 -0.0122  0.      0.     -0.0117 -0.0079  0.\n",
      "  0.      0.      0.      0.    ]\n",
      "Gradient w.r.t. bias params (IRL):\n",
      " [0.     0.     0.     0.     0.     0.1282 0.0195 0.     0.     0.0322 0.0508 0.     0.     0.\n",
      " 0.     0.    ]\n"
     ]
    }
   ],
   "source": [
    "print('Log likelihood (IRL):', float(irl_feedback_model.log_likelihood(irl_dataset, rmodel, irl_bias_params)))\n",
    "print('Gradient w.r.t. reward params (IRL):\\n', np.asarray(irl_feedback_model.log_likelihood_grad_rew(irl_dataset, rmodel, irl_bias_params)))\n",
    "print('Gradient w.r.t. bias params (IRL):\\n', irl_feedback_model.log_likelihood_grad_bias(irl_dataset, rmodel, irl_bias_params))"
   ]
  },
  {
   "cell_type": "markdown",
   "metadata": {},
   "source": [
    "## Another example with the paired comparison learner"
   ]
  },
  {
   "cell_type": "code",
   "execution_count": 9,
   "metadata": {},
   "outputs": [],
   "source": [
    "pc_feedback_model = fbl_paired_comp.PairedCompFeedbackModel(env)\n",
    "pc_bias_params, rng = pc_feedback_model.init_bias_params(rng)\n",
    "pc_expert = experts.PairedComparisonExpert(env, boltz_temp=1.0, seed=42)\n",
    "\n",
    "# generate some random trajectories & compare a random subset of them\n",
    "def generate_comparison_dataset(pc_ntraj):\n",
    "    pc_trajectories = mce_irl.mce_irl_sample(env, pc_ntraj, R=np.ones((env.n_states, )))\n",
    "    to_compare_first = np.arange(len(pc_trajectories['states']))\n",
    "    comparisons = []\n",
    "    for first_idx in range(pc_ntraj):\n",
    "        second_idx = np.random.randint(pc_ntraj - 1)\n",
    "        if second_idx >= first_idx:\n",
    "            second_idx += 1\n",
    "        traj1_is_better = pc_expert.interact(\n",
    "            dict(states=pc_trajectories['states'][first_idx]),\n",
    "            dict(states=pc_trajectories['states'][second_idx]))\n",
    "        if traj1_is_better:\n",
    "            # the better trajectory comes before the worse one\n",
    "            comparisons.append((first_idx, second_idx))\n",
    "        else:\n",
    "            comparisons.append((second_idx, first_idx))\n",
    "    return {\n",
    "        'trajectories': pc_trajectories,\n",
    "        'comparisons': np.asarray(comparisons),\n",
    "    }\n",
    "\n",
    "comparison_dataset = generate_comparison_dataset(10)"
   ]
  },
  {
   "cell_type": "code",
   "execution_count": 10,
   "metadata": {},
   "outputs": [
    {
     "name": "stdout",
     "output_type": "stream",
     "text": [
      "Log likelihood (PC): -0.5336802005767822\n",
      "Gradient w.r.t. reward params (PC):\n",
      " [ 0.      0.      0.      0.      0.      0.0324 -0.3352  0.      0.      0.1944  0.1084  0.\n",
      "  0.      0.      0.      0.    ]\n",
      "Gradient w.r.t. bias params (PC):\n",
      " 0.012834102\n"
     ]
    }
   ],
   "source": [
    "print('Log likelihood (PC):', float(pc_feedback_model.log_likelihood(comparison_dataset, rmodel, pc_bias_params)))\n",
    "print('Gradient w.r.t. reward params (PC):\\n', np.asarray(pc_feedback_model.log_likelihood_grad_rew(comparison_dataset, rmodel, pc_bias_params)))\n",
    "print('Gradient w.r.t. bias params (PC):\\n', pc_feedback_model.log_likelihood_grad_bias(comparison_dataset, rmodel, pc_bias_params))"
   ]
  },
  {
   "cell_type": "code",
   "execution_count": 11,
   "metadata": {},
   "outputs": [],
   "source": [
    "# ALRIGHT, HERE IS WHERE I WILL DEBUG THE TOPK FEEDBACK LEARNER\n",
    "# ABLATIONS: COULD WE DO BETTER IF ALL OUR TRAJECTORIES ARE GOOD? \n",
    "# OR IS IT NECESSARY TO HAVE BAD TRAJECTORIES? "
   ]
  },
  {
   "cell_type": "code",
   "execution_count": 12,
   "metadata": {},
   "outputs": [],
   "source": [
    "import pref_bootstrap.feedback_learner_topk as fbl_topk\n",
    "\n",
    "rmodel = r_models.LinearRewardModel(env.obs_dim)\n",
    "top_K_feedback_model = fbl_topk.TopKFeedbackModel(env)\n",
    "top_K_expert = experts.TopKExpert(env, temp=.3, K=.05, seed=42)"
   ]
  },
  {
   "cell_type": "code",
   "execution_count": 13,
   "metadata": {},
   "outputs": [
    {
     "name": "stdout",
     "output_type": "stream",
     "text": [
      "cutoff 15.0\n",
      "0.093\n",
      "0.093\n"
     ]
    }
   ],
   "source": [
    "# def genereate_top_K_dataset(n_traj): \n",
    "import random\n",
    "\n",
    "n_traj = 1000\n",
    "traj = mce_irl.mce_irl_sample(env, n_traj, R=np.ones((env.n_states,)))\n",
    "labels= top_K_expert.interact(traj)\n",
    "\n",
    "labels_final, traj_final = [], []\n",
    "for l, t in zip(labels, traj['states']): \n",
    "    if not(l):\n",
    "        if True:#random.random() < (np.sum(labels)/len(labels)):\n",
    "            labels_final.append(l), traj_final.append(t)\n",
    "    else: \n",
    "        labels_final.append(l), traj_final.append(t)\n",
    "        \n",
    "labels_final = np.array(labels_final)\n",
    "        \n",
    "print(np.sum(labels)/len(labels))\n",
    "print(np.sum(labels_final)/len(labels_final))\n"
   ]
  },
  {
   "cell_type": "code",
   "execution_count": 16,
   "metadata": {},
   "outputs": [
    {
     "name": "stdout",
     "output_type": "stream",
     "text": [
      "step 0 loss 0.411\n",
      "[1.]\n",
      "step 100 loss 0.384\n",
      "[1.0019]\n",
      "step 200 loss 0.364\n",
      "[1.0027]\n",
      "step 300 loss 0.349\n",
      "[1.0027]\n",
      "step 400 loss 0.336\n",
      "[1.0022]\n",
      "step 500 loss 0.326\n",
      "[1.0014]\n",
      "step 600 loss 0.317\n",
      "[1.0004]\n",
      "step 700 loss 0.309\n",
      "[0.9992]\n",
      "step 800 loss 0.302\n",
      "[0.9979]\n",
      "step 900 loss 0.296\n",
      "[0.9967]\n",
      "step 1000 loss 0.290\n",
      "[0.9954]\n",
      "step 1100 loss 0.285\n",
      "[0.9941]\n",
      "step 1200 loss 0.281\n",
      "[0.9928]\n",
      "step 1300 loss 0.277\n",
      "[0.9916]\n",
      "step 1400 loss 0.273\n",
      "[0.9904]\n",
      "step 1500 loss 0.270\n",
      "[0.9893]\n",
      "step 1600 loss 0.267\n",
      "[0.9882]\n",
      "step 1700 loss 0.265\n",
      "[0.9872]\n",
      "step 1800 loss 0.262\n",
      "[0.9862]\n",
      "step 1900 loss 0.260\n",
      "[0.9852]\n",
      "step 2000 loss 0.258\n",
      "[0.9843]\n",
      "step 2100 loss 0.256\n",
      "[0.9834]\n",
      "step 2200 loss 0.254\n",
      "[0.9826]\n",
      "step 2300 loss 0.252\n",
      "[0.9818]\n",
      "step 2400 loss 0.251\n",
      "[0.981]\n",
      "step 2500 loss 0.250\n",
      "[0.9803]\n",
      "step 2600 loss 0.248\n",
      "[0.9796]\n",
      "step 2700 loss 0.247\n",
      "[0.9789]\n",
      "step 2800 loss 0.246\n",
      "[0.9783]\n",
      "terminated due to delta\n"
     ]
    }
   ],
   "source": [
    "params = {}\n",
    "from jax import random as jrnd\n",
    "import jax.numpy as jnp\n",
    "from jax import grad, value_and_grad\n",
    "key = jrnd.PRNGKey(0)\n",
    "key, wkey = jrnd.split(key, 2)\n",
    "params['reward_est'] = jrnd.normal(wkey, (env.n_states,))\n",
    "params['bias'] = jnp.ones((1,))\n",
    "params['temp'] = jnp.ones((1,))\n",
    "# params['temperature'] = .5*jnp.ones((1, ))\n",
    "lr = 1e-3\n",
    "steps = 10000\n",
    "loss_prev = float('Inf')\n",
    "delta = 100\n",
    "eps = 1e-5\n",
    "\n",
    "step = 0\n",
    "while(np.abs(delta) > eps and step<steps):\n",
    "    loss, gradients = (value_and_grad(top_K_feedback_model.loss)(params, np.array(traj_final), (labels_final)))\n",
    "    if step % 100 == 0:\n",
    "        print('step %d loss %.3f' %(step, loss))\n",
    "        print(params['bias'])\n",
    "    if step > 0: \n",
    "        delta = loss-loss_prev\n",
    "   \n",
    "    for k in params.keys(): \n",
    "        params[k] -= lr*gradients[k]\n",
    "        \n",
    "    loss_prev = loss\n",
    "    step +=1\n",
    "    \n",
    "if np.abs(delta) <= .0001: \n",
    "    print('terminated due to delta')\n",
    "else: \n",
    "    print('terminated due to steps exceeding %d' %steps)\n"
   ]
  },
  {
   "cell_type": "code",
   "execution_count": 22,
   "metadata": {},
   "outputs": [
    {
     "name": "stdout",
     "output_type": "stream",
     "text": [
      "[0.8586]\n"
     ]
    }
   ],
   "source": [
    "np.array(params['reward_est'])\n",
    "\n",
    "print(params['temp']) "
   ]
  },
  {
   "cell_type": "code",
   "execution_count": 18,
   "metadata": {},
   "outputs": [
    {
     "data": {
      "text/plain": [
       "Text(0.5,1,'Estimated Reward Function')"
      ]
     },
     "execution_count": 18,
     "metadata": {},
     "output_type": "execute_result"
    },
    {
     "data": {
      "image/png": "[encoded data removed]",
      "text/plain": [
       "<Figure size 432x288 with 1 Axes>"
      ]
     },
     "metadata": {
      "needs_background": "light"
     },
     "output_type": "display_data"
    }
   ],
   "source": [
    "plt.plot(params['reward_est'], label='estimated')\n",
    "plt.plot(rew_params, label='mce irl rewards')\n",
    "plt.plot(env.reward_matrix, label='real reward')\n",
    "plt.legend()\n",
    "plt.title('Estimated Reward Function')"
   ]
  },
  {
   "cell_type": "code",
   "execution_count": 32,
   "metadata": {},
   "outputs": [],
   "source": [
    "_, topk_om = mce_irl.mce_occupancy_measures(env, R=params['reward_est']/jnp.std(params['reward_est']))"
   ]
  },
  {
   "cell_type": "code",
   "execution_count": 33,
   "metadata": {},
   "outputs": [
    {
     "name": "stdout",
     "output_type": "stream",
     "text": [
      "Optimal state visitation frequencies for each grid cell:\n",
      "[[0.     0.     0.     0.    ]\n",
      " [0.     5.8141 0.5664 0.    ]\n",
      " [0.     0.5664 1.053  0.    ]\n",
      " [0.     0.     0.     0.    ]]\n"
     ]
    }
   ],
   "source": [
    "print('Optimal state visitation frequencies for each grid cell:')\n",
    "print(optimal_om.reshape((random_gridworld.height, random_gridworld.width)))"
   ]
  },
  {
   "cell_type": "code",
   "execution_count": 34,
   "metadata": {},
   "outputs": [
    {
     "name": "stdout",
     "output_type": "stream",
     "text": [
      "Inferred w. Top K\n",
      "[[0.     0.     0.     0.    ]\n",
      " [0.     3.21   0.6811 0.    ]\n",
      " [0.     1.3795 2.7293 0.    ]\n",
      " [0.     0.     0.     0.    ]]\n"
     ]
    }
   ],
   "source": [
    "print('Inferred w. Top K')\n",
    "print(topk_om.reshape((random_gridworld.height, random_gridworld.width)))"
   ]
  },
  {
   "cell_type": "code",
   "execution_count": 1,
   "metadata": {},
   "outputs": [
    {
     "name": "stdout",
     "output_type": "stream",
     "text": [
      "Optimal state visitation frequencies for each grid cell:\n"
     ]
    },
    {
     "ename": "NameError",
     "evalue": "name 'env' is not defined",
     "output_type": "error",
     "traceback": [
      "\u001b[0;31m---------------------------------------------------------------------------\u001b[0m",
      "\u001b[0;31mNameError\u001b[0m                                 Traceback (most recent call last)",
      "\u001b[0;32m<ipython-input-1-967a0436cd99>\u001b[0m in \u001b[0;36m<module>\u001b[0;34m()\u001b[0m\n\u001b[1;32m      1\u001b[0m \u001b[0mprint\u001b[0m\u001b[0;34m(\u001b[0m\u001b[0;34m'Optimal state visitation frequencies for each grid cell:'\u001b[0m\u001b[0;34m)\u001b[0m\u001b[0;34m\u001b[0m\u001b[0m\n\u001b[0;32m----> 2\u001b[0;31m \u001b[0mprint\u001b[0m\u001b[0;34m(\u001b[0m\u001b[0menv\u001b[0m\u001b[0;34m.\u001b[0m\u001b[0mreward_matrix\u001b[0m\u001b[0;34m.\u001b[0m\u001b[0mreshape\u001b[0m\u001b[0;34m(\u001b[0m\u001b[0;34m(\u001b[0m\u001b[0mrandom_gridworld\u001b[0m\u001b[0;34m.\u001b[0m\u001b[0mheight\u001b[0m\u001b[0;34m,\u001b[0m \u001b[0mrandom_gridworld\u001b[0m\u001b[0;34m.\u001b[0m\u001b[0mwidth\u001b[0m\u001b[0;34m)\u001b[0m\u001b[0;34m)\u001b[0m\u001b[0;34m)\u001b[0m\u001b[0;34m\u001b[0m\u001b[0m\n\u001b[0m",
      "\u001b[0;31mNameError\u001b[0m: name 'env' is not defined"
     ]
    }
   ],
   "source": [
    "print('Optimal state visitation frequencies for each grid cell:')\n",
    "print(env.reward_matrix.reshape((random_gridworld.height, random_gridworld.width)))"
   ]
  },
  {
   "cell_type": "code",
   "execution_count": 20,
   "metadata": {},
   "outputs": [
    {
     "name": "stdout",
     "output_type": "stream",
     "text": [
      "cutoff 12.0\n",
      "0.081\n",
      "0.081\n",
      "step 0 loss 0.769\n",
      "[1.]\n",
      "step 100 loss 0.391\n",
      "[1.0201]\n",
      "step 200 loss 0.322\n",
      "[1.0267]\n",
      "step 300 loss 0.299\n",
      "[1.0288]\n",
      "step 400 loss 0.287\n",
      "[1.0289]\n",
      "step 500 loss 0.279\n",
      "[1.028]\n",
      "step 600 loss 0.273\n",
      "[1.0265]\n",
      "step 700 loss 0.268\n",
      "[1.0247]\n",
      "step 800 loss 0.264\n",
      "[1.0225]\n",
      "step 900 loss 0.260\n",
      "[1.0203]\n",
      "step 1000 loss 0.256\n",
      "[1.018]\n",
      "step 1100 loss 0.252\n",
      "[1.0156]\n",
      "step 1200 loss 0.249\n",
      "[1.0132]\n",
      "step 1300 loss 0.245\n",
      "[1.0108]\n",
      "step 1400 loss 0.242\n",
      "[1.0085]\n",
      "step 1500 loss 0.239\n",
      "[1.0062]\n",
      "step 1600 loss 0.237\n",
      "[1.0039]\n",
      "step 1700 loss 0.234\n",
      "[1.0017]\n",
      "step 1800 loss 0.232\n",
      "[0.9996]\n",
      "step 1900 loss 0.229\n",
      "[0.9975]\n",
      "step 2000 loss 0.227\n",
      "[0.9955]\n",
      "step 2100 loss 0.225\n",
      "[0.9935]\n",
      "step 2200 loss 0.223\n",
      "[0.9916]\n",
      "step 2300 loss 0.222\n",
      "[0.9898]\n",
      "step 2400 loss 0.220\n",
      "[0.9881]\n",
      "step 2500 loss 0.219\n",
      "[0.9864]\n",
      "step 2600 loss 0.217\n",
      "[0.9847]\n",
      "step 2700 loss 0.216\n",
      "[0.9831]\n",
      "step 2800 loss 0.215\n",
      "[0.9816]\n",
      "step 2900 loss 0.214\n",
      "[0.9801]\n",
      "step 3000 loss 0.212\n",
      "[0.9787]\n",
      "terminated due to delta\n",
      "Inferred w. Top K\n",
      "[[0.     0.     0.     0.    ]\n",
      " [0.     3.5817 0.8458 0.    ]\n",
      " [0.     1.2911 2.2814 0.    ]\n",
      " [0.     0.     0.     0.    ]]\n",
      "Optimal state visitation frequencies for each grid cell:\n",
      "[[0.     0.     0.     0.    ]\n",
      " [0.     5.8141 0.5664 0.    ]\n",
      " [0.     0.5664 1.053  0.    ]\n",
      " [0.     0.     0.     0.    ]]\n",
      "cutoff 21.0\n",
      "0.117\n",
      "0.117\n",
      "step 0 loss 0.387\n",
      "[0.9787]\n",
      "step 100 loss 0.332\n",
      "[0.9917]\n",
      "step 200 loss 0.309\n",
      "[1.0002]\n",
      "step 300 loss 0.298\n",
      "[1.006]\n",
      "step 400 loss 0.293\n",
      "[1.01]\n",
      "step 500 loss 0.290\n",
      "[1.0129]\n",
      "step 600 loss 0.289\n",
      "[1.0151]\n",
      "terminated due to delta\n",
      "Inferred w. Top K\n",
      "[[0.     0.     0.     0.    ]\n",
      " [0.     3.5817 0.8458 0.    ]\n",
      " [0.     1.2911 2.2814 0.    ]\n",
      " [0.     0.     0.     0.    ]]\n",
      "Optimal state visitation frequencies for each grid cell:\n",
      "[[0.     0.     0.     0.    ]\n",
      " [0.     5.8141 0.5664 0.    ]\n",
      " [0.     0.5664 1.053  0.    ]\n",
      " [0.     0.     0.     0.    ]]\n",
      "cutoff 21.0\n",
      "0.108\n",
      "0.108\n",
      "step 0 loss 0.257\n",
      "[1.0156]\n",
      "terminated due to delta\n",
      "Inferred w. Top K\n",
      "[[0.     0.     0.     0.    ]\n",
      " [0.     3.5817 0.8458 0.    ]\n",
      " [0.     1.2911 2.2814 0.    ]\n",
      " [0.     0.     0.     0.    ]]\n",
      "Optimal state visitation frequencies for each grid cell:\n",
      "[[0.     0.     0.     0.    ]\n",
      " [0.     5.8141 0.5664 0.    ]\n",
      " [0.     0.5664 1.053  0.    ]\n",
      " [0.     0.     0.     0.    ]]\n"
     ]
    },
    {
     "data": {
      "image/png": "[encoded data removed]",
      "text/plain": [
       "<Figure size 432x288 with 1 Axes>"
      ]
     },
     "metadata": {
      "needs_background": "light"
     },
     "output_type": "display_data"
    }
   ],
   "source": [
    "# Doing the reward and then the other thing\n",
    "params = {}\n",
    "from jax import random as jrnd\n",
    "import jax.numpy as jnp\n",
    "from jax import grad, value_and_grad\n",
    "key = jrnd.PRNGKey(0)\n",
    "key, wkey = jrnd.split(key, 2)\n",
    "params['reward_est'] = jrnd.normal(wkey, (env.n_states,))\n",
    "params['bias'] = jnp.ones((1,))\n",
    "\n",
    "\n",
    "for iter in range(3):\n",
    "\n",
    "    # def genereate_top_K_dataset(n_traj): \n",
    "    import random\n",
    "\n",
    "    n_traj = 1000\n",
    "    traj = mce_irl.mce_irl_sample(env, n_traj, R=params['reward_est'])\n",
    "    labels= top_K_expert.interact(traj)\n",
    "\n",
    "    labels_final, traj_final = [], []\n",
    "    for l, t in zip(labels, traj['states']): \n",
    "        if not(l):\n",
    "            if True:#random.random() < (np.sum(labels)/len(labels)):\n",
    "                labels_final.append(l), traj_final.append(t)\n",
    "        else: \n",
    "            labels_final.append(l), traj_final.append(t)\n",
    "\n",
    "    labels_final = np.array(labels_final)\n",
    "\n",
    "\n",
    "\n",
    "    # params['temperature'] = .5*jnp.ones((1, ))\n",
    "    lr = 1e-3\n",
    "    steps = 10000\n",
    "    loss_prev = float('Inf')\n",
    "    delta = 100\n",
    "    eps = 1e-5\n",
    "\n",
    "    step = 0\n",
    "    while(np.abs(delta) > eps and step<steps):\n",
    "        loss, gradients = (value_and_grad(top_K_feedback_model.loss)(params, np.array(traj_final), (labels_final)))\n",
    "        if step % 100 == 0:\n",
    "            print('step %d loss %.3f' %(step, loss))\n",
    "            print(params['bias'])\n",
    "        if step > 0: \n",
    "            delta = loss-loss_prev\n",
    "\n",
    "        for k in params.keys(): \n",
    "            params[k] -= lr*gradients[k]\n",
    "\n",
    "        loss_prev = loss\n",
    "        step +=1\n",
    "\n",
    "    if np.abs(delta) <= .0001: \n",
    "        print('terminated due to delta')\n",
    "    else: \n",
    "        print('terminated due to steps exceeding %d' %steps)\n",
    "        \n",
    "        \n",
    "    plt.plot(params['reward_est'], label='estimated')\n",
    "    plt.plot(rew_params, label='mce irl rewards')\n",
    "    plt.plot(env.reward_matrix, label='real reward')\n",
    "    plt.legend()\n",
    "    plt.title('Estimated Reward Function')\n",
    "    \n",
    "    print('Inferred w. Top K')\n",
    "    print(topk_om.reshape((random_gridworld.height, random_gridworld.width)))\n",
    "\n",
    "    print('Optimal state visitation frequencies for each grid cell:')\n",
    "    print(optimal_om.reshape((random_gridworld.height, random_gridworld.width)))"
   ]
  }
 ],
 "metadata": {
  "kernelspec": {
   "display_name": "Python 3",
   "language": "python",
   "name": "python3"
  },
  "language_info": {
   "codemirror_mode": {
    "name": "ipython",
    "version": 3
   },
   "file_extension": ".py",
   "mimetype": "text/x-python",
   "name": "python",
   "nbconvert_exporter": "python",
   "pygments_lexer": "ipython3",
   "version": "3.6.6"
  }
 },
 "nbformat": 4,
 "nbformat_minor": 4
}
