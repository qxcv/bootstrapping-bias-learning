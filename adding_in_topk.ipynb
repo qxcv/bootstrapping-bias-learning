{
 "cells": [
  {
   "cell_type": "markdown",
   "metadata": {},
   "source": [
    "# Bias model bootstrapping notebook\n",
    "\n",
    "Eventually this notebook will (hopefully?) contain all the code necessary to run our final experiments.\n",
    "For now it just contains a demo of MCE IRL on some gridworlds from the \"learning biases\" paper.\n",
    "\n",
    "First we have some not-very-interesting setup:"
   ]
  },
  {
   "cell_type": "code",
   "execution_count": 1,
   "metadata": {},
   "outputs": [],
   "source": [
    "%matplotlib inline\n",
    "\n",
    "# These are useful for debugging, but make code slower:\n",
    "%load_ext autoreload\n",
    "%autoreload 2\n",
    "\n",
    "import logging\n",
    "\n",
    "import numpy as np\n",
    "import matplotlib.pyplot as plt\n",
    "import pandas as pd\n",
    "import seaborn as sns\n",
    "import jax\n",
    "import jax.experimental.optimizers as jopt\n",
    "import jax.random as jrandom\n",
    "import numpy as np\n",
    "\n",
    "from pref_bootstrap.envs import gridworld, mdp_interface\n",
    "from pref_bootstrap.algos import mce_irl\n",
    "import pref_bootstrap.feedback_learner_blind_irl as fbl_blind_irl\n",
    "import pref_bootstrap.feedback_learner_paired_comparisons as fbl_paired_comp\n",
    "import pref_bootstrap.reward_models as r_models\n",
    "import pref_bootstrap.expert_base as experts\n",
    "from pref_bootstrap import priors\n",
    "\n",
    "sns.set(context='notebook', style='darkgrid')\n",
    "logging.basicConfig(level=logging.INFO)\n",
    "np.set_printoptions(precision=4, linewidth=100)"
   ]
  },
  {
   "cell_type": "markdown",
   "metadata": {},
   "source": [
    "## Very simple example of using environments and MCE IRL code\n",
    "\n",
    "This code doesn't use the new agent API"
   ]
  },
  {
   "cell_type": "code",
   "execution_count": 2,
   "metadata": {},
   "outputs": [],
   "source": [
    "random_gridworld = gridworld.GridworldMdp.generate_random(4, 4, 0.2, 0.1)\n",
    "env = mdp_interface.GridworldEnvWrapper(random_gridworld, random_gridworld.height + random_gridworld.width)"
   ]
  },
  {
   "cell_type": "code",
   "execution_count": 3,
   "metadata": {},
   "outputs": [],
   "source": [
    "# generate some optimal demos (represented by a single optimal occupancy measure vector) and run MCE IRL\n",
    "_, optimal_om = mce_irl.mce_occupancy_measures(env)\n",
    "rmodel = r_models.LinearRewardModel(env.obs_dim)\n",
    "opt_tup = jopt.momentum(1e-2, 0.9)"
   ]
  },
  {
   "cell_type": "code",
   "execution_count": 4,
   "metadata": {},
   "outputs": [
    {
     "name": "stderr",
     "output_type": "stream",
     "text": [
      "WARNING:absl:No GPU/TPU found, falling back to CPU. (Set TF_CPP_MIN_LOG_LEVEL=0 and rerun for more info.)\n",
      "INFO:root:Occupancy measure error@iter   0: 1.182479 (||params||=3.498952, ||grad||=1.451176, ||E[dr/dw]||=5.952104)\n",
      "INFO:root:Occupancy measure error@iter  100: 0.010971 (||params||=4.148438, ||grad||=0.014351, ||E[dr/dw]||=6.926162)\n",
      "INFO:root:Occupancy measure error@iter  200: 0.004469 (||params||=4.147878, ||grad||=0.005653, ||E[dr/dw]||=6.924252)\n",
      "INFO:root:Occupancy measure error@iter  300: 0.002039 (||params||=4.154253, ||grad||=0.002560, ||E[dr/dw]||=6.925130)\n"
     ]
    }
   ],
   "source": [
    "rew_params, visitations = mce_irl.mce_irl(env, opt_tup, rmodel, optimal_om, print_interval=100, max_iter=1000)"
   ]
  },
  {
   "cell_type": "code",
   "execution_count": 5,
   "metadata": {},
   "outputs": [
    {
     "name": "stdout",
     "output_type": "stream",
     "text": [
      "Optimal state visitation frequencies for each grid cell:\n",
      "[[0.     0.     0.     0.    ]\n",
      " [0.     1.1176 0.     0.    ]\n",
      " [0.     6.835  0.0474 0.    ]\n",
      " [0.     0.     0.     0.    ]]\n",
      "\n",
      "Recovered state visitation frequencies for each grid cell:\n",
      "[[0.     0.     0.     0.    ]\n",
      " [0.     1.1169 0.     0.    ]\n",
      " [0.     6.8347 0.0484 0.    ]\n",
      " [0.     0.     0.     0.    ]]\n"
     ]
    }
   ],
   "source": [
    "print('Optimal state visitation frequencies for each grid cell:')\n",
    "print(optimal_om.reshape((random_gridworld.height, random_gridworld.width)))\n",
    "print('\\nRecovered state visitation frequencies for each grid cell:')\n",
    "print(visitations.reshape((random_gridworld.height, random_gridworld.width)))"
   ]
  },
  {
   "cell_type": "markdown",
   "metadata": {},
   "source": [
    "## More complex example showing how to use an EnvFeedbackModel to recover both a reward function + sub-rationality model\n",
    "\n",
    "This code actually does use the new API to show how to use the 'blind IRL' feedback model (& its associated expert, which doesn't support observation blinding yet)."
   ]
  },
  {
   "cell_type": "code",
   "execution_count": 6,
   "metadata": {},
   "outputs": [],
   "source": [
    "irl_feedback_model = fbl_blind_irl.BlindIRLFeedbackModel(env)\n",
    "rmodel = r_models.LinearRewardModel(env.obs_dim)\n",
    "rng = jrandom.PRNGKey(42)\n",
    "rng, irl_bias_params = irl_feedback_model.init_bias_params(rng)\n",
    "irl_expert = experts.MEDemonstratorExpert(env, np.random.randint((1 << 31) - 1))\n",
    "# we'll do IRL based on 10 trajectories\n",
    "irl_dataset = irl_expert.interact(10)"
   ]
  },
  {
   "cell_type": "code",
   "execution_count": 7,
   "metadata": {},
   "outputs": [
    {
     "name": "stdout",
     "output_type": "stream",
     "text": [
      "Log likelihood (IRL): -18.447795867919922\n",
      "Gradient w.r.t. reward params (IRL):\n",
      " [ 0.      0.      0.      0.      0.     -3.4624  0.      0.      0.      1.4561  0.0576  0.\n",
      "  0.      0.      0.      0.    ]\n",
      "Gradient w.r.t. bias params (IRL):\n",
      " [  0.       0.       0.       0.       0.      -5.5712   0.       0.       0.     -14.4724  -0.4194\n",
      "   0.       0.       0.       0.       0.    ]\n"
     ]
    }
   ],
   "source": [
    "print('Log likelihood (IRL):', float(irl_feedback_model.log_likelihood(irl_dataset, rmodel, irl_bias_params)))\n",
    "print('Gradient w.r.t. reward params (IRL):\\n', np.asarray(irl_feedback_model.log_likelihood_grad_rew(irl_dataset, rmodel, irl_bias_params)))\n",
    "print('Gradient w.r.t. bias params (IRL):\\n', irl_feedback_model.log_likelihood_grad_bias(irl_dataset, rmodel, irl_bias_params))"
   ]
  },
  {
   "cell_type": "markdown",
   "metadata": {},
   "source": [
    "## Another example with the paired comparison learner"
   ]
  },
  {
   "cell_type": "code",
   "execution_count": 82,
   "metadata": {},
   "outputs": [],
   "source": [
    "pc_feedback_model = fbl_paired_comp.PairedCompFeedbackModel(env)\n",
    "rng, pc_bias_params = pc_feedback_model.init_bias_params(rng)\n",
    "pc_expert = experts.PairedComparisonExpert(env, boltz_temp=1.0, seed=42)\n",
    "\n",
    "# generate some random trajectories & compare a random subset of them\n",
    "def generate_comparison_dataset(pc_ntraj):\n",
    "    pc_trajectories = mce_irl.mce_irl_sample(env, pc_ntraj, R=np.ones((env.n_states, )))\n",
    "    to_compare_first = np.arange(len(pc_trajectories['states']))\n",
    "    comparisons = []\n",
    "    for first_idx in range(pc_ntraj):\n",
    "        second_idx = np.random.randint(pc_ntraj - 1)\n",
    "        if second_idx >= first_idx:\n",
    "            second_idx += 1\n",
    "        traj1_is_better = pc_expert.interact(\n",
    "            dict(states=pc_trajectories['states'][first_idx]),\n",
    "            dict(states=pc_trajectories['states'][second_idx]))\n",
    "        if traj1_is_better:\n",
    "            # the better trajectory comes before the worse one\n",
    "            comparisons.append((first_idx, second_idx))\n",
    "        else:\n",
    "            comparisons.append((second_idx, first_idx))\n",
    "    return {\n",
    "        'trajectories': pc_trajectories,\n",
    "        'comparisons': np.asarray(comparisons),\n",
    "    }\n",
    "\n",
    "comparison_dataset = generate_comparison_dataset(10)"
   ]
  },
  {
   "cell_type": "code",
   "execution_count": 83,
   "metadata": {},
   "outputs": [
    {
     "name": "stdout",
     "output_type": "stream",
     "text": [
      "Log likelihood (PC): -6.0151591300964355\n",
      "Gradient w.r.t. reward params (PC):\n",
      " [ 0.      0.      0.      0.      0.     -3.708   0.      0.      0.      4.0461 -0.3381  0.\n",
      "  0.      0.      0.      0.    ]\n",
      "Gradient w.r.t. bias params (PC):\n",
      " -5.4690413\n"
     ]
    }
   ],
   "source": [
    "print('Log likelihood (PC):', float(pc_feedback_model.log_likelihood(comparison_dataset, rmodel, pc_bias_params)))\n",
    "print('Gradient w.r.t. reward params (PC):\\n', np.asarray(pc_feedback_model.log_likelihood_grad_rew(comparison_dataset, rmodel, pc_bias_params)))\n",
    "print('Gradient w.r.t. bias params (PC):\\n', pc_feedback_model.log_likelihood_grad_bias(comparison_dataset, rmodel, pc_bias_params))"
   ]
  },
  {
   "cell_type": "code",
   "execution_count": 105,
   "metadata": {},
   "outputs": [],
   "source": [
    "# another example with the topk\n",
    "\n",
    "import pref_bootstrap.feedback_learner_topk as fbl_topk\n",
    "top_K_feedback_model = fbl_topk.TopKFeedbackModel(env)\n",
    "top_K_expert = experts.TopKExpert(env, temp=.3, K=.05, seed=42)\n",
    "rmodel = r_models.LinearRewardModel(env.obs_dim)\n",
    "rng, top_K_bias_params = top_K_feedback_model.init_bias_params(rng)"
   ]
  },
  {
   "cell_type": "code",
   "execution_count": 102,
   "metadata": {},
   "outputs": [
    {
     "name": "stdout",
     "output_type": "stream",
     "text": [
      "cutoff 24.0\n",
      "Log likelihood (topk): -0.6907072067260742\n",
      "Gradient w.r.t. reward params (PC):\n",
      " [0.     0.     0.     0.     0.     0.4465 0.     0.     0.     2.9796 0.094  0.     0.     0.\n",
      " 0.     0.    ]\n",
      "Gradient w.r.t. bias params (PC):\n",
      " [-0.0295 -0.3911]\n"
     ]
    }
   ],
   "source": [
    "def generate_topk_dataset(n_traj):\n",
    "    # def genereate_top_K_dataset(n_traj): \n",
    "    import random\n",
    "    traj = mce_irl.mce_irl_sample(env, n_traj, R=env.reward_matrix)#np.ones((env.n_states,)))\n",
    "    labels= top_K_expert.interact(traj)\n",
    "\n",
    "    labels_final, traj_final = [], []\n",
    "    for l, t in zip(labels, traj['states']): \n",
    "        if not(l):\n",
    "            if random.random() < top_K_expert.K:#TODO if there are issues update this so that we balance our dataset.\n",
    "                labels_final.append(l), traj_final.append(t)\n",
    "        else: \n",
    "            labels_final.append(l), traj_final.append(t)\n",
    "\n",
    "    labels_final = np.array([int(l) for l in labels_final])\n",
    "    \n",
    "    return {\n",
    "        'trajectories':np.array(traj_final), \n",
    "        'labels':labels_final\n",
    "    }\n",
    "\n",
    "top_K_dataset = generate_topk_dataset(1000)\n",
    "\n",
    "print('Log likelihood (topk):', float(top_K_feedback_model.log_likelihood(top_K_dataset,rmodel, top_K_bias_params)))\n",
    "print('Gradient w.r.t. reward params (PC):\\n', np.asarray(top_K_feedback_model.log_likelihood_grad_rew(top_K_dataset, rmodel, top_K_bias_params)))\n",
    "print('Gradient w.r.t. bias params (PC):\\n', top_K_feedback_model.log_likelihood_grad_bias(top_K_dataset, rmodel,top_K_bias_params))"
   ]
  },
  {
   "cell_type": "markdown",
   "metadata": {},
   "source": [
    "## Putting it all together\n",
    "\n",
    "Now we can create a combined demo in which we use both MCE IRL and paired comparisons to learn a reward model and set of modality-specific bias models.\n",
    "\n",
    "Ideas for ergonomic improvements:\n",
    "\n",
    "- Incorporate reward priors on the `RewardModel` class, just as we have for bias priors and `EnvFeedbackModel`.\n",
    "- Make parameter storage consistent between reward models and feedback models. Either feedback models should store parameters (instead of keeping them external), or reward models should keep parameters external (instead of storing them as class attributes)."
   ]
  },
  {
   "cell_type": "code",
   "execution_count": 103,
   "metadata": {},
   "outputs": [],
   "source": [
    "# TODO(sam): try finding a step size with backtracking line search, rather\n",
    "# than using a fixed step. Also consider using a Nesterov step.\n",
    "def joint_training(env, feedback_models, all_names, all_datasets,\n",
    "                   all_bias_params, rmodel, rprior, init_step_size=1e-3,\n",
    "                   n_steps=100):\n",
    "    \"\"\"Jointly trains a single reward model and a set of feedback bias models\n",
    "    on a given environment. Trains reward model with gradient descent, and\n",
    "    individual bias models with projected gradient descent.\n",
    "\n",
    "    Args:\n",
    "        env (gym.Environment): environment to train on.\n",
    "        feedback_models ([EnvFeedbackModel]): list of environment feedback\n",
    "            models.\n",
    "        all_names ([str]): human-readable names for the feedback models, to\n",
    "            be used for logging (`all_names[i]` is the name for\n",
    "            `feedback_models[i]`).\n",
    "        all_datasets (list): list of datasets for the feedback models\n",
    "            (`all_datasets[i]` is the dataset for `feedback_models[i]`).\n",
    "        all_bias_params (list): list of bias parameters for feedback models.\n",
    "            (`all_bias_params[i]` contains bias parameters for\n",
    "            `feedback_models[i]`).\n",
    "        rmodel (RewardModel): reward model, assumed to be shared across all\n",
    "            feedback modalities.\n",
    "        rprior (Prior): prior on reward model parameters.\n",
    "        init_step_size (float): length of the first step. Step size scales\n",
    "            linearly down to (just above) zero over the course of training.\n",
    "        n_steps (int): total number of steps to take.\n",
    "        \n",
    "    Returns: tuple of `(rmodel, all_bias_params)`, where `rmodel` is the same\n",
    "        model passed into the functino (this is updated in-place), and\n",
    "        `all_bias_params` is a set of updated bias parameters (these are not\n",
    "        updated in-place).\"\"\"\n",
    "    assert len(feedback_models) == len(all_datasets)\n",
    "    assert len(feedback_models) == len(all_bias_params)\n",
    "    all_bias_params = list(all_bias_params)\n",
    "    \n",
    "    def compute_ll():\n",
    "        \"\"\"Compute log likelihood of data under current reward model, bias\n",
    "        params, etc.\"\"\"\n",
    "        ll_terms = [\n",
    "            ('rmodel_prior', rprior.log_prior(rmodel.get_params())),\n",
    "        ]\n",
    "        name_model_ds_bias_iter = zip(\n",
    "            all_names, feedback_models, all_datasets, all_bias_params)\n",
    "        for name, model, dataset, bias_params in name_model_ds_bias_iter:\n",
    "            ll = model.log_likelihood(dataset, rmodel, bias_params)\n",
    "            ll_terms.append((f'{name}', ll))\n",
    "            ll_terms.append((f'{name}_prior', model.bias_prior.log_prior(bias_params)))\n",
    "        total_ll = sum(ll for name, ll in ll_terms)\n",
    "        return_dict = dict(ll_terms)\n",
    "        return_dict['all_terms'] = total_ll\n",
    "        return return_dict\n",
    "\n",
    "    ll_history = {k: [v] for k, v in compute_ll().items()}\n",
    "\n",
    "    for step_num in range(n_steps):\n",
    "        # progress_10 is 1 at the start of training, and linear drops to\n",
    "        # (just above) 0 at the end (after n_steps)\n",
    "        progress_10 = 1 - step_num / n_steps\n",
    "        step_size = init_step_size * progress_10 \n",
    "\n",
    "        # first do a joint reward model update w/ plain gradient descent\n",
    "        rmodel_grad = np.zeros_like(rmodel.get_params())\n",
    "        model_ds_bias_iter = zip(feedback_models, all_datasets, all_bias_params)\n",
    "        for model, dataset, bias_params in model_ds_bias_iter:\n",
    "            rmodel_grad += model.log_likelihood_grad_rew(\n",
    "                dataset, rmodel, bias_params)\n",
    "#         rmodel_grad += rprior.log_prior_grad(rmodel.get_params())\n",
    "        rmodel.set_params(rmodel.get_params() + step_size * rmodel_grad)\n",
    "\n",
    "        # now do individual bias model updates\n",
    "        model_ds_bias_enum = enumerate(zip(\n",
    "            feedback_models, all_datasets, all_bias_params))\n",
    "        for model_idx, (model, dataset, bias_params) in model_ds_bias_enum:\n",
    "            # Projected gradient descent: we take a gradient descent step, then\n",
    "            # project back to the support of the prior.\n",
    "            bias_param_grad = model.log_likelihood_grad_bias(\n",
    "                dataset, rmodel, bias_params)\n",
    "            bias_prior_grad = model.bias_prior.log_prior_grad(bias_params)\n",
    "            bias_grad = bias_param_grad + bias_prior_grad # TODO CHANGE\n",
    "            unproj_step = all_bias_params[model_idx] + step_size * bias_grad\n",
    "            proj_step = model.bias_prior.project_to_support(bias_grad)\n",
    "            all_bias_params[model_idx] = proj_step\n",
    "\n",
    "            for k, v in compute_ll().items():\n",
    "                ll_history[k].append(v)\n",
    "\n",
    "    return rmodel, all_bias_params, ll_history"
   ]
  },
  {
   "cell_type": "code",
   "execution_count": 104,
   "metadata": {},
   "outputs": [
    {
     "name": "stderr",
     "output_type": "stream",
     "text": [
      "/userdata/smetzger/gim/lib/python3.6/site-packages/jax/_src/lax/lax.py:6271: UserWarning: Explicitly requested dtype float64 requested in array is not available, and will be truncated to dtype float32. To enable more dtypes, set the jax_enable_x64 configuration option or the JAX_ENABLE_X64 shell environment variable. See https://github.com/google/jax#current-gotchas for more.\n",
      "  warnings.warn(msg.format(dtype, fun_name , truncated_dtype))\n"
     ]
    },
    {
     "data": {
      "image/png": "[encoded data removed]",
      "text/plain": [
       "<Figure size 432x288 with 1 Axes>"
      ]
     },
     "metadata": {
      "needs_background": "light"
     },
     "output_type": "display_data"
    },
    {
     "data": {
      "image/png": "[encoded data removed]",
      "text/plain": [
       "<Figure size 432x288 with 1 Axes>"
      ]
     },
     "metadata": {
      "needs_background": "light"
     },
     "output_type": "display_data"
    },
    {
     "data": {
      "image/png": "[encoded data removed]",
      "text/plain": [
       "<Figure size 432x288 with 1 Axes>"
      ]
     },
     "metadata": {
      "needs_background": "light"
     },
     "output_type": "display_data"
    },
    {
     "data": {
      "image/png": "[encoded data removed]",
      "text/plain": [
       "<Figure size 432x288 with 1 Axes>"
      ]
     },
     "metadata": {
      "needs_background": "light"
     },
     "output_type": "display_data"
    },
    {
     "data": {
      "image/png": "[encoded data removed]",
      "text/plain": [
       "<Figure size 432x288 with 1 Axes>"
      ]
     },
     "metadata": {
      "needs_background": "light"
     },
     "output_type": "display_data"
    },
    {
     "data": {
      "image/png": "[encoded data removed]",
      "text/plain": [
       "<Figure size 432x288 with 1 Axes>"
      ]
     },
     "metadata": {
      "needs_background": "light"
     },
     "output_type": "display_data"
    },
    {
     "data": {
      "image/png": "[encoded data removed]",
      "text/plain": [
       "<Figure size 432x288 with 1 Axes>"
      ]
     },
     "metadata": {
      "needs_background": "light"
     },
     "output_type": "display_data"
    },
    {
     "data": {
      "image/png": "[encoded data removed]",
      "text/plain": [
       "<Figure size 432x288 with 1 Axes>"
      ]
     },
     "metadata": {
      "needs_background": "light"
     },
     "output_type": "display_data"
    },
    {
     "data": {
      "image/png": "[encoded data removed]",
      "text/plain": [
       "<Figure size 432x288 with 1 Axes>"
      ]
     },
     "metadata": {
      "needs_background": "light"
     },
     "output_type": "display_data"
    },
    {
     "data": {
      "image/png": "[encoded data removed]",
      "text/plain": [
       "<Figure size 432x288 with 1 Axes>"
      ]
     },
     "metadata": {
      "needs_background": "light"
     },
     "output_type": "display_data"
    },
    {
     "data": {
      "image/png": "[encoded data removed]",
      "text/plain": [
       "<Figure size 432x288 with 1 Axes>"
      ]
     },
     "metadata": {
      "needs_background": "light"
     },
     "output_type": "display_data"
    },
    {
     "data": {
      "image/png": "[encoded data removed]",
      "text/plain": [
       "<Figure size 432x288 with 1 Axes>"
      ]
     },
     "metadata": {
      "needs_background": "light"
     },
     "output_type": "display_data"
    },
    {
     "data": {
      "image/png": "[encoded data removed]",
      "text/plain": [
       "<Figure size 432x288 with 1 Axes>"
      ]
     },
     "metadata": {
      "needs_background": "light"
     },
     "output_type": "display_data"
    },
    {
     "data": {
      "image/png": "[encoded data removed]",
      "text/plain": [
       "<Figure size 432x288 with 1 Axes>"
      ]
     },
     "metadata": {
      "needs_background": "light"
     },
     "output_type": "display_data"
    },
    {
     "data": {
      "image/png": "[encoded data removed]",
      "text/plain": [
       "<Figure size 432x288 with 1 Axes>"
      ]
     },
     "metadata": {
      "needs_background": "light"
     },
     "output_type": "display_data"
    },
    {
     "data": {
      "image/png": "[encoded data removed]",
      "text/plain": [
       "<Figure size 432x288 with 1 Axes>"
      ]
     },
     "metadata": {
      "needs_background": "light"
     },
     "output_type": "display_data"
    },
    {
     "data": {
      "image/png": "[encoded data removed]",
      "text/plain": [
       "<Figure size 432x288 with 1 Axes>"
      ]
     },
     "metadata": {
      "needs_background": "light"
     },
     "output_type": "display_data"
    },
    {
     "data": {
      "image/png": "[encoded data removed]",
      "text/plain": [
       "<Figure size 432x288 with 1 Axes>"
      ]
     },
     "metadata": {
      "needs_background": "light"
     },
     "output_type": "display_data"
    },
    {
     "data": {
      "image/png": "[encoded data removed]",
      "text/plain": [
       "<Figure size 432x288 with 1 Axes>"
      ]
     },
     "metadata": {
      "needs_background": "light"
     },
     "output_type": "display_data"
    },
    {
     "data": {
      "image/png": "[encoded data removed]",
      "text/plain": [
       "<Figure size 432x288 with 1 Axes>"
      ]
     },
     "metadata": {
      "needs_background": "light"
     },
     "output_type": "display_data"
    },
    {
     "data": {
      "image/png": "[encoded data removed]",
      "text/plain": [
       "<Figure size 432x288 with 1 Axes>"
      ]
     },
     "metadata": {
      "needs_background": "light"
     },
     "output_type": "display_data"
    },
    {
     "data": {
      "image/png": "[encoded data removed]",
      "text/plain": [
       "<Figure size 432x288 with 1 Axes>"
      ]
     },
     "metadata": {
      "needs_background": "light"
     },
     "output_type": "display_data"
    },
    {
     "data": {
      "image/png": "[encoded data removed]",
      "text/plain": [
       "<Figure size 432x288 with 1 Axes>"
      ]
     },
     "metadata": {
      "needs_background": "light"
     },
     "output_type": "display_data"
    },
    {
     "data": {
      "image/png": "[encoded data removed]",
      "text/plain": [
       "<Figure size 432x288 with 1 Axes>"
      ]
     },
     "metadata": {
      "needs_background": "light"
     },
     "output_type": "display_data"
    },
    {
     "data": {
      "image/png": "[encoded data removed]",
      "text/plain": [
       "<Figure size 432x288 with 1 Axes>"
      ]
     },
     "metadata": {
      "needs_background": "light"
     },
     "output_type": "display_data"
    },
    {
     "data": {
      "image/png": "[encoded data removed]",
      "text/plain": [
       "<Figure size 432x288 with 1 Axes>"
      ]
     },
     "metadata": {
      "needs_background": "light"
     },
     "output_type": "display_data"
    },
    {
     "data": {
      "image/png": "[encoded data removed]",
      "text/plain": [
       "<Figure size 432x288 with 1 Axes>"
      ]
     },
     "metadata": {
      "needs_background": "light"
     },
     "output_type": "display_data"
    },
    {
     "data": {
      "image/png": "[encoded data removed]",
      "text/plain": [
       "<Figure size 432x288 with 1 Axes>"
      ]
     },
     "metadata": {
      "needs_background": "light"
     },
     "output_type": "display_data"
    },
    {
     "data": {
      "image/png": "[encoded data removed]",
      "text/plain": [
       "<Figure size 432x288 with 1 Axes>"
      ]
     },
     "metadata": {
      "needs_background": "light"
     },
     "output_type": "display_data"
    },
    {
     "data": {
      "image/png": "[encoded data removed]",
      "text/plain": [
       "<Figure size 432x288 with 1 Axes>"
      ]
     },
     "metadata": {
      "needs_background": "light"
     },
     "output_type": "display_data"
    }
   ],
   "source": [
    "res = []\n",
    "res_chance = []\n",
    "for k in range(10):\n",
    "    jt_names = ['blind_irl', 'paired_comparisons', 'topK']\n",
    "    jt_feedback_models = [irl_feedback_model, pc_feedback_model, top_K_feedback_model]\n",
    "    jt_datasets = [irl_dataset, comparison_dataset, top_K_dataset]\n",
    "\n",
    "    rng, jt_irl_feedback_params = irl_feedback_model.init_bias_params(rng)\n",
    "    rng, jt_pc_bias_params = pc_feedback_model.init_bias_params(rng)\n",
    "    rng, jt_top_K_params = top_K_feedback_model.init_bias_params(rng)\n",
    "\n",
    "    jt_bias_params = [jt_irl_feedback_params, jt_pc_bias_params, jt_top_K_params]\n",
    "\n",
    "\n",
    "    jt_bias_params = jt_bias_params[-1:]\n",
    "    jt_names = jt_names[-1:]\n",
    "    jt_feedback_models = jt_feedback_models[-1:]\n",
    "    jt_datasets = jt_datasets[-1:]\n",
    "    jt_rmodel = r_models.LinearRewardModel(env.obs_dim)\n",
    "    jt_rprior = priors.FixedGaussianPrior(\n",
    "        mean=0.0, std=1.0, shape=rmodel.get_params().shape)\n",
    "    jt_rmodel, jt_bias_params, ll_history = joint_training(\n",
    "        env=env, feedback_models=jt_feedback_models, all_names=jt_names,\n",
    "        all_datasets=jt_datasets, all_bias_params=jt_bias_params,\n",
    "        rmodel=jt_rmodel, rprior=jt_rprior, init_step_size=1e-4, n_steps=100)\n",
    "\n",
    "    _, topk_om = mce_irl.mce_occupancy_measures(env, R=jt_rmodel.get_params()) #- temp*jt_bias_params[0][1])\n",
    "    _, topk_real = mce_irl.mce_occupancy_measures(env, R=env.reward_matrix)\n",
    "    _, chance = mce_irl.mce_occupancy_measures(env, R=np.random.randn(16))\n",
    "\n",
    "    res.append(np.linalg.norm(topk_om-topk_real))\n",
    "    res_chance.append(np.linalg.norm(topk_real-chance))\n",
    "\n",
    "\n",
    "    plt.imshow(topk_om.reshape((random_gridworld.height, random_gridworld.width)))\n",
    "    plt.title('topk')\n",
    "    plt.show()\n",
    "    plt.imshow(topk_real.reshape((random_gridworld.height, random_gridworld.width)))\n",
    "    plt.title('real')\n",
    "    plt.show()\n",
    "    plt.title('chance')\n",
    "    plt.imshow(chance.reshape((random_gridworld.height, random_gridworld.width)))\n",
    "    plt.show()"
   ]
  },
  {
   "cell_type": "code",
   "execution_count": 101,
   "metadata": {},
   "outputs": [
    {
     "name": "stdout",
     "output_type": "stream",
     "text": [
      "6.52260491595559\n",
      "6.655825681530371\n",
      "[7.284131603120594, 7.214266288736873, 4.76294259846834, 7.536013789630126, 3.701516073577076, 2.035859491124198, 7.552092460639898, 6.382562197004443, 9.618370241192961, 9.138294416061381]\n",
      "[5.650094004102566, 1.071580044337275, 4.370642202967951, 7.06905070314852, 9.570084792600737, 7.317893119399304, 9.211353562167552, 3.424648468690678, 9.596655591249379, 9.276254326639751]\n"
     ]
    }
   ],
   "source": [
    "print(np.mean(res))\n",
    "print(np.mean(res_chance))\n",
    "print(res)\n",
    "print(res_chance)"
   ]
  },
  {
   "cell_type": "code",
   "execution_count": 99,
   "metadata": {},
   "outputs": [
    {
     "name": "stdout",
     "output_type": "stream",
     "text": [
      "24.0 0.3\n"
     ]
    },
    {
     "name": "stderr",
     "output_type": "stream",
     "text": [
      "/userdata/smetzger/gim/lib/python3.6/site-packages/jax/_src/lax/lax.py:6271: UserWarning: Explicitly requested dtype float64 requested in array is not available, and will be truncated to dtype float32. To enable more dtypes, set the jax_enable_x64 configuration option or the JAX_ENABLE_X64 shell environment variable. See https://github.com/google/jax#current-gotchas for more.\n",
      "  warnings.warn(msg.format(dtype, fun_name , truncated_dtype))\n"
     ]
    }
   ],
   "source": [
    "jt_names = ['blind_irl', 'paired_comparisons', 'topK']\n",
    "jt_feedback_models = [irl_feedback_model, pc_feedback_model, top_K_feedback_model]\n",
    "jt_datasets = [irl_dataset, comparison_dataset, top_K_dataset]\n",
    "\n",
    "\n",
    "rng, jt_irl_feedback_params = irl_feedback_model.init_bias_params(rng)\n",
    "rng, jt_pc_bias_params = pc_feedback_model.init_bias_params(rng)\n",
    "rng, jt_top_K_params = top_K_feedback_model.init_bias_params(rng)\n",
    "\n",
    "jt_bias_params = [jt_irl_feedback_params, jt_pc_bias_params, jt_top_K_params]\n",
    "\n",
    "\n",
    "jt_bias_params = jt_bias_params[2:]\n",
    "jt_names = jt_names[2:]\n",
    "jt_feedback_models = jt_feedback_models[2:]\n",
    "jt_datasets = jt_datasets[2:]\n",
    "jt_rmodel = r_models.LinearRewardModel(env.obs_dim)\n",
    "jt_rprior = priors.FixedGaussianPrior(\n",
    "    mean=0.0, std=1.0, shape=rmodel.get_params().shape)\n",
    "\n",
    "\n",
    "# Step 1. What were the bias params?\n",
    "\n",
    "print(top_K_expert.cutoff, top_K_expert.temp)\n",
    "\n",
    "def recover_bias_terms_only(env, feedback_models, all_names, all_datasets,\n",
    "                   all_bias_params, rmodel, rprior, init_step_size=1e-3,\n",
    "                   n_steps=100):\n",
    "    \"\"\"Jointly trains a single reward model and a set of feedback bias models\n",
    "    on a given environment. Trains reward model with gradient descent, and\n",
    "    individual bias models with projected gradient descent.\n",
    "\n",
    "    Args:\n",
    "        env (gym.Environment): environment to train on.\n",
    "        feedback_models ([EnvFeedbackModel]): list of environment feedback\n",
    "            models.\n",
    "        all_names ([str]): human-readable names for the feedback models, to\n",
    "            be used for logging (`all_names[i]` is the name for\n",
    "            `feedback_models[i]`).\n",
    "        all_datasets (list): list of datasets for the feedback models\n",
    "            (`all_datasets[i]` is the dataset for `feedback_models[i]`).\n",
    "        all_bias_params (list): list of bias parameters for feedback models.\n",
    "            (`all_bias_params[i]` contains bias parameters for\n",
    "            `feedback_models[i]`).\n",
    "        rmodel (RewardModel): reward model, assumed to be shared across all\n",
    "            feedback modalities.\n",
    "        rprior (Prior): prior on reward model parameters.\n",
    "        init_step_size (float): length of the first step. Step size scales\n",
    "            linearly down to (just above) zero over the course of training.\n",
    "        n_steps (int): total number of steps to take.\n",
    "        \n",
    "    Returns: tuple of `(rmodel, all_bias_params)`, where `rmodel` is the same\n",
    "        model passed into the functino (this is updated in-place), and\n",
    "        `all_bias_params` is a set of updated bias parameters (these are not\n",
    "        updated in-place).\"\"\"\n",
    "    assert len(feedback_models) == len(all_datasets)\n",
    "    assert len(feedback_models) == len(all_bias_params)\n",
    "    all_bias_params = list(all_bias_params)\n",
    "    \n",
    "    def compute_ll():\n",
    "        \"\"\"Compute log likelihood of data under current reward model, bias\n",
    "        params, etc.\"\"\"\n",
    "        ll_terms = [\n",
    "            ('rmodel_prior', rprior.log_prior(rmodel.get_params())),\n",
    "        ]\n",
    "        name_model_ds_bias_iter = zip(\n",
    "            all_names, feedback_models, all_datasets, all_bias_params)\n",
    "        for name, model, dataset, bias_params in name_model_ds_bias_iter:\n",
    "            ll = model.log_likelihood(dataset, rmodel, bias_params)\n",
    "            ll_terms.append((f'{name}', ll))\n",
    "            ll_terms.append((f'{name}_prior', model.bias_prior.log_prior(bias_params)))\n",
    "        total_ll = sum(ll for name, ll in ll_terms)\n",
    "        return_dict = dict(ll_terms)\n",
    "        return_dict['all_terms'] = total_ll\n",
    "        return return_dict\n",
    "\n",
    "    ll_history = {k: [v] for k, v in compute_ll().items()}\n",
    "\n",
    "    for step_num in range(n_steps):\n",
    "        # progress_10 is 1 at the start of training, and linear drops to\n",
    "        # (just above) 0 at the end (after n_steps)\n",
    "        progress_10 = 1 - step_num / n_steps\n",
    "        step_size = init_step_size * progress_10 \n",
    "\n",
    "        # first do a joint reward model update w/ plain gradient descent\n",
    "        rmodel_grad = np.zeros_like(rmodel.get_params())\n",
    "#         model_ds_bias_iter = zip(feedback_models, all_datasets, all_bias_params)\n",
    "#         for model, dataset, bias_params in model_ds_bias_iter:\n",
    "#             rmodel_grad += model.log_likelihood_grad_rew(\n",
    "#                 dataset, rmodel, bias_params)\n",
    "#         rmodel_grad += rprior.log_prior_grad(rmodel.get_params())\n",
    "        rmodel.set_params(env.reward_matrix)\n",
    "\n",
    "        # now do individual bias model updates\n",
    "        model_ds_bias_enum = enumerate(zip(\n",
    "            feedback_models, all_datasets, all_bias_params))\n",
    "        for model_idx, (model, dataset, bias_params) in model_ds_bias_enum:\n",
    "            # Projected gradient descent: we take a gradient descent step, then\n",
    "            # project back to the support of the prior.\n",
    "            bias_param_grad = model.log_likelihood_grad_bias(\n",
    "                dataset, rmodel, bias_params)\n",
    "            bias_prior_grad = model.bias_prior.log_prior_grad(bias_params)\n",
    "            bias_grad = bias_param_grad #+ bias_prior_grad # TODO CHANGE\n",
    "            unproj_step = all_bias_params[model_idx] + step_size * bias_grad\n",
    "            proj_step = model.bias_prior.project_to_support(bias_grad)\n",
    "            all_bias_params[model_idx] = unproj_step\n",
    "\n",
    "            for k, v in compute_ll().items():\n",
    "                ll_history[k].append(v)\n",
    "\n",
    "    return rmodel, all_bias_params, ll_history"
   ]
  },
  {
   "cell_type": "code",
   "execution_count": 90,
   "metadata": {},
   "outputs": [],
   "source": [
    "jt_rmodel, jt_bias_params, ll_history = recover_bias_terms_only(\n",
    "    env=env, feedback_models=jt_feedback_models, all_names=jt_names,\n",
    "    all_datasets=jt_datasets, all_bias_params=jt_bias_params,\n",
    "    rmodel=jt_rmodel, rprior=jt_rprior, init_step_size=1e-3, n_steps=100)"
   ]
  },
  {
   "cell_type": "code",
   "execution_count": 91,
   "metadata": {},
   "outputs": [
    {
     "data": {
      "text/plain": [
       "array([0., 0., 0., 0., 0., 0., 0., 0., 0., 3., 0., 0., 0., 0., 0., 0.])"
      ]
     },
     "execution_count": 91,
     "metadata": {},
     "output_type": "execute_result"
    }
   ],
   "source": [
    "jt_rmodel.get_params()"
   ]
  },
  {
   "cell_type": "code",
   "execution_count": 92,
   "metadata": {},
   "outputs": [
    {
     "data": {
      "text/plain": [
       "array([0., 0., 0., 0., 0., 0., 0., 0., 0., 3., 0., 0., 0., 0., 0., 0.])"
      ]
     },
     "execution_count": 92,
     "metadata": {},
     "output_type": "execute_result"
    }
   ],
   "source": [
    "env.reward_matrix"
   ]
  },
  {
   "cell_type": "code",
   "execution_count": 93,
   "metadata": {},
   "outputs": [
    {
     "data": {
      "text/plain": [
       "[DeviceArray([0.1033, 0.3939], dtype=float32)]"
      ]
     },
     "execution_count": 93,
     "metadata": {},
     "output_type": "execute_result"
    }
   ],
   "source": [
    "jt_bias_params"
   ]
  },
  {
   "cell_type": "code",
   "execution_count": null,
   "metadata": {},
   "outputs": [],
   "source": []
  }
 ],
 "metadata": {
  "kernelspec": {
   "display_name": "Python 3",
   "language": "python",
   "name": "python3"
  },
  "language_info": {
   "codemirror_mode": {
    "name": "ipython",
    "version": 3
   },
   "file_extension": ".py",
   "mimetype": "text/x-python",
   "name": "python",
   "nbconvert_exporter": "python",
   "pygments_lexer": "ipython3",
   "version": "3.6.6"
  }
 },
 "nbformat": 4,
 "nbformat_minor": 4
}
