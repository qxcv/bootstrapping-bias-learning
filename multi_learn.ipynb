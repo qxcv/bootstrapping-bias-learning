{
 "cells": [
  {
   "cell_type": "markdown",
   "metadata": {},
   "source": [
    "# Bias model bootstrapping notebook\n",
    "\n",
    "Eventually this notebook will (hopefully?) contain all the code necessary to run our final experiments.\n",
    "For now it just contains a demo of MCE IRL on some gridworlds from the \"learning biases\" paper.\n",
    "\n",
    "First we have some not-very-interesting setup:"
   ]
  },
  {
   "cell_type": "code",
   "execution_count": 1,
   "metadata": {},
   "outputs": [],
   "source": [
    "%matplotlib inline\n",
    "\n",
    "# These are useful for debugging, but make code slower:\n",
    "%load_ext autoreload\n",
    "%autoreload 2\n",
    "\n",
    "import logging\n",
    "\n",
    "import numpy as np\n",
    "import matplotlib.pyplot as plt\n",
    "import pandas as pd\n",
    "import seaborn as sns\n",
    "import jax\n",
    "import jax.experimental.optimizers as jopt\n",
    "import jax.random as jrandom\n",
    "import numpy as np\n",
    "\n",
    "from pref_bootstrap.envs import gridworld, mdp_interface\n",
    "from pref_bootstrap.algos import mce_irl\n",
    "import pref_bootstrap.feedback_learner_blind_irl as fbl_blind_irl\n",
    "import pref_bootstrap.feedback_learner_paired_comparisons as fbl_paired_comp\n",
    "import pref_bootstrap.reward_models as r_models\n",
    "import pref_bootstrap.expert_base as experts\n",
    "\n",
    "sns.set(context='notebook', style='darkgrid')\n",
    "logging.basicConfig(level=logging.INFO)\n",
    "np.set_printoptions(precision=4, linewidth=100)"
   ]
  },
  {
   "cell_type": "markdown",
   "metadata": {},
   "source": [
    "## Very simple example of using environments and MCE IRL code\n",
    "\n",
    "This code doesn't use the new agent API"
   ]
  },
  {
   "cell_type": "code",
   "execution_count": 2,
   "metadata": {},
   "outputs": [],
   "source": [
    "random_gridworld = gridworld.GridworldMdp.generate_random(4, 4, 0.2, 0.1)\n",
    "env = mdp_interface.GridworldEnvWrapper(random_gridworld, random_gridworld.height + random_gridworld.width)"
   ]
  },
  {
   "cell_type": "code",
   "execution_count": 3,
   "metadata": {},
   "outputs": [],
   "source": [
    "# generate some optimal demos (represented by a single optimal occupancy measure vector) and run MCE IRL\n",
    "_, optimal_om = mce_irl.mce_occupancy_measures(env)\n",
    "rmodel = r_models.LinearRewardModel(env.obs_dim)\n",
    "opt_tup = jopt.momentum(1e-2, 0.9)"
   ]
  },
  {
   "cell_type": "code",
   "execution_count": 4,
   "metadata": {},
   "outputs": [
    {
     "name": "stderr",
     "output_type": "stream",
     "text": [
      "WARNING:absl:No GPU/TPU found, falling back to CPU. (Set TF_CPP_MIN_LOG_LEVEL=0 and rerun for more info.)\n",
      "INFO:root:Occupancy measure error@iter   0: 5.762939 (||params||=4.068048, ||grad||=8.015598, ||E[dr/dw]||=6.683273)\n",
      "INFO:root:Occupancy measure error@iter  100: 0.091004 (||params||=4.893442, ||grad||=0.105896, ||E[dr/dw]||=6.040026)\n",
      "INFO:root:Occupancy measure error@iter  200: 0.023760 (||params||=4.510709, ||grad||=0.027545, ||E[dr/dw]||=5.969635)\n",
      "INFO:root:Occupancy measure error@iter  300: 0.014850 (||params||=4.448979, ||grad||=0.017375, ||E[dr/dw]||=5.963941)\n",
      "INFO:root:Occupancy measure error@iter  400: 0.008788 (||params||=4.427273, ||grad||=0.010371, ||E[dr/dw]||=5.963120)\n",
      "INFO:root:Occupancy measure error@iter  500: 0.004955 (||params||=4.418576, ||grad||=0.005887, ||E[dr/dw]||=5.962843)\n",
      "INFO:root:Occupancy measure error@iter  600: 0.002721 (||params||=4.415088, ||grad||=0.003248, ||E[dr/dw]||=5.962772)\n",
      "INFO:root:Occupancy measure error@iter  700: 0.001474 (||params||=4.413625, ||grad||=0.001764, ||E[dr/dw]||=5.962763)\n"
     ]
    }
   ],
   "source": [
    "rew_params, visitations = mce_irl.mce_irl(env, opt_tup, rmodel, optimal_om, print_interval=100, max_iter=1000)"
   ]
  },
  {
   "cell_type": "code",
   "execution_count": 5,
   "metadata": {},
   "outputs": [
    {
     "name": "stdout",
     "output_type": "stream",
     "text": [
      "Optimal state visitation frequencies for each grid cell:\n",
      "[[0.     0.     0.     0.    ]\n",
      " [0.     0.5664 1.053  0.    ]\n",
      " [0.     5.8141 0.5664 0.    ]\n",
      " [0.     0.     0.     0.    ]]\n",
      "\n",
      "Recovered state visitation frequencies for each grid cell:\n",
      "[[0.     0.     0.     0.    ]\n",
      " [0.     0.5669 1.052  0.    ]\n",
      " [0.     5.8142 0.5669 0.    ]\n",
      " [0.     0.     0.     0.    ]]\n"
     ]
    }
   ],
   "source": [
    "print('Optimal state visitation frequencies for each grid cell:')\n",
    "print(optimal_om.reshape((random_gridworld.height, random_gridworld.width)))\n",
    "print('\\nRecovered state visitation frequencies for each grid cell:')\n",
    "print(visitations.reshape((random_gridworld.height, random_gridworld.width)))"
   ]
  },
  {
   "cell_type": "markdown",
   "metadata": {},
   "source": [
    "## More complex example showing how to use an EnvFeedbackModel to recover both a reward function + sub-rationality model\n",
    "\n",
    "This code actually does use the new API to show how to use the 'blind IRL' feedback model (& its associated expert, which doesn't support observation blinding yet)."
   ]
  },
  {
   "cell_type": "code",
   "execution_count": 94,
   "metadata": {},
   "outputs": [
    {
     "name": "stderr",
     "output_type": "stream",
     "text": [
      "/userdata/smetzger/gim/lib/python3.6/site-packages/jax/_src/lax/lax.py:6271: UserWarning: Explicitly requested dtype float64 requested in array is not available, and will be truncated to dtype float32. To enable more dtypes, set the jax_enable_x64 configuration option or the JAX_ENABLE_X64 shell environment variable. See https://github.com/google/jax#current-gotchas for more.\n",
      "  warnings.warn(msg.format(dtype, fun_name , truncated_dtype))\n"
     ]
    }
   ],
   "source": [
    "import pref_bootstrap.feedback_learner_topk as fbl_topk\n",
    "\n",
    "rmodel = r_models.LinearRewardModel(env.obs_dim)\n",
    "top_K_feedback_model = fbl_topk.TopKFeedbackModel(env)\n",
    "top_K_expert = experts.TopKExpert(env, temp=.3, K=.05, seed=42)"
   ]
  },
  {
   "cell_type": "code",
   "execution_count": 95,
   "metadata": {},
   "outputs": [
    {
     "name": "stdout",
     "output_type": "stream",
     "text": [
      "cutoff 15.0\n",
      "0.101\n",
      "0.101\n"
     ]
    }
   ],
   "source": [
    "# def genereate_top_K_dataset(n_traj): \n",
    "import random\n",
    "\n",
    "n_traj = 1000\n",
    "rmodel = r_models.LinearRewardModel(env.obs_dim)\n",
    "rmodel.set_params(env.reward_matrix)\n",
    "traj = mce_irl.mce_irl_sample(env, n_traj, R=np.ones((env.n_states,)))\n",
    "labels= top_K_expert.interact(traj, rmodel)\n",
    "\n",
    "labels_final, traj_final = [], []\n",
    "for l, t in zip(labels, traj['states']): \n",
    "    if not(l):\n",
    "        if True:#random.random() < (np.sum(labels)/len(labels)):\n",
    "            labels_final.append(l), traj_final.append(t)\n",
    "    else: \n",
    "        labels_final.append(l), traj_final.append(t)\n",
    "        \n",
    "labels_final = np.array(labels_final)\n",
    "        \n",
    "print(np.sum(labels)/len(labels))\n",
    "print(np.sum(labels_final)/len(labels_final))\n"
   ]
  },
  {
   "cell_type": "code",
   "execution_count": 96,
   "metadata": {},
   "outputs": [
    {
     "name": "stdout",
     "output_type": "stream",
     "text": [
      "cutoff 15.0\n"
     ]
    }
   ],
   "source": [
    "def generate_topk_dataset(n_traj):\n",
    "    # def genereate_top_K_dataset(n_traj): \n",
    "    import random\n",
    "    rmodel = r_models.LinearRewardModel(env.obs_dim)\n",
    "    rmodel.set_params(env.reward_matrix)\n",
    "    traj = mce_irl.mce_irl_sample(env, n_traj, R=np.ones((env.n_states,)))\n",
    "    labels= top_K_expert.interact(traj, rmodel)\n",
    "\n",
    "    labels_final, traj_final = [], []\n",
    "    for l, t in zip(labels, traj['states']): \n",
    "        if not(l):\n",
    "            if random.random() < top_K_expert.K:#TODO if there are issues update this so that we balance our dataset.\n",
    "                labels_final.append(l), traj_final.append(t)\n",
    "        else: \n",
    "            labels_final.append(l), traj_final.append(t)\n",
    "\n",
    "    labels_final = np.array([int(l) for l in labels_final])\n",
    "    \n",
    "    return {\n",
    "        'trajectories':np.array(traj_final), \n",
    "        'labels':labels_final\n",
    "    }\n",
    "\n",
    "top_K_dataset = generate_topk_dataset(1000)\n"
   ]
  },
  {
   "cell_type": "code",
   "execution_count": 121,
   "metadata": {},
   "outputs": [
    {
     "name": "stdout",
     "output_type": "stream",
     "text": [
      "sampledvec [0.7932 7.5754]\n"
     ]
    },
    {
     "name": "stderr",
     "output_type": "stream",
     "text": [
      "/userdata/smetzger/gim/lib/python3.6/site-packages/jax/_src/lax/lax.py:6271: UserWarning: Explicitly requested dtype float64 requested in array is not available, and will be truncated to dtype float32. To enable more dtypes, set the jax_enable_x64 configuration option or the JAX_ENABLE_X64 shell environment variable. See https://github.com/google/jax#current-gotchas for more.\n",
      "  warnings.warn(msg.format(dtype, fun_name , truncated_dtype))\n"
     ]
    }
   ],
   "source": [
    "lr = 1e-3\n",
    "steps = 1000\n",
    "loss_prev = float('Inf')\n",
    "delta = 100\n",
    "eps = 1e-5\n",
    "\n",
    "import pref_bootstrap.feedback_learner_topk as fbl_topk\n",
    "top_K_feedback_model = fbl_topk.TopKFeedbackModel(env)\n",
    "top_K_expert = experts.TopKExpert(env, temp=.3, K=.05, seed=42)\n",
    "rmodel = r_models.LinearRewardModel(env.obs_dim)\n",
    "import jax\n",
    "import jax.numpy as jnp\n",
    "\n",
    "rng = jrandom.PRNGKey(23)\n",
    "rng, top_K_bias_params = top_K_feedback_model.init_bias_params(rng)"
   ]
  },
  {
   "cell_type": "code",
   "execution_count": 183,
   "metadata": {},
   "outputs": [
    {
     "name": "stdout",
     "output_type": "stream",
     "text": [
      "step 0 loss -6.725\n",
      "step 100 loss -1.582\n",
      "step 200 loss -1.452\n",
      "step 300 loss -1.283\n",
      "step 400 loss -1.056\n",
      "step 500 loss -0.779\n",
      "step 600 loss -0.563\n",
      "step 700 loss -0.463\n",
      "step 800 loss -0.425\n",
      "step 900 loss -0.410\n",
      "terminated due to delta\n"
     ]
    }
   ],
   "source": [
    "def trad_optimize(model, data, rmodel, bias_params, use_bias_prior=False, \n",
    "                  eps=1e-9, optimize_bias=True,one_bias=False, iters=1000):\n",
    "    \"\"\"\n",
    "    Note: Going to add back the projected G.D\n",
    "    I'm not really sure why he was trying to optimize the probability of the bias terms under the bias prior, \n",
    "    i don't really think that makes much sense. You'll basically just push it towards the mean terms even\n",
    "    thought its not really there...\n",
    "    \n",
    "    \"\"\"\n",
    "    lr = 1e-2\n",
    "    \n",
    "    steps = iters\n",
    "    loss_prev = float('Inf')\n",
    "    delta = 100\n",
    " \n",
    "    step = 0\n",
    "    while(step<steps):\n",
    "\n",
    "        grew = model.log_likelihood_grad_rew(data, rmodel, bias_params)\n",
    "        new_r = rmodel.get_params() + lr*grew\n",
    "        \n",
    "        rmodel.set_params(new_r)\n",
    "        \n",
    "        gbias = model.log_likelihood_grad_bias(data, rmodel, bias_params)\n",
    "       \n",
    "        if use_bias_prior and optimize_bias: \n",
    "            bias_prior_grad = model.bias_prior.log_prior_grad(bias_params)\n",
    "            gbias = gbias+bias_prior_grad\n",
    "        if optimize_bias: \n",
    "            bias_params = bias_params+lr*gbias\n",
    "        elif (not optimize_bias) and one_bias: \n",
    "            bias_params = jnp.ones_like(bias_params) # TODO: \n",
    "        \n",
    "        if use_bias_prior: \n",
    "            bias_params = model.bias_prior.project_to_support(bias_params)\n",
    "        \n",
    "        loss = model.log_likelihood(data, rmodel, bias_params)\n",
    "        if step % 100 == 0:\n",
    "            print('step %d loss %.3f' %(step, loss))\n",
    "        if step > 0: \n",
    "            delta = loss-loss_prev\n",
    "        loss_prev = loss\n",
    "        step +=1\n",
    "\n",
    "        \n",
    "\n",
    "    if np.abs(delta) <= .0001: \n",
    "        print('terminated due to delta')\n",
    "    else: \n",
    "        print('terminated due to steps exceeding %d' %steps)\n",
    "        \n",
    "    return model, rmodel, bias_params\n",
    "rmodel = r_models.LinearRewardModel(env.obs_dim)\n",
    "_, rmodel, _ = trad_optimize(top_K_feedback_model, top_K_dataset, rmodel, top_K_bias_params, optimize_bias=True, \n",
    "                            use_bias_prior=True, iters=1000)"
   ]
  },
  {
   "cell_type": "code",
   "execution_count": 185,
   "metadata": {},
   "outputs": [
    {
     "name": "stdout",
     "output_type": "stream",
     "text": [
      "Optimal state visitation frequencies for each grid cell:\n",
      "[[0.     0.     0.     0.    ]\n",
      " [0.     0.5664 1.053  0.    ]\n",
      " [0.     5.8141 0.5664 0.    ]\n",
      " [0.     0.     0.     0.    ]]\n",
      "Inferred \n",
      "[[0.     0.     0.     0.    ]\n",
      " [0.     0.5871 1.1997 0.    ]\n",
      " [0.     5.1511 1.0621 0.    ]\n",
      " [0.     0.     0.     0.    ]]\n"
     ]
    },
    {
     "data": {
      "image/png": "[encoded data removed]",
      "text/plain": [
       "<Figure size 432x288 with 1 Axes>"
      ]
     },
     "metadata": {
      "needs_background": "light"
     },
     "output_type": "display_data"
    }
   ],
   "source": [
    "def evaluate(rmodel, name):\n",
    "\n",
    "\n",
    "    _, topk_om = mce_irl.mce_occupancy_measures(env, R=rmodel.get_params())\n",
    "\n",
    "    print('Optimal state visitation frequencies for each grid cell:')\n",
    "    print(optimal_om.reshape((random_gridworld.height, random_gridworld.width)))\n",
    "\n",
    "    print('Inferred ')\n",
    "    print(topk_om.reshape((random_gridworld.height, random_gridworld.width)))\n",
    "    \n",
    "    visited_states = np.nonzero((optimal_om > 1e-5) | (topk_om > 1e-5))[0]\n",
    "    plt.plot(visited_states, rmodel.get_params()[visited_states], label='est')\n",
    "    plt.plot(visited_states, env.reward_matrix[visited_states], label='real_reward')\n",
    "    plt.legend()\n",
    "    plt.title('Estimated Reward Function %s' %name)\n",
    "    plt.savefig('./images/reward_%s.png' %name)\n",
    "    \n",
    "evaluate(rmodel, name='Top-K feedback model')"
   ]
  },
  {
   "cell_type": "code",
   "execution_count": 186,
   "metadata": {},
   "outputs": [],
   "source": [
    "pc_feedback_model = fbl_paired_comp.PairedCompFeedbackModel(env)\n",
    "rng, pc_bias_params = pc_feedback_model.init_bias_params(rng)\n",
    "pc_expert = experts.PairedComparisonExpert(env, boltz_temp=1.0, seed=42)\n",
    "\n",
    "# generate some random trajectories & compare a random subset of them\n",
    "def generate_comparison_dataset(pc_ntraj):\n",
    "    pc_trajectories = mce_irl.mce_irl_sample(env, pc_ntraj, R=np.ones((env.n_states, )))\n",
    "    to_compare_first = np.arange(len(pc_trajectories['states']))\n",
    "    comparisons = []\n",
    "    for first_idx in range(pc_ntraj):\n",
    "        second_idx = np.random.randint(pc_ntraj - 1)\n",
    "        if second_idx >= first_idx:\n",
    "            second_idx += 1\n",
    "        traj1_is_better = pc_expert.interact(\n",
    "            dict(states=pc_trajectories['states'][first_idx]),\n",
    "            dict(states=pc_trajectories['states'][second_idx]))\n",
    "        if traj1_is_better:\n",
    "            # the better trajectory comes before the worse one\n",
    "            comparisons.append((first_idx, second_idx))\n",
    "        else:\n",
    "            comparisons.append((second_idx, first_idx))\n",
    "    return {\n",
    "        'trajectories': pc_trajectories,\n",
    "        'comparisons': np.asarray(comparisons),\n",
    "    }\n",
    "\n",
    "comparison_dataset = generate_comparison_dataset(100)"
   ]
  },
  {
   "cell_type": "code",
   "execution_count": 187,
   "metadata": {},
   "outputs": [
    {
     "name": "stdout",
     "output_type": "stream",
     "text": [
      "step 0 loss -1.378\n",
      "step 100 loss -0.473\n",
      "step 200 loss -0.290\n",
      "step 300 loss -0.254\n",
      "step 400 loss -0.246\n",
      "step 500 loss -0.245\n",
      "step 600 loss -0.244\n",
      "step 700 loss -0.244\n",
      "step 800 loss -0.244\n",
      "step 900 loss -0.244\n",
      "terminated due to delta\n",
      "Optimal state visitation frequencies for each grid cell:\n",
      "[[0.     0.     0.     0.    ]\n",
      " [0.     0.5664 1.053  0.    ]\n",
      " [0.     5.8141 0.5664 0.    ]\n",
      " [0.     0.     0.     0.    ]]\n",
      "Inferred \n",
      "[[0.     0.     0.     0.    ]\n",
      " [0.     0.5721 1.12   0.    ]\n",
      " [0.     5.6199 0.6881 0.    ]\n",
      " [0.     0.     0.     0.    ]]\n"
     ]
    },
    {
     "data": {
      "image/png": "[encoded data removed]",
      "text/plain": [
       "<Figure size 432x288 with 1 Axes>"
      ]
     },
     "metadata": {
      "needs_background": "light"
     },
     "output_type": "display_data"
    }
   ],
   "source": [
    "rmodel = r_models.LinearRewardModel(env.obs_dim)\n",
    "_, rmodel, _ = trad_optimize(pc_feedback_model, comparison_dataset, rmodel, pc_bias_params, use_bias_prior=True, \n",
    "                            optimize_bias=True, one_bias=False)\n",
    "evaluate(rmodel, name='Paired Comparisons')"
   ]
  },
  {
   "cell_type": "code",
   "execution_count": 192,
   "metadata": {},
   "outputs": [
    {
     "name": "stdout",
     "output_type": "stream",
     "text": [
      "step 0 loss -13.582\n",
      "step 100 loss -8.502\n",
      "step 200 loss -8.383\n",
      "step 300 loss -8.332\n",
      "step 400 loss -8.305\n",
      "step 500 loss -8.289\n",
      "step 600 loss -8.279\n",
      "step 700 loss -8.272\n",
      "step 800 loss -8.268\n",
      "step 900 loss -8.264\n",
      "terminated due to delta\n",
      "Optimal state visitation frequencies for each grid cell:\n",
      "[[0.     0.     0.     0.    ]\n",
      " [0.     0.5664 1.053  0.    ]\n",
      " [0.     5.8141 0.5664 0.    ]\n",
      " [0.     0.     0.     0.    ]]\n",
      "Inferred \n",
      "[[0.     0.     0.     0.    ]\n",
      " [0.     0.6214 1.0803 0.    ]\n",
      " [0.     5.5201 0.7783 0.    ]\n",
      " [0.     0.     0.     0.    ]]\n"
     ]
    },
    {
     "data": {
      "image/png": "[encoded data removed]",
      "text/plain": [
       "<Figure size 432x288 with 1 Axes>"
      ]
     },
     "metadata": {
      "needs_background": "light"
     },
     "output_type": "display_data"
    }
   ],
   "source": [
    "irl_feedback_model = fbl_blind_irl.BlindIRLFeedbackModel(env)\n",
    "rmodel = r_models.LinearRewardModel(env.obs_dim)\n",
    "rng = jrandom.PRNGKey(42)\n",
    "rng, irl_bias_params = irl_feedback_model.init_bias_params(rng)\n",
    "irl_expert = experts.MEDemonstratorExpert(env, np.random.randint((1 << 31) - 1))\n",
    "# we'll do IRL based on 10 trajectories\n",
    "irl_dataset = irl_expert.interact(10)\n",
    "_, rmodel, _ = trad_optimize(irl_feedback_model, irl_dataset, rmodel, irl_bias_params, use_bias_prior=True, optimize_bias=True, \n",
    "                            one_bias=False)\n",
    "evaluate(rmodel, name='Blind IRL')"
   ]
  },
  {
   "cell_type": "code",
   "execution_count": 206,
   "metadata": {},
   "outputs": [],
   "source": [
    "def multi_optimize(model_list, data_list, rmodel, bias_list, use_bias_list, optimize_reward=True, \n",
    "                   optimize_bias=True, one_bias=False): \n",
    "    \n",
    "    lr = 1e-2\n",
    "    steps = 1000\n",
    "    loss_prev = float('Inf')\n",
    "    delta = 100\n",
    "    step = 0\n",
    "    \n",
    "    while(step<steps):\n",
    "    \n",
    "        grew = jnp.zeros_like(env.reward_matrix)\n",
    "        \n",
    "        if optimize_reward: \n",
    "            for model, data, bias_params in zip(model_list, data_list, bias_list):\n",
    "                grew += model.log_likelihood_grad_rew(data, rmodel, bias_params)\n",
    "        new_r = rmodel.get_params() + lr*grew\n",
    "        rmodel.set_params(new_r)\n",
    "        \n",
    "        for k, (model, data, bias_params, use_bias_prior) in enumerate(zip(model_list, data_list, bias_list, use_bias_list)):\n",
    "            gbias = model.log_likelihood_grad_bias(data, rmodel, bias_params)\n",
    "            if use_bias_prior and optimize_bias: \n",
    "                bias_prior_grad = model.bias_prior.log_prior_grad(bias_params)\n",
    "                gbias = gbias+bias_prior_grad\n",
    "            if optimize_bias: \n",
    "                bias_params = bias_params + lr*gbias\n",
    "            elif (not optimize_bias) and one_bias: \n",
    "                bias_params = jnp.ones_like(bias_params) # TODO: \n",
    "                \n",
    "            if use_bias_prior: \n",
    "                bias_params = model.bias_prior.project_to_support(bias_params)\n",
    "            bias_list[k] = bias_params\n",
    "            \n",
    "       \n",
    "            \n",
    "        for k, (model, data, bias_params) in enumerate(zip(model_list, data_list, bias_list)):\n",
    "            loss = model.log_likelihood(data, rmodel, bias_params)\n",
    "          \n",
    "            if step % 100 == 0:\n",
    "                print('step %d loss %.3f model %d' %(step, loss, k))\n",
    "                print('---', bias_params)\n",
    "        if step > 0: \n",
    "            delta = loss-loss_prev\n",
    "        loss_prev = loss\n",
    "        step +=1\n",
    "        \n",
    "    return model_list, rmodel, bias_list"
   ]
  },
  {
   "cell_type": "code",
   "execution_count": 153,
   "metadata": {},
   "outputs": [],
   "source": [
    "# Reinitializing all the models\n",
    "\n",
    "def init_models(opt_reward=False):\n",
    "    irl_feedback_model = fbl_blind_irl.BlindIRLFeedbackModel(env)\n",
    "    rmodel = r_models.LinearRewardModel(env.obs_dim)\n",
    "    rng = jrandom.PRNGKey(42)\n",
    "    rng, irl_bias_params = irl_feedback_model.init_bias_params(rng)\n",
    "    irl_expert = experts.MEDemonstratorExpert(env, np.random.randint((1 << 31) - 1))\n",
    "    # we'll do IRL based on 10 trajectories\n",
    "    irl_dataset = irl_expert.interact(20)\n",
    "\n",
    "    pc_feedback_model = fbl_paired_comp.PairedCompFeedbackModel(env)\n",
    "    rng, pc_bias_params = pc_feedback_model.init_bias_params(rng)\n",
    "    pc_expert = experts.PairedComparisonExpert(env, boltz_temp=1.0, seed=42)\n",
    "\n",
    "    # generate some random trajectories & compare a random subset of them\n",
    "    def generate_comparison_dataset(pc_ntraj):\n",
    "        pc_trajectories = mce_irl.mce_irl_sample(env, pc_ntraj, R=np.ones((env.n_states, )))\n",
    "        to_compare_first = np.arange(len(pc_trajectories['states']))\n",
    "        comparisons = []\n",
    "        for first_idx in range(pc_ntraj):\n",
    "            second_idx = np.random.randint(pc_ntraj - 1)\n",
    "            if second_idx >= first_idx:\n",
    "                second_idx += 1\n",
    "            traj1_is_better = pc_expert.interact(\n",
    "                dict(states=pc_trajectories['states'][first_idx]),\n",
    "                dict(states=pc_trajectories['states'][second_idx]))\n",
    "            if traj1_is_better:\n",
    "                # the better trajectory comes before the worse one\n",
    "                comparisons.append((first_idx, second_idx))\n",
    "            else:\n",
    "                comparisons.append((second_idx, first_idx))\n",
    "        return {\n",
    "            'trajectories': pc_trajectories,\n",
    "            'comparisons': np.asarray(comparisons),\n",
    "        }\n",
    "\n",
    "    comparison_dataset = generate_comparison_dataset(20)\n",
    "\n",
    "    top_K_expert = experts.TopKExpert(env, temp=.3, K=.01, seed=42)\n",
    "    def generate_topk_dataset(n_traj):\n",
    "        # def genereate_top_K_dataset(n_traj): \n",
    "        import random\n",
    "        rmodel = r_models.LinearRewardModel(env.obs_dim)\n",
    "        rmodel.set_params(env.reward_matrix)\n",
    "        traj = mce_irl.mce_irl_sample(env, n_traj, R=np.ones((env.n_states,)))\n",
    "        labels= top_K_expert.interact(traj, rmodel)\n",
    "\n",
    "        labels_final, traj_final = [], []\n",
    "        for l, t in zip(labels, traj['states']): \n",
    "            if not(l):\n",
    "                if random.random() < top_K_expert.K:#TODO if there are issues update this so that we balance our dataset.\n",
    "                    labels_final.append(l), traj_final.append(t)\n",
    "            else: \n",
    "                labels_final.append(l), traj_final.append(t)\n",
    "\n",
    "        labels_final = np.array([int(l) for l in labels_final])\n",
    "\n",
    "        return {\n",
    "            'trajectories':np.array(traj_final), \n",
    "            'labels':labels_final\n",
    "        }\n",
    "\n",
    "    top_K_dataset = generate_topk_dataset(1000)\n",
    "\n",
    "    import pref_bootstrap.feedback_learner_topk as fbl_topk\n",
    "    top_K_feedback_model = fbl_topk.TopKFeedbackModel(env)\n",
    "\n",
    "    rmodel = r_models.LinearRewardModel(env.obs_dim)\n",
    "    import jax\n",
    "    import jax.numpy as jnp\n",
    "\n",
    "    rng = jrandom.PRNGKey(23)\n",
    "    rng, top_K_bias_params = top_K_feedback_model.init_bias_params(rng)\n",
    "\n",
    "    model_list = [top_K_feedback_model, pc_feedback_model, irl_feedback_model]\n",
    "    data_list = [top_K_dataset, comparison_dataset, irl_dataset]\n",
    "    bias_list = [top_K_bias_params, pc_bias_params, irl_bias_params]\n",
    "    use_bias_list = [True, True, True]\n",
    "    rmodel = r_models.LinearRewardModel(env.obs_dim)\n",
    "    if opt_reward:\n",
    "        rmodel.set_params(env.reward_matrix)\n",
    "        \n",
    "    names = ['top_K', 'paired_comparisons', 'blind_irl']\n",
    "    \n",
    "    biases_actual = []\n",
    "    \n",
    "    # TOP K biases \n",
    "    biases_actual.append((top_K_expert.temp, top_K_expert.cutoff))\n",
    "    \n",
    "    # pc actual bias\n",
    "    biases_actual.append((pc_expert.boltz_temp))\n",
    "    \n",
    "    #blind irl actual bias\n",
    "    biases_actual.append((irl_bias_params))\n",
    "        \n",
    "    return model_list, data_list, rmodel, bias_list, use_bias_list, names, biases_actual"
   ]
  },
  {
   "cell_type": "code",
   "execution_count": 154,
   "metadata": {},
   "outputs": [
    {
     "name": "stdout",
     "output_type": "stream",
     "text": [
      "cutoff 18.0\n"
     ]
    },
    {
     "name": "stderr",
     "output_type": "stream",
     "text": [
      "/userdata/smetzger/gim/lib/python3.6/site-packages/jax/_src/lax/lax.py:6271: UserWarning: Explicitly requested dtype float64 requested in array is not available, and will be truncated to dtype float32. To enable more dtypes, set the jax_enable_x64 configuration option or the JAX_ENABLE_X64 shell environment variable. See https://github.com/google/jax#current-gotchas for more.\n",
      "  warnings.warn(msg.format(dtype, fun_name , truncated_dtype))\n"
     ]
    },
    {
     "name": "stdout",
     "output_type": "stream",
     "text": [
      "sampledvec [0.7932 7.5754]\n",
      "step 0 loss -0.520 model 0\n",
      "--- [0.767  7.5757]\n",
      "step 0 loss -0.351 model 1\n",
      "--- 1.054257\n",
      "step 0 loss -9.700 model 2\n",
      "--- [ 0.2615  0.9746  0.8427  0.1912  0.2875  0.5338  0.578   0.5933  0.7414  0.298   0.3108  1.2316\n",
      "  0.0281  0.8355  0.9521 -0.3418]\n",
      "step 100 loss -0.419 model 0\n",
      "--- [0.3792 7.6336]\n",
      "step 100 loss -0.352 model 1\n",
      "--- 0.964028\n",
      "step 100 loss -8.275 model 2\n",
      "--- [-3.5845 -4.9994  1.1285  0.2392  0.3011  1.3171 -0.5696  0.7402 -0.7269  1.0098 -1.9833  2.0597\n",
      " -5.9732 -1.3339 -0.4334  6.0245]\n",
      "step 200 loss -0.422 model 0\n",
      "--- [0.3788 7.6923]\n",
      "step 200 loss -0.352 model 1\n",
      "--- 0.964028\n",
      "step 200 loss -8.755 model 2\n",
      "--- [-3.3277 -4.8128  0.9765  2.9997  0.5166  2.2625 11.3674 -1.6935 -0.7112  0.5322 -1.5162  0.695\n",
      " -5.8159 -0.5434 -3.5215  5.8389]\n",
      "step 300 loss -0.426 model 0\n",
      "--- [0.3785 7.7485]\n",
      "step 300 loss -0.352 model 1\n",
      "--- 0.964028\n",
      "step 300 loss -9.013 model 2\n",
      "--- [-3.0517 -4.6194 -1.672   2.5367 -3.7697  1.3755 11.2748 -1.1332  0.2708  0.4423 -0.8698 12.303\n",
      " -5.6545  0.204  -3.2603  5.6464]\n",
      "step 400 loss -0.429 model 0\n",
      "--- [0.3782 7.8021]\n",
      "step 400 loss -0.352 model 1\n",
      "--- 0.964028\n",
      "step 400 loss -8.254 model 2\n",
      "--- [-2.7513 -4.4182 -1.1029  1.9022 -3.5251  1.5288 11.1814 -0.1709  0.934   1.2235  1.3169 12.2178\n",
      " -5.4887 -0.4751 -2.9787  5.4463]\n",
      "step 500 loss -0.432 model 0\n",
      "--- [0.3779 7.8533]\n",
      "step 500 loss -0.352 model 1\n",
      "--- 0.964028\n",
      "step 500 loss -8.254 model 2\n",
      "--- [ -2.4186  -4.2082  -1.4815   0.5528  -3.2641  -3.4067  11.0871   0.5807 -38.279    1.1849   1.7304\n",
      "  12.132   -5.3181   3.2246  -2.6712   5.2376]\n",
      "step 600 loss -0.436 model 0\n",
      "--- [0.3776 7.9022]\n",
      "step 600 loss -0.352 model 1\n",
      "--- 0.964028\n",
      "step 600 loss -8.492 model 2\n",
      "--- [ -2.0397  -3.9881  -0.8137  -1.8076  -2.9829  -3.1369  10.992   -0.3765 -38.2531   2.31     0.5982\n",
      "  12.0455  -5.1423   2.8115  -2.3285   5.0191]\n",
      "step 700 loss -0.439 model 0\n",
      "--- [0.3773 7.949 ]\n",
      "step 700 loss -0.352 model 1\n",
      "--- 0.964028\n",
      "step 700 loss -8.259 model 2\n",
      "--- [ -1.5867  -3.7565   0.6641  -1.289   -2.6757  -2.8446  10.8961   1.8542 -38.2271   1.3044   1.7355\n",
      "  11.9584  -4.9607   2.2942  -1.9345   4.7891]\n",
      "step 800 loss -0.442 model 0\n",
      "--- [0.377  7.9936]\n",
      "step 800 loss -0.352 model 1\n",
      "--- 0.964028\n",
      "step 800 loss -8.778 model 2\n",
      "--- [ -0.9785  -3.511   13.8192  -0.4429  -2.3336  -2.5227  10.7992   3.5962 -38.2012   3.2755   0.2321\n",
      "  11.8707  -4.7728   1.4553  -1.4544   4.5457]\n",
      "step 900 loss -0.445 model 0\n",
      "--- [0.3767 8.0363]\n",
      "step 900 loss -0.352 model 1\n",
      "--- 0.964028\n",
      "step 900 loss -8.560 model 2\n",
      "--- [ -0.1961  -3.249   13.7438  -0.7127  -1.9406  -2.1597  10.7014   3.2436 -38.1752   2.5426  -1.4606\n",
      "  11.7822  -4.5778   1.184   -0.7683   4.2862]\n"
     ]
    }
   ],
   "source": [
    "model_list, data_list, rmodel, bias_list, use_bias_list, names, _ = init_models(opt_reward=True)\n",
    "models, rmodel, biases = multi_optimize(model_list, data_list, rmodel, bias_list, use_bias_list, optimize_reward=False)"
   ]
  },
  {
   "cell_type": "code",
   "execution_count": 155,
   "metadata": {},
   "outputs": [
    {
     "name": "stdout",
     "output_type": "stream",
     "text": [
      "Optimal state visitation frequencies for each grid cell:\n",
      "[[0.     0.     0.     0.    ]\n",
      " [0.     0.5664 1.053  0.    ]\n",
      " [0.     5.8141 0.5664 0.    ]\n",
      " [0.     0.     0.     0.    ]]\n",
      "Inferred \n",
      "[[0.     0.     0.     0.    ]\n",
      " [0.     0.5664 1.053  0.    ]\n",
      " [0.     5.8141 0.5664 0.    ]\n",
      " [0.     0.     0.     0.    ]]\n"
     ]
    },
    {
     "data": {
      "image/png": "[encoded data removed]",
      "text/plain": [
       "<Figure size 432x288 with 1 Axes>"
      ]
     },
     "metadata": {
      "needs_background": "light"
     },
     "output_type": "display_data"
    }
   ],
   "source": [
    "evaluate(rmodel)"
   ]
  },
  {
   "cell_type": "code",
   "execution_count": 156,
   "metadata": {},
   "outputs": [
    {
     "data": {
      "text/plain": [
       "Text(0.5,1,'Blind IRL')"
      ]
     },
     "execution_count": 156,
     "metadata": {},
     "output_type": "execute_result"
    },
    {
     "data": {
      "image/png": "[encoded data removed]",
      "text/plain": [
       "<Figure size 432x288 with 1 Axes>"
      ]
     },
     "metadata": {
      "needs_background": "light"
     },
     "output_type": "display_data"
    }
   ],
   "source": [
    "plt.plot(biases[-1], label=\"recovered\")\n",
    "plt.plot(irl_bias_params, label='Actual')\n",
    "plt.legend()\n",
    "plt.title('Blind IRL')"
   ]
  },
  {
   "cell_type": "code",
   "execution_count": 157,
   "metadata": {},
   "outputs": [],
   "source": [
    "# Plot the distribution of rewards and labels: \n",
    "def topK_dist(top_K_dataset): \n",
    "    states = top_K_dataset['trajectories']\n",
    "    flat_states = states.flatten()\n",
    "    all_fn_values = rmodel.get_params() #(self.env.observation_matrix)\n",
    "    rew_est = (all_fn_values[flat_states]) # hopefully jax can do this, if not...need 1-hot.\n",
    "    per_obs_rew  = jnp.reshape(rew_est, states.shape[:2] + rew_est.shape[1:])\n",
    "    per_traj_rew_est = jnp.sum(per_obs_rew, axis=1)\n",
    "    return per_traj_rew_est"
   ]
  },
  {
   "cell_type": "code",
   "execution_count": 158,
   "metadata": {},
   "outputs": [],
   "source": [
    "# Plot 1. Method comparison. \n",
    "model_list = [top_K_feedback_model, pc_feedback_model, irl_feedback_model]\n",
    "data_list = [top_K_dataset, comparison_dataset, irl_dataset]\n",
    "bias_list = [top_K_bias_params, pc_bias_params, irl_bias_params]\n",
    "use_bias_list = [False, True, True]\n",
    "rmodel = r_models.LinearRewardModel(env.obs_dim)\n",
    "rmodel.set_params(env.reward_matrix)"
   ]
  },
  {
   "cell_type": "code",
   "execution_count": 160,
   "metadata": {},
   "outputs": [],
   "source": [
    "import pandas as pd\n",
    "\n",
    "def get_rew(trajs, rmodel): \n",
    "    states = trajs['states']\n",
    "    flat_states = states.flatten()\n",
    "    all_fn_values = rmodel\n",
    "    rew_est = (all_fn_values[flat_states]) # hopefully jax can do this, if not...need 1-hot.\n",
    "    per_obs_rew  = jnp.reshape(rew_est, states.shape[:2] + rew_est.shape[1:])\n",
    "    per_traj_rew_est = jnp.sum(per_obs_rew, axis=1)\n",
    "    return np.mean(per_traj_rew_est)\n",
    "\n",
    "def evaluate_full(rmodel): \n",
    "    _, om = mce_irl.mce_occupancy_measures(env, R=rmodel.get_params())\n",
    "    trajs = mce_irl.mce_irl_sample(env, 100, R=rmodel.get_params())\n",
    "    rews = get_rew(trajs, rmodel.get_params())\n",
    "\n",
    "    \n",
    "    return rmodel.get_params(), rews, om"
   ]
  },
  {
   "cell_type": "code",
   "execution_count": 194,
   "metadata": {},
   "outputs": [
    {
     "name": "stdout",
     "output_type": "stream",
     "text": [
      "cutoff 18.0\n"
     ]
    },
    {
     "name": "stderr",
     "output_type": "stream",
     "text": [
      "/userdata/smetzger/gim/lib/python3.6/site-packages/jax/_src/lax/lax.py:6271: UserWarning: Explicitly requested dtype float64 requested in array is not available, and will be truncated to dtype float32. To enable more dtypes, set the jax_enable_x64 configuration option or the JAX_ENABLE_X64 shell environment variable. See https://github.com/google/jax#current-gotchas for more.\n",
      "  warnings.warn(msg.format(dtype, fun_name , truncated_dtype))\n"
     ]
    },
    {
     "name": "stdout",
     "output_type": "stream",
     "text": [
      "sampledvec [0.7932 7.5754]\n",
      "step 0 loss -6.616\n",
      "step 100 loss -1.558\n",
      "step 200 loss -1.268\n",
      "step 300 loss -0.888\n",
      "step 400 loss -0.609\n",
      "step 500 loss -0.475\n",
      "step 600 loss -0.410\n",
      "step 700 loss -0.373\n",
      "step 800 loss -0.349\n",
      "step 900 loss -0.333\n",
      "terminated due to steps exceeding 1000\n",
      "step 0 loss -2.302\n",
      "step 100 loss -0.241\n",
      "step 200 loss -0.150\n",
      "step 300 loss -0.130\n",
      "step 400 loss -0.120\n",
      "step 500 loss -0.113\n",
      "step 600 loss -0.109\n",
      "step 700 loss -0.105\n",
      "step 800 loss -0.102\n",
      "step 900 loss -0.100\n",
      "terminated due to delta\n",
      "step 0 loss -12.281\n",
      "step 100 loss -8.902\n",
      "step 200 loss -8.794\n",
      "step 300 loss -8.747\n",
      "step 400 loss -8.719\n",
      "step 500 loss -8.701\n",
      "step 600 loss -8.688\n",
      "step 700 loss -8.678\n",
      "step 800 loss -8.670\n",
      "step 900 loss -8.663\n",
      "terminated due to delta\n",
      "cutoff 18.0\n",
      "sampledvec [0.7932 7.5754]\n",
      "step 0 loss -8.075\n",
      "step 100 loss -1.797\n",
      "step 200 loss -1.593\n",
      "step 300 loss -1.269\n",
      "step 400 loss -0.755\n",
      "step 500 loss -0.433\n",
      "step 600 loss -0.354\n",
      "step 700 loss -0.326\n",
      "step 800 loss -0.313\n",
      "step 900 loss -0.304\n",
      "terminated due to delta\n",
      "step 0 loss -0.172\n",
      "step 100 loss -0.136\n",
      "step 200 loss -0.120\n",
      "step 300 loss -0.112\n",
      "step 400 loss -0.107\n",
      "step 500 loss -0.104\n",
      "step 600 loss -0.101\n",
      "step 700 loss -0.099\n",
      "step 800 loss -0.097\n",
      "step 900 loss -0.096\n",
      "terminated due to delta\n",
      "step 0 loss -14.280\n",
      "step 100 loss -11.489\n",
      "step 200 loss -11.456\n",
      "step 300 loss -11.438\n",
      "step 400 loss -11.427\n",
      "step 500 loss -11.420\n",
      "step 600 loss -11.415\n",
      "step 700 loss -11.412\n",
      "step 800 loss -11.410\n",
      "step 900 loss -11.408\n",
      "terminated due to delta\n",
      "cutoff 18.0\n",
      "sampledvec [0.7932 7.5754]\n",
      "step 0 loss -2.530\n",
      "step 100 loss -0.702\n",
      "step 200 loss -0.479\n",
      "step 300 loss -0.405\n",
      "step 400 loss -0.374\n",
      "step 500 loss -0.357\n",
      "step 600 loss -0.346\n",
      "step 700 loss -0.339\n",
      "step 800 loss -0.333\n",
      "step 900 loss -0.328\n",
      "terminated due to delta\n",
      "step 0 loss -0.461\n",
      "step 100 loss -0.356\n",
      "step 200 loss -0.330\n",
      "step 300 loss -0.318\n",
      "step 400 loss -0.310\n",
      "step 500 loss -0.306\n",
      "step 600 loss -0.303\n",
      "step 700 loss -0.301\n",
      "step 800 loss -0.299\n",
      "step 900 loss -0.298\n",
      "terminated due to delta\n",
      "step 0 loss -11.355\n",
      "step 100 loss -8.923\n",
      "step 200 loss -8.833\n",
      "step 300 loss -8.800\n",
      "step 400 loss -8.784\n",
      "step 500 loss -8.773\n",
      "step 600 loss -8.766\n",
      "step 700 loss -8.760\n",
      "step 800 loss -8.755\n",
      "step 900 loss -8.751\n",
      "terminated due to delta\n"
     ]
    }
   ],
   "source": [
    "biases_recovered, biases_actual, recovered_reward, mean_reward_obtained, obs_obtained, method, fold = [],[],[],[],[],[], []\n",
    "\n",
    "\n",
    "\n",
    "for _ in range(3): \n",
    "\n",
    "    # eval each method\n",
    "        # reset reward_model\n",
    "\n",
    "    model_list, data_list, rmodel, bias_list, use_bias_list, names, biases_actual = init_models()\n",
    "    use_bias_list = [True, True, True]\n",
    "    obs = [True, True, True]\n",
    "    for model, dataset, bias_params, ub, name, b_actual, ob in zip(model_list, data_list, bias_list, use_bias_list, names, biases_actual, obs):     \n",
    "        rmodel = r_models.LinearRewardModel(env.obs_dim)\n",
    "        _, rmodel, bias_p_recovered = trad_optimize(model, dataset, rmodel, bias_params, use_bias_prior=ub, \n",
    "                                                   optimize_bias=ob, one_bias=False, iters=1000)\n",
    "\n",
    "        recovered_reward_vec, mean_reward, obs_f = evaluate_full(rmodel)\n",
    "\n",
    "        biases_recovered.append(bias_p_recovered)\n",
    "        biases_actual.append(b_actual)\n",
    "        recovered_reward.append(recovered_reward_vec)\n",
    "        mean_reward_obtained.append(mean_reward)\n",
    "        obs_obtained.append(obs_f)\n",
    "        method.append(name)\n",
    "        fold.append(_)\n",
    "        "
   ]
  },
  {
   "cell_type": "code",
   "execution_count": 196,
   "metadata": {},
   "outputs": [],
   "source": [
    "rmodel.set_params(env.reward_matrix)\n",
    "r, mean_rew_opt, obs_f = evaluate_full(rmodel)\n",
    "obs_optimal = [obs_f]*len(method)\n",
    "optimal_rew = [mean_rew_opt]*len(method)\n",
    "real_rew = [r]*len(method)\n",
    "\n",
    "res = pd.DataFrame({\n",
    "    'biases_recoverd':biases_recovered,\n",
    "    'recovered_reward':recovered_reward,\n",
    "    'mean_reward_obtained':mean_reward_obtained,\n",
    "    'obs_obtained':obs_obtained,\n",
    "    'obs_optimal':obs_optimal, \n",
    "    'optimal_rew':optimal_rew, \n",
    "    'method':method\n",
    "})"
   ]
  },
  {
   "cell_type": "code",
   "execution_count": 200,
   "metadata": {},
   "outputs": [
    {
     "data": {
      "image/png": "[encoded data removed]",
      "text/plain": [
       "<Figure size 432x288 with 1 Axes>"
      ]
     },
     "metadata": {
      "needs_background": "light"
     },
     "output_type": "display_data"
    },
    {
     "name": "stdout",
     "output_type": "stream",
     "text": [
      "top_K\n",
      "paired_comparisons\n",
      "blind_irl\n",
      "top_K\n",
      "paired_comparisons\n",
      "blind_irl\n",
      "top_K\n",
      "paired_comparisons\n",
      "blind_irl\n"
     ]
    },
    {
     "data": {
      "image/png": "[encoded data removed]",
      "text/plain": [
       "<Figure size 432x288 with 1 Axes>"
      ]
     },
     "metadata": {
      "needs_background": "light"
     },
     "output_type": "display_data"
    },
    {
     "data": {
      "image/png": "[encoded data removed]",
      "text/plain": [
       "<Figure size 432x288 with 1 Axes>"
      ]
     },
     "metadata": {
      "needs_background": "light"
     },
     "output_type": "display_data"
    },
    {
     "data": {
      "image/png": "[encoded data removed]",
      "text/plain": [
       "<Figure size 432x288 with 1 Axes>"
      ]
     },
     "metadata": {
      "needs_background": "light"
     },
     "output_type": "display_data"
    },
    {
     "data": {
      "image/png": "[encoded data removed]",
      "text/plain": [
       "<Figure size 432x288 with 1 Axes>"
      ]
     },
     "metadata": {
      "needs_background": "light"
     },
     "output_type": "display_data"
    },
    {
     "data": {
      "image/png": "[encoded data removed]",
      "text/plain": [
       "<Figure size 432x288 with 1 Axes>"
      ]
     },
     "metadata": {
      "needs_background": "light"
     },
     "output_type": "display_data"
    },
    {
     "data": {
      "image/png": "[encoded data removed]",
      "text/plain": [
       "<Figure size 432x288 with 1 Axes>"
      ]
     },
     "metadata": {
      "needs_background": "light"
     },
     "output_type": "display_data"
    },
    {
     "data": {
      "image/png": "[encoded data removed]",
      "text/plain": [
       "<Figure size 432x288 with 1 Axes>"
      ]
     },
     "metadata": {
      "needs_background": "light"
     },
     "output_type": "display_data"
    },
    {
     "data": {
      "image/png": "[encoded data removed]",
      "text/plain": [
       "<Figure size 432x288 with 1 Axes>"
      ]
     },
     "metadata": {
      "needs_background": "light"
     },
     "output_type": "display_data"
    },
    {
     "data": {
      "image/png": "[encoded data removed]",
      "text/plain": [
       "<Figure size 432x288 with 1 Axes>"
      ]
     },
     "metadata": {
      "needs_background": "light"
     },
     "output_type": "display_data"
    }
   ],
   "source": [
    "import seaborn as sns\n",
    "from datetime import datetime\n",
    "\n",
    "now = datetime.now()\n",
    "ts = now.strftime('%Y_%m_%d_%H_%M_%S')\n",
    "\n",
    "sns.barplot(x='method', y='mean_reward_obtained', data=res)\n",
    "plt.axhline(optimal_rew[0], label='optimal rew')\n",
    "plt.legend()\n",
    "plt.ylim([0, optimal_rew[0]+1])\n",
    "plt.savefig('./images/final-results-optimize-bias_%s.png' %ts)\n",
    "plt.show()\n",
    "\n",
    "\n",
    "for r, m in zip(res['recovered_reward'].values, res['method'].values): \n",
    "    print(m)\n",
    "    \n",
    "#     evaluate(r, name=m)\n",
    "\n",
    "\n",
    "\n",
    "\n",
    "res.to_pickle('./results/full_bias_updates_%s.pkl' %ts)\n",
    "\n",
    "for m in set(list(res['method'].values)):\n",
    "    obs = res.loc[res['method']==m]['obs_obtained']\n",
    "    obs = obs.values\n",
    "    res_L = []\n",
    "    for o in obs: \n",
    "        res_L.append(o)\n",
    "        plt.imshow(o.reshape((random_gridworld.height, random_gridworld.width)))\n",
    "        plt.title(m)\n",
    "        plt.show()\n",
    "    res_l = np.array(res_L)\n",
    "    res_l = np.median(res_l, axis=0)\n",
    "    \n"
   ]
  },
  {
   "cell_type": "code",
   "execution_count": 207,
   "metadata": {},
   "outputs": [],
   "source": [
    "biases_recovered, biases_actual, recovered_reward, mean_reward_obtained, obs_obtained, method, fold = [],[],[],[],[],[], []\n",
    "\n",
    "for _ in range(3): \n",
    "\n",
    "    # eval each method\n",
    "        # reset reward_model\n",
    "\n",
    "    model_list, data_list, rmodel, bias_list, use_bias_list, names, biases_actual = init_models()\n",
    "    use_bias_list = [True, True, True]\n",
    "    obs = [True, True, True]\n",
    "    rmodel = r_models.LinearRewardModel(env.obs_dim)\n",
    "    _, rmodel, bias_p_recovered = multi_optimize(model_list, data_list, rmodel, bias_list, use_bias_list,\n",
    "                                               optimize_bias=True, one_bias=False)\n",
    "\n",
    "    recovered_reward_vec, mean_reward, obs_f = evaluate_full(rmodel)\n",
    "\n",
    "    biases_recovered.append(bias_p_recovered)\n",
    "    biases_actual.append(b_actual)\n",
    "    recovered_reward.append(recovered_reward_vec)\n",
    "    mean_reward_obtained.append(mean_reward)\n",
    "    obs_obtained.append(obs_f)\n",
    "    method.append(name)\n",
    "    fold.append(_)\n",
    "    \n",
    "print(len(biases_recovered), len(real_rew), len(recovered_reward), len(mean_reward_obtained), \n",
    "     len(obs_obtained), len(optimal_rew), len(biases_actual))\n",
    "\n",
    "rmodel.set_params(env.reward_matrix)\n",
    "r, mean_rew_opt, obs_f = evaluate_full(rmodel)\n",
    "obs_optimal = [obs_f]*len(method)\n",
    "optimal_rew = [mean_rew_opt]*len(method)\n",
    "real_rew = [r]*len(method)"
   ]
  },
  {
   "cell_type": "code",
   "execution_count": 210,
   "metadata": {},
   "outputs": [],
   "source": [
    "res = pd.DataFrame({\n",
    "    'biases_recoverd':biases_recovered,\n",
    "    'recovered_reward':recovered_reward,\n",
    "    'mean_reward_obtained':mean_reward_obtained,\n",
    "    'obs_obtained':obs_obtained,\n",
    "    'obs_optimal':obs_optimal, \n",
    "    'optimal_rew':optimal_rew, \n",
    "    'method':['combined' for m in method]\n",
    "})\n",
    "        "
   ]
  },
  {
   "cell_type": "code",
   "execution_count": 211,
   "metadata": {},
   "outputs": [
    {
     "data": {
      "image/png": "[encoded data removed]",
      "text/plain": [
       "<Figure size 432x288 with 1 Axes>"
      ]
     },
     "metadata": {
      "needs_background": "light"
     },
     "output_type": "display_data"
    },
    {
     "name": "stdout",
     "output_type": "stream",
     "text": [
      "combined\n",
      "combined\n",
      "combined\n"
     ]
    },
    {
     "data": {
      "image/png": "[encoded data removed]",
      "text/plain": [
       "<Figure size 432x288 with 1 Axes>"
      ]
     },
     "metadata": {
      "needs_background": "light"
     },
     "output_type": "display_data"
    },
    {
     "data": {
      "image/png": "[encoded data removed]",
      "text/plain": [
       "<Figure size 432x288 with 1 Axes>"
      ]
     },
     "metadata": {
      "needs_background": "light"
     },
     "output_type": "display_data"
    },
    {
     "data": {
      "image/png": "[encoded data removed]",
      "text/plain": [
       "<Figure size 432x288 with 1 Axes>"
      ]
     },
     "metadata": {
      "needs_background": "light"
     },
     "output_type": "display_data"
    }
   ],
   "source": [
    "import seaborn as sns\n",
    "from datetime import datetime\n",
    "\n",
    "now = datetime.now()\n",
    "ts = now.strftime('%Y_%m_%d_%H_%M_%S')\n",
    "\n",
    "sns.barplot(x='method', y='mean_reward_obtained', data=res)\n",
    "plt.axhline(optimal_rew[0], label='optimal rew')\n",
    "plt.legend()\n",
    "plt.ylim([0, optimal_rew[0]+4])\n",
    "plt.savefig('./images/final-results-multi_train_%s.png' %ts)\n",
    "plt.show()\n",
    "\n",
    "\n",
    "for r, m in zip(res['recovered_reward'].values, res['method'].values): \n",
    "    print(m)\n",
    "    \n",
    "#     evaluate(r, name=m)\n",
    "\n",
    "\n",
    "\n",
    "\n",
    "res.to_pickle('./results/full_multi_train_%s.pkl' %ts)\n",
    "\n",
    "for m in set(list(res['method'].values)):\n",
    "    obs = res.loc[res['method']==m]['obs_obtained']\n",
    "    obs = obs.values\n",
    "    res_L = []\n",
    "    for o in obs: \n",
    "        res_L.append(o)\n",
    "        plt.imshow(o.reshape((random_gridworld.height, random_gridworld.width)))\n",
    "        plt.title(m)\n",
    "        plt.show()\n",
    "    res_l = np.array(res_L)\n",
    "    res_l = np.median(res_l, axis=0)"
   ]
  },
  {
   "cell_type": "code",
   "execution_count": 212,
   "metadata": {},
   "outputs": [
    {
     "data": {
      "text/html": [
       "<div>\n",
       "<style scoped>\n",
       "    .dataframe tbody tr th:only-of-type {\n",
       "        vertical-align: middle;\n",
       "    }\n",
       "\n",
       "    .dataframe tbody tr th {\n",
       "        vertical-align: top;\n",
       "    }\n",
       "\n",
       "    .dataframe thead th {\n",
       "        text-align: right;\n",
       "    }\n",
       "</style>\n",
       "<table border=\"1\" class=\"dataframe\">\n",
       "  <thead>\n",
       "    <tr style=\"text-align: right;\">\n",
       "      <th></th>\n",
       "      <th>biases_recoverd</th>\n",
       "      <th>recovered_reward</th>\n",
       "      <th>mean_reward_obtained</th>\n",
       "      <th>obs_obtained</th>\n",
       "      <th>obs_optimal</th>\n",
       "      <th>optimal_rew</th>\n",
       "      <th>method</th>\n",
       "    </tr>\n",
       "  </thead>\n",
       "  <tbody>\n",
       "    <tr>\n",
       "      <th>0</th>\n",
       "      <td>[[0.3938239, 8.329494], 0.96805805, [1e-05, 0....</td>\n",
       "      <td>[-2.6642208, 1.0888484, 1.2294047, -0.11290131...</td>\n",
       "      <td>20.979258</td>\n",
       "      <td>[0.0, 0.0, 0.0, 0.0, 0.0, 0.5601232341600383, ...</td>\n",
       "      <td>[0.0, 0.0, 0.0, 0.0, 0.0, 0.5664093586106854, ...</td>\n",
       "      <td>19.17</td>\n",
       "      <td>combined</td>\n",
       "    </tr>\n",
       "    <tr>\n",
       "      <th>1</th>\n",
       "      <td>[[0.35435694, 7.9144373], 0.950339, [1e-05, 0....</td>\n",
       "      <td>[-0.9568141, 0.36833605, 1.158164, 1.1339142, ...</td>\n",
       "      <td>19.988365</td>\n",
       "      <td>[0.0, 0.0, 0.0, 0.0, 0.0, 0.48917882735172036,...</td>\n",
       "      <td>[0.0, 0.0, 0.0, 0.0, 0.0, 0.5664093586106854, ...</td>\n",
       "      <td>19.17</td>\n",
       "      <td>combined</td>\n",
       "    </tr>\n",
       "    <tr>\n",
       "      <th>2</th>\n",
       "      <td>[[0.3845694, 8.297543], 0.96477133, [1e-05, 0....</td>\n",
       "      <td>[-0.79639447, -1.5389007, -1.8377216, 0.849493...</td>\n",
       "      <td>19.519217</td>\n",
       "      <td>[0.0, 0.0, 0.0, 0.0, 0.0, 0.4369242158055177, ...</td>\n",
       "      <td>[0.0, 0.0, 0.0, 0.0, 0.0, 0.5664093586106854, ...</td>\n",
       "      <td>19.17</td>\n",
       "      <td>combined</td>\n",
       "    </tr>\n",
       "  </tbody>\n",
       "</table>\n",
       "</div>"
      ],
      "text/plain": [
       "                                     biases_recoverd  \\\n",
       "0  [[0.3938239, 8.329494], 0.96805805, [1e-05, 0....   \n",
       "1  [[0.35435694, 7.9144373], 0.950339, [1e-05, 0....   \n",
       "2  [[0.3845694, 8.297543], 0.96477133, [1e-05, 0....   \n",
       "\n",
       "                                    recovered_reward mean_reward_obtained  \\\n",
       "0  [-2.6642208, 1.0888484, 1.2294047, -0.11290131...            20.979258   \n",
       "1  [-0.9568141, 0.36833605, 1.158164, 1.1339142, ...            19.988365   \n",
       "2  [-0.79639447, -1.5389007, -1.8377216, 0.849493...            19.519217   \n",
       "\n",
       "                                        obs_obtained  \\\n",
       "0  [0.0, 0.0, 0.0, 0.0, 0.0, 0.5601232341600383, ...   \n",
       "1  [0.0, 0.0, 0.0, 0.0, 0.0, 0.48917882735172036,...   \n",
       "2  [0.0, 0.0, 0.0, 0.0, 0.0, 0.4369242158055177, ...   \n",
       "\n",
       "                                         obs_optimal optimal_rew    method  \n",
       "0  [0.0, 0.0, 0.0, 0.0, 0.0, 0.5664093586106854, ...       19.17  combined  \n",
       "1  [0.0, 0.0, 0.0, 0.0, 0.0, 0.5664093586106854, ...       19.17  combined  \n",
       "2  [0.0, 0.0, 0.0, 0.0, 0.0, 0.5664093586106854, ...       19.17  combined  "
      ]
     },
     "execution_count": 212,
     "metadata": {},
     "output_type": "execute_result"
    }
   ],
   "source": [
    "res"
   ]
  },
  {
   "cell_type": "code",
   "execution_count": 219,
   "metadata": {},
   "outputs": [],
   "source": [
    "# compare shared bias  params vs the other ones"
   ]
  },
  {
   "cell_type": "code",
   "execution_count": 226,
   "metadata": {},
   "outputs": [],
   "source": [
    "df_single = pd.read_pickle('/userdata/smetzger/repos/cvx_project/bootstrapping-bias-learning/results/full_bias_updates_2020_12_07_13_40_39.pkl')"
   ]
  },
  {
   "cell_type": "code",
   "execution_count": 227,
   "metadata": {},
   "outputs": [],
   "source": [
    "df_shared = res"
   ]
  },
  {
   "cell_type": "code",
   "execution_count": 228,
   "metadata": {},
   "outputs": [
    {
     "data": {
      "text/html": [
       "<div>\n",
       "<style scoped>\n",
       "    .dataframe tbody tr th:only-of-type {\n",
       "        vertical-align: middle;\n",
       "    }\n",
       "\n",
       "    .dataframe tbody tr th {\n",
       "        vertical-align: top;\n",
       "    }\n",
       "\n",
       "    .dataframe thead th {\n",
       "        text-align: right;\n",
       "    }\n",
       "</style>\n",
       "<table border=\"1\" class=\"dataframe\">\n",
       "  <thead>\n",
       "    <tr style=\"text-align: right;\">\n",
       "      <th></th>\n",
       "      <th>biases_recoverd</th>\n",
       "      <th>recovered_reward</th>\n",
       "      <th>mean_reward_obtained</th>\n",
       "      <th>obs_obtained</th>\n",
       "      <th>obs_optimal</th>\n",
       "      <th>optimal_rew</th>\n",
       "      <th>method</th>\n",
       "    </tr>\n",
       "  </thead>\n",
       "  <tbody>\n",
       "    <tr>\n",
       "      <th>0</th>\n",
       "      <td>[[0.3938239, 8.329494], 0.96805805, [1e-05, 0....</td>\n",
       "      <td>[-2.6642208, 1.0888484, 1.2294047, -0.11290131...</td>\n",
       "      <td>20.979258</td>\n",
       "      <td>[0.0, 0.0, 0.0, 0.0, 0.0, 0.5601232341600383, ...</td>\n",
       "      <td>[0.0, 0.0, 0.0, 0.0, 0.0, 0.5664093586106854, ...</td>\n",
       "      <td>19.17</td>\n",
       "      <td>combined</td>\n",
       "    </tr>\n",
       "    <tr>\n",
       "      <th>1</th>\n",
       "      <td>[[0.35435694, 7.9144373], 0.950339, [1e-05, 0....</td>\n",
       "      <td>[-0.9568141, 0.36833605, 1.158164, 1.1339142, ...</td>\n",
       "      <td>19.988365</td>\n",
       "      <td>[0.0, 0.0, 0.0, 0.0, 0.0, 0.48917882735172036,...</td>\n",
       "      <td>[0.0, 0.0, 0.0, 0.0, 0.0, 0.5664093586106854, ...</td>\n",
       "      <td>19.17</td>\n",
       "      <td>combined</td>\n",
       "    </tr>\n",
       "    <tr>\n",
       "      <th>2</th>\n",
       "      <td>[[0.3845694, 8.297543], 0.96477133, [1e-05, 0....</td>\n",
       "      <td>[-0.79639447, -1.5389007, -1.8377216, 0.849493...</td>\n",
       "      <td>19.519217</td>\n",
       "      <td>[0.0, 0.0, 0.0, 0.0, 0.0, 0.4369242158055177, ...</td>\n",
       "      <td>[0.0, 0.0, 0.0, 0.0, 0.0, 0.5664093586106854, ...</td>\n",
       "      <td>19.17</td>\n",
       "      <td>combined</td>\n",
       "    </tr>\n",
       "  </tbody>\n",
       "</table>\n",
       "</div>"
      ],
      "text/plain": [
       "                                     biases_recoverd  \\\n",
       "0  [[0.3938239, 8.329494], 0.96805805, [1e-05, 0....   \n",
       "1  [[0.35435694, 7.9144373], 0.950339, [1e-05, 0....   \n",
       "2  [[0.3845694, 8.297543], 0.96477133, [1e-05, 0....   \n",
       "\n",
       "                                    recovered_reward mean_reward_obtained  \\\n",
       "0  [-2.6642208, 1.0888484, 1.2294047, -0.11290131...            20.979258   \n",
       "1  [-0.9568141, 0.36833605, 1.158164, 1.1339142, ...            19.988365   \n",
       "2  [-0.79639447, -1.5389007, -1.8377216, 0.849493...            19.519217   \n",
       "\n",
       "                                        obs_obtained  \\\n",
       "0  [0.0, 0.0, 0.0, 0.0, 0.0, 0.5601232341600383, ...   \n",
       "1  [0.0, 0.0, 0.0, 0.0, 0.0, 0.48917882735172036,...   \n",
       "2  [0.0, 0.0, 0.0, 0.0, 0.0, 0.4369242158055177, ...   \n",
       "\n",
       "                                         obs_optimal optimal_rew    method  \n",
       "0  [0.0, 0.0, 0.0, 0.0, 0.0, 0.5664093586106854, ...       19.17  combined  \n",
       "1  [0.0, 0.0, 0.0, 0.0, 0.0, 0.5664093586106854, ...       19.17  combined  \n",
       "2  [0.0, 0.0, 0.0, 0.0, 0.0, 0.5664093586106854, ...       19.17  combined  "
      ]
     },
     "execution_count": 228,
     "metadata": {},
     "output_type": "execute_result"
    }
   ],
   "source": [
    "df_shared"
   ]
  },
  {
   "cell_type": "code",
   "execution_count": 229,
   "metadata": {},
   "outputs": [
    {
     "data": {
      "text/html": [
       "<div>\n",
       "<style scoped>\n",
       "    .dataframe tbody tr th:only-of-type {\n",
       "        vertical-align: middle;\n",
       "    }\n",
       "\n",
       "    .dataframe tbody tr th {\n",
       "        vertical-align: top;\n",
       "    }\n",
       "\n",
       "    .dataframe thead th {\n",
       "        text-align: right;\n",
       "    }\n",
       "</style>\n",
       "<table border=\"1\" class=\"dataframe\">\n",
       "  <thead>\n",
       "    <tr style=\"text-align: right;\">\n",
       "      <th></th>\n",
       "      <th>biases_recoverd</th>\n",
       "      <th>recovered_reward</th>\n",
       "      <th>mean_reward_obtained</th>\n",
       "      <th>obs_obtained</th>\n",
       "      <th>obs_optimal</th>\n",
       "      <th>optimal_rew</th>\n",
       "      <th>method</th>\n",
       "    </tr>\n",
       "  </thead>\n",
       "  <tbody>\n",
       "    <tr>\n",
       "      <th>0</th>\n",
       "      <td>[[0.3938239, 8.329494], 0.96805805, [1e-05, 0....</td>\n",
       "      <td>[-2.6642208, 1.0888484, 1.2294047, -0.11290131...</td>\n",
       "      <td>20.979258</td>\n",
       "      <td>[0.0, 0.0, 0.0, 0.0, 0.0, 0.5601232341600383, ...</td>\n",
       "      <td>[0.0, 0.0, 0.0, 0.0, 0.0, 0.5664093586106854, ...</td>\n",
       "      <td>19.17</td>\n",
       "      <td>combined</td>\n",
       "    </tr>\n",
       "    <tr>\n",
       "      <th>1</th>\n",
       "      <td>[[0.35435694, 7.9144373], 0.950339, [1e-05, 0....</td>\n",
       "      <td>[-0.9568141, 0.36833605, 1.158164, 1.1339142, ...</td>\n",
       "      <td>19.988365</td>\n",
       "      <td>[0.0, 0.0, 0.0, 0.0, 0.0, 0.48917882735172036,...</td>\n",
       "      <td>[0.0, 0.0, 0.0, 0.0, 0.0, 0.5664093586106854, ...</td>\n",
       "      <td>19.17</td>\n",
       "      <td>combined</td>\n",
       "    </tr>\n",
       "    <tr>\n",
       "      <th>2</th>\n",
       "      <td>[[0.3845694, 8.297543], 0.96477133, [1e-05, 0....</td>\n",
       "      <td>[-0.79639447, -1.5389007, -1.8377216, 0.849493...</td>\n",
       "      <td>19.519217</td>\n",
       "      <td>[0.0, 0.0, 0.0, 0.0, 0.0, 0.4369242158055177, ...</td>\n",
       "      <td>[0.0, 0.0, 0.0, 0.0, 0.0, 0.5664093586106854, ...</td>\n",
       "      <td>19.17</td>\n",
       "      <td>combined</td>\n",
       "    </tr>\n",
       "  </tbody>\n",
       "</table>\n",
       "</div>"
      ],
      "text/plain": [
       "                                     biases_recoverd  \\\n",
       "0  [[0.3938239, 8.329494], 0.96805805, [1e-05, 0....   \n",
       "1  [[0.35435694, 7.9144373], 0.950339, [1e-05, 0....   \n",
       "2  [[0.3845694, 8.297543], 0.96477133, [1e-05, 0....   \n",
       "\n",
       "                                    recovered_reward mean_reward_obtained  \\\n",
       "0  [-2.6642208, 1.0888484, 1.2294047, -0.11290131...            20.979258   \n",
       "1  [-0.9568141, 0.36833605, 1.158164, 1.1339142, ...            19.988365   \n",
       "2  [-0.79639447, -1.5389007, -1.8377216, 0.849493...            19.519217   \n",
       "\n",
       "                                        obs_obtained  \\\n",
       "0  [0.0, 0.0, 0.0, 0.0, 0.0, 0.5601232341600383, ...   \n",
       "1  [0.0, 0.0, 0.0, 0.0, 0.0, 0.48917882735172036,...   \n",
       "2  [0.0, 0.0, 0.0, 0.0, 0.0, 0.4369242158055177, ...   \n",
       "\n",
       "                                         obs_optimal optimal_rew    method  \n",
       "0  [0.0, 0.0, 0.0, 0.0, 0.0, 0.5664093586106854, ...       19.17  combined  \n",
       "1  [0.0, 0.0, 0.0, 0.0, 0.0, 0.5664093586106854, ...       19.17  combined  \n",
       "2  [0.0, 0.0, 0.0, 0.0, 0.0, 0.5664093586106854, ...       19.17  combined  "
      ]
     },
     "execution_count": 229,
     "metadata": {},
     "output_type": "execute_result"
    }
   ],
   "source": [
    "res"
   ]
  },
  {
   "cell_type": "code",
   "execution_count": 239,
   "metadata": {},
   "outputs": [],
   "source": [
    "endv_single = df_single['biases_recoverd'].values"
   ]
  },
  {
   "cell_type": "code",
   "execution_count": 240,
   "metadata": {},
   "outputs": [],
   "source": [
    "endv_shared = []\n",
    "g = df_shared['biases_recoverd'].values\n",
    "for gg in g:\n",
    "    endv_shared.extend(gg)"
   ]
  },
  {
   "cell_type": "code",
   "execution_count": 241,
   "metadata": {},
   "outputs": [
    {
     "data": {
      "text/plain": [
       "[DeviceArray([0.3938, 8.3295], dtype=float32),\n",
       " DeviceArray(0.9681, dtype=float32),\n",
       " DeviceArray([1.0000e-05, 9.9999e-01, 9.9999e-01, 1.0000e-05, 1.0000e-05, 9.9999e-01, 9.9999e-01,\n",
       "              9.9999e-01, 9.9999e-01, 9.9999e-01, 1.0000e-05, 9.9999e-01, 1.0000e-05, 9.9999e-01,\n",
       "              9.9999e-01, 1.0000e-05], dtype=float32),\n",
       " DeviceArray([0.3544, 7.9144], dtype=float32),\n",
       " DeviceArray(0.9503, dtype=float32),\n",
       " DeviceArray([1.0000e-05, 9.9999e-01, 9.9999e-01, 1.0000e-05, 1.0000e-05, 1.0000e-05, 9.9999e-01,\n",
       "              9.9999e-01, 9.9999e-01, 1.0000e-05, 1.0000e-05, 9.9999e-01, 1.0000e-05, 9.9999e-01,\n",
       "              9.9999e-01, 1.0000e-05], dtype=float32),\n",
       " DeviceArray([0.3846, 8.2975], dtype=float32),\n",
       " DeviceArray(0.9648, dtype=float32),\n",
       " DeviceArray([1.0000e-05, 9.9999e-01, 9.9999e-01, 1.0000e-05, 1.0000e-05, 9.9999e-01, 1.0000e-05,\n",
       "              9.9999e-01, 9.9999e-01, 9.9999e-01, 1.0000e-05, 9.9999e-01, 1.0000e-05, 9.9999e-01,\n",
       "              9.9999e-01, 1.0000e-05], dtype=float32)]"
      ]
     },
     "execution_count": 241,
     "metadata": {},
     "output_type": "execute_result"
    }
   ],
   "source": [
    "endv_shared"
   ]
  },
  {
   "cell_type": "code",
   "execution_count": 242,
   "metadata": {},
   "outputs": [
    {
     "data": {
      "text/plain": [
       "[DeviceArray([0.3938, 8.3295], dtype=float32),\n",
       " DeviceArray(0.9681, dtype=float32),\n",
       " DeviceArray([1.0000e-05, 9.9999e-01, 9.9999e-01, 1.0000e-05, 1.0000e-05, 9.9999e-01, 9.9999e-01,\n",
       "              9.9999e-01, 9.9999e-01, 9.9999e-01, 1.0000e-05, 9.9999e-01, 1.0000e-05, 9.9999e-01,\n",
       "              9.9999e-01, 1.0000e-05], dtype=float32),\n",
       " DeviceArray([0.3544, 7.9144], dtype=float32),\n",
       " DeviceArray(0.9503, dtype=float32),\n",
       " DeviceArray([1.0000e-05, 9.9999e-01, 9.9999e-01, 1.0000e-05, 1.0000e-05, 1.0000e-05, 9.9999e-01,\n",
       "              9.9999e-01, 9.9999e-01, 1.0000e-05, 1.0000e-05, 9.9999e-01, 1.0000e-05, 9.9999e-01,\n",
       "              9.9999e-01, 1.0000e-05], dtype=float32),\n",
       " DeviceArray([0.3846, 8.2975], dtype=float32),\n",
       " DeviceArray(0.9648, dtype=float32),\n",
       " DeviceArray([1.0000e-05, 9.9999e-01, 9.9999e-01, 1.0000e-05, 1.0000e-05, 9.9999e-01, 1.0000e-05,\n",
       "              9.9999e-01, 9.9999e-01, 9.9999e-01, 1.0000e-05, 9.9999e-01, 1.0000e-05, 9.9999e-01,\n",
       "              9.9999e-01, 1.0000e-05], dtype=float32)]"
      ]
     },
     "execution_count": 242,
     "metadata": {},
     "output_type": "execute_result"
    }
   ],
   "source": [
    "endv_shared"
   ]
  },
  {
   "cell_type": "code",
   "execution_count": 243,
   "metadata": {},
   "outputs": [
    {
     "data": {
      "text/plain": [
       "array([array([0.3845, 7.9882], dtype=float32), array(0.9672, dtype=float32),\n",
       "       array([1.0000e-05, 9.9999e-01, 9.9999e-01, 1.0000e-05, 1.0000e-05, 9.9999e-01, 9.9999e-01,\n",
       "       9.9999e-01, 9.9999e-01, 9.9999e-01, 1.0000e-05, 9.9999e-01, 1.0000e-05, 9.9999e-01,\n",
       "       9.9999e-01, 1.0000e-05], dtype=float32),\n",
       "       array([0.3927, 7.9849], dtype=float32), array(0.9675, dtype=float32),\n",
       "       array([1.0000e-05, 9.9999e-01, 9.9999e-01, 1.0000e-05, 1.0000e-05, 1.0000e-05, 9.9999e-01,\n",
       "       9.9999e-01, 9.9999e-01, 1.0000e-05, 1.0000e-05, 9.9999e-01, 1.0000e-05, 9.9999e-01,\n",
       "       9.9999e-01, 1.0000e-05], dtype=float32),\n",
       "       array([0.3935, 8.2832], dtype=float32), array(0.965, dtype=float32),\n",
       "       array([1.0000e-05, 9.9999e-01, 9.9999e-01, 1.0000e-05, 1.0000e-05, 9.9999e-01, 9.9999e-01,\n",
       "       9.9999e-01, 9.9999e-01, 9.9999e-01, 1.0000e-05, 9.9999e-01, 1.0000e-05, 9.9999e-01,\n",
       "       9.9999e-01, 1.0000e-05], dtype=float32)], dtype=object)"
      ]
     },
     "execution_count": 243,
     "metadata": {},
     "output_type": "execute_result"
    }
   ],
   "source": [
    "endv_single"
   ]
  },
  {
   "cell_type": "code",
   "execution_count": 303,
   "metadata": {},
   "outputs": [
    {
     "name": "stdout",
     "output_type": "stream",
     "text": [
      "[ 9.671  10.0857  9.7028]\n"
     ]
    },
    {
     "data": {
      "image/png": "[encoded data removed]",
      "text/plain": [
       "<Figure size 432x288 with 1 Axes>"
      ]
     },
     "metadata": {
      "needs_background": "light"
     },
     "output_type": "display_data"
    }
   ],
   "source": [
    "shares = np.array(endv_shared[::3])\n",
    "b_err_shared = np.linalg.norm(shares-np.array(actual), axis=-1)\n",
    "endv_single[::3]\n",
    "singles = endv_single[::3]\n",
    "singles = np.array([s for s in singles])\n",
    "\n",
    "actual = (.3, 18)\n",
    "b_err_single = np.linalg.norm(singles-np.array(actual), axis=-1)\n",
    "print(np.linalg.norm(shares-np.array(actual), axis=-1))\n",
    "sns.barplot(x='Optimization Scheme', y='Bias Error', data = pd.DataFrame({'Optimization Scheme':['Single']*3 + ['Shared']*3,\n",
    "                                                                         'Bias Error': np.concatenate((b_err_single, b_err_shared), axis=0)\n",
    "                                                                        }))\n",
    "plt.title('Top-K bias parameter error')\n",
    "plt.savefig('./images/shared_bias_params')"
   ]
  },
  {
   "cell_type": "code",
   "execution_count": 321,
   "metadata": {},
   "outputs": [
    {
     "name": "stdout",
     "output_type": "stream",
     "text": [
      "(3, 1)\n",
      "[[0.9681]\n",
      " [0.9503]\n",
      " [0.9648]]\n",
      "[0.0328 0.0325 0.035 ] [0.0319 0.0497 0.0352]\n"
     ]
    },
    {
     "data": {
      "image/png": "[encoded data removed]",
      "text/plain": [
       "<Figure size 432x288 with 1 Axes>"
      ]
     },
     "metadata": {
      "needs_background": "light"
     },
     "output_type": "display_data"
    }
   ],
   "source": [
    "shares = np.array(endv_shared[1::3])[np.newaxis].T\n",
    "print(shares.shape)\n",
    "print(shares)\n",
    "\n",
    "actual = (1.0)\n",
    "b_err_shared = np.linalg.norm(np.array(shares)-np.array(actual), axis=-1)\n",
    "endv_single[1::3]\n",
    "singles = endv_single[1::3]\n",
    "singles = np.array([s for s in singles])[np.newaxis].T\n",
    "\n",
    "b_err_single = np.linalg.norm(singles-np.array(actual), axis=-1)\n",
    "print(b_err_single, b_err_shared)\n",
    "sns.barplot(x='Optimization Scheme', y='Bias Error', data = pd.DataFrame({'Optimization Scheme':['Single']*3 + ['Shared']*3,\n",
    "                                                                         'Bias Error': np.concatenate((b_err_single,\n",
    "                                                                                                       b_err_shared), axis=0)\n",
    "                                                                        }))\n",
    "plt.title('Paired Comparisons bias parameter error')\n",
    "plt.savefig('./images/shared_bias_params')"
   ]
  },
  {
   "cell_type": "code",
   "execution_count": 325,
   "metadata": {},
   "outputs": [
    {
     "data": {
      "image/png": "[encoded data removed]",
      "text/plain": [
       "<Figure size 432x288 with 2 Axes>"
      ]
     },
     "metadata": {
      "needs_background": "light"
     },
     "output_type": "display_data"
    }
   ],
   "source": [
    "sns.heatmap(env.reward_matrix.reshape(4, 4))\n",
    "plt.title('Simple Gridworld')\n",
    "plt.savefig('./images/simple_gridworld')"
   ]
  },
  {
   "cell_type": "code",
   "execution_count": 391,
   "metadata": {},
   "outputs": [],
   "source": [
    "df_single['inf norm, visitation'] = df_single['obs_obtained'] - df_single['obs_optimal']"
   ]
  },
  {
   "cell_type": "code",
   "execution_count": 392,
   "metadata": {},
   "outputs": [],
   "source": [
    "df_single['inf norm, visitation'] = df_single['inf norm, visitation'].apply(lambda x: np.linalg.norm(np.array(x), ord=np.inf))"
   ]
  },
  {
   "cell_type": "code",
   "execution_count": 393,
   "metadata": {},
   "outputs": [
    {
     "data": {
      "text/html": [
       "<div>\n",
       "<style scoped>\n",
       "    .dataframe tbody tr th:only-of-type {\n",
       "        vertical-align: middle;\n",
       "    }\n",
       "\n",
       "    .dataframe tbody tr th {\n",
       "        vertical-align: top;\n",
       "    }\n",
       "\n",
       "    .dataframe thead th {\n",
       "        text-align: right;\n",
       "    }\n",
       "</style>\n",
       "<table border=\"1\" class=\"dataframe\">\n",
       "  <thead>\n",
       "    <tr style=\"text-align: right;\">\n",
       "      <th></th>\n",
       "      <th>biases_recoverd</th>\n",
       "      <th>recovered_reward</th>\n",
       "      <th>mean_reward_obtained</th>\n",
       "      <th>obs_obtained</th>\n",
       "      <th>obs_optimal</th>\n",
       "      <th>optimal_rew</th>\n",
       "      <th>method</th>\n",
       "      <th>obs_l_inf</th>\n",
       "      <th>inf norm, visitation</th>\n",
       "    </tr>\n",
       "  </thead>\n",
       "  <tbody>\n",
       "    <tr>\n",
       "      <th>0</th>\n",
       "      <td>[0.38452083, 7.988178]</td>\n",
       "      <td>[-0.7645573, -0.6172542, 0.13089179, -0.190765...</td>\n",
       "      <td>17.870045</td>\n",
       "      <td>[0.0, 0.0, 0.0, 0.0, 0.0, 0.5132589045758561, ...</td>\n",
       "      <td>[0.0, 0.0, 0.0, 0.0, 0.0, 0.5664093586106854, ...</td>\n",
       "      <td>19.68</td>\n",
       "      <td>top_K</td>\n",
       "      <td>0.745702</td>\n",
       "      <td>0.745702</td>\n",
       "    </tr>\n",
       "    <tr>\n",
       "      <th>1</th>\n",
       "      <td>0.96720475</td>\n",
       "      <td>[0.21647705, -0.25799677, -0.5115515, 1.094830...</td>\n",
       "      <td>6.7206993</td>\n",
       "      <td>[0.0, 0.0, 0.0, 0.0, 0.0, 0.8609996399899046, ...</td>\n",
       "      <td>[0.0, 0.0, 0.0, 0.0, 0.0, 0.5664093586106854, ...</td>\n",
       "      <td>19.68</td>\n",
       "      <td>paired_comparisons</td>\n",
       "      <td>0.448264</td>\n",
       "      <td>0.448264</td>\n",
       "    </tr>\n",
       "    <tr>\n",
       "      <th>2</th>\n",
       "      <td>[1e-05, 0.99999, 0.99999, 1e-05, 1e-05, 0.9999...</td>\n",
       "      <td>[0.17463633, 0.33416936, 0.5265821, 0.7457838,...</td>\n",
       "      <td>18.7993</td>\n",
       "      <td>[0.0, 0.0, 0.0, 0.0, 0.0, 0.5440978710082942, ...</td>\n",
       "      <td>[0.0, 0.0, 0.0, 0.0, 0.0, 0.5664093586106854, ...</td>\n",
       "      <td>19.68</td>\n",
       "      <td>blind_irl</td>\n",
       "      <td>0.180503</td>\n",
       "      <td>0.180503</td>\n",
       "    </tr>\n",
       "    <tr>\n",
       "      <th>3</th>\n",
       "      <td>[0.39272222, 7.9849305]</td>\n",
       "      <td>[-0.57444394, -0.44414994, 0.06446498, 1.69258...</td>\n",
       "      <td>13.600151</td>\n",
       "      <td>[0.0, 0.0, 0.0, 0.0, 0.0, 0.520332443440711, 3...</td>\n",
       "      <td>[0.0, 0.0, 0.0, 0.0, 0.0, 0.5664093586106854, ...</td>\n",
       "      <td>19.68</td>\n",
       "      <td>top_K</td>\n",
       "      <td>4.145782</td>\n",
       "      <td>4.145782</td>\n",
       "    </tr>\n",
       "    <tr>\n",
       "      <th>4</th>\n",
       "      <td>0.9674602</td>\n",
       "      <td>[-1.2344896, 0.422633, 0.6841219, -0.1459964, ...</td>\n",
       "      <td>4.6982203</td>\n",
       "      <td>[0.0, 0.0, 0.0, 0.0, 0.0, 0.6525267534656098, ...</td>\n",
       "      <td>[0.0, 0.0, 0.0, 0.0, 0.0, 0.5664093586106854, ...</td>\n",
       "      <td>19.68</td>\n",
       "      <td>paired_comparisons</td>\n",
       "      <td>0.086117</td>\n",
       "      <td>0.086117</td>\n",
       "    </tr>\n",
       "    <tr>\n",
       "      <th>5</th>\n",
       "      <td>[1e-05, 0.99999, 0.99999, 1e-05, 1e-05, 1e-05,...</td>\n",
       "      <td>[-0.15097347, -1.2312531, 0.17719224, -0.53451...</td>\n",
       "      <td>7.540006</td>\n",
       "      <td>[0.0, 0.0, 0.0, 0.0, 0.0, 6.694963779282302, 1...</td>\n",
       "      <td>[0.0, 0.0, 0.0, 0.0, 0.0, 0.5664093586106854, ...</td>\n",
       "      <td>19.68</td>\n",
       "      <td>blind_irl</td>\n",
       "      <td>6.128554</td>\n",
       "      <td>6.128554</td>\n",
       "    </tr>\n",
       "    <tr>\n",
       "      <th>6</th>\n",
       "      <td>[0.39353865, 8.283182]</td>\n",
       "      <td>[-0.748826, -0.3192929, -0.6317058, 1.216472, ...</td>\n",
       "      <td>17.882887</td>\n",
       "      <td>[0.0, 0.0, 0.0, 0.0, 0.0, 0.47560839254990345,...</td>\n",
       "      <td>[0.0, 0.0, 0.0, 0.0, 0.0, 0.5664093586106854, ...</td>\n",
       "      <td>19.68</td>\n",
       "      <td>top_K</td>\n",
       "      <td>0.582672</td>\n",
       "      <td>0.582672</td>\n",
       "    </tr>\n",
       "    <tr>\n",
       "      <th>7</th>\n",
       "      <td>0.9650466</td>\n",
       "      <td>[-0.8888931, 0.19988532, 0.016064659, 0.642372...</td>\n",
       "      <td>-0.21783787</td>\n",
       "      <td>[0.0, 0.0, 0.0, 0.0, 0.0, 0.6655970555626662, ...</td>\n",
       "      <td>[0.0, 0.0, 0.0, 0.0, 0.0, 0.5664093586106854, ...</td>\n",
       "      <td>19.68</td>\n",
       "      <td>paired_comparisons</td>\n",
       "      <td>0.889215</td>\n",
       "      <td>0.889215</td>\n",
       "    </tr>\n",
       "    <tr>\n",
       "      <th>8</th>\n",
       "      <td>[1e-05, 0.99999, 0.99999, 1e-05, 1e-05, 0.9999...</td>\n",
       "      <td>[-0.2565781, -0.009772273, -1.7342803, -0.9440...</td>\n",
       "      <td>14.81659</td>\n",
       "      <td>[0.0, 0.0, 0.0, 0.0, 0.0, 0.40565400767941306,...</td>\n",
       "      <td>[0.0, 0.0, 0.0, 0.0, 0.0, 0.5664093586106854, ...</td>\n",
       "      <td>19.68</td>\n",
       "      <td>blind_irl</td>\n",
       "      <td>0.353584</td>\n",
       "      <td>0.353584</td>\n",
       "    </tr>\n",
       "  </tbody>\n",
       "</table>\n",
       "</div>"
      ],
      "text/plain": [
       "                                     biases_recoverd  \\\n",
       "0                             [0.38452083, 7.988178]   \n",
       "1                                         0.96720475   \n",
       "2  [1e-05, 0.99999, 0.99999, 1e-05, 1e-05, 0.9999...   \n",
       "3                            [0.39272222, 7.9849305]   \n",
       "4                                          0.9674602   \n",
       "5  [1e-05, 0.99999, 0.99999, 1e-05, 1e-05, 1e-05,...   \n",
       "6                             [0.39353865, 8.283182]   \n",
       "7                                          0.9650466   \n",
       "8  [1e-05, 0.99999, 0.99999, 1e-05, 1e-05, 0.9999...   \n",
       "\n",
       "                                    recovered_reward mean_reward_obtained  \\\n",
       "0  [-0.7645573, -0.6172542, 0.13089179, -0.190765...            17.870045   \n",
       "1  [0.21647705, -0.25799677, -0.5115515, 1.094830...            6.7206993   \n",
       "2  [0.17463633, 0.33416936, 0.5265821, 0.7457838,...              18.7993   \n",
       "3  [-0.57444394, -0.44414994, 0.06446498, 1.69258...            13.600151   \n",
       "4  [-1.2344896, 0.422633, 0.6841219, -0.1459964, ...            4.6982203   \n",
       "5  [-0.15097347, -1.2312531, 0.17719224, -0.53451...             7.540006   \n",
       "6  [-0.748826, -0.3192929, -0.6317058, 1.216472, ...            17.882887   \n",
       "7  [-0.8888931, 0.19988532, 0.016064659, 0.642372...          -0.21783787   \n",
       "8  [-0.2565781, -0.009772273, -1.7342803, -0.9440...             14.81659   \n",
       "\n",
       "                                        obs_obtained  \\\n",
       "0  [0.0, 0.0, 0.0, 0.0, 0.0, 0.5132589045758561, ...   \n",
       "1  [0.0, 0.0, 0.0, 0.0, 0.0, 0.8609996399899046, ...   \n",
       "2  [0.0, 0.0, 0.0, 0.0, 0.0, 0.5440978710082942, ...   \n",
       "3  [0.0, 0.0, 0.0, 0.0, 0.0, 0.520332443440711, 3...   \n",
       "4  [0.0, 0.0, 0.0, 0.0, 0.0, 0.6525267534656098, ...   \n",
       "5  [0.0, 0.0, 0.0, 0.0, 0.0, 6.694963779282302, 1...   \n",
       "6  [0.0, 0.0, 0.0, 0.0, 0.0, 0.47560839254990345,...   \n",
       "7  [0.0, 0.0, 0.0, 0.0, 0.0, 0.6655970555626662, ...   \n",
       "8  [0.0, 0.0, 0.0, 0.0, 0.0, 0.40565400767941306,...   \n",
       "\n",
       "                                         obs_optimal optimal_rew  \\\n",
       "0  [0.0, 0.0, 0.0, 0.0, 0.0, 0.5664093586106854, ...       19.68   \n",
       "1  [0.0, 0.0, 0.0, 0.0, 0.0, 0.5664093586106854, ...       19.68   \n",
       "2  [0.0, 0.0, 0.0, 0.0, 0.0, 0.5664093586106854, ...       19.68   \n",
       "3  [0.0, 0.0, 0.0, 0.0, 0.0, 0.5664093586106854, ...       19.68   \n",
       "4  [0.0, 0.0, 0.0, 0.0, 0.0, 0.5664093586106854, ...       19.68   \n",
       "5  [0.0, 0.0, 0.0, 0.0, 0.0, 0.5664093586106854, ...       19.68   \n",
       "6  [0.0, 0.0, 0.0, 0.0, 0.0, 0.5664093586106854, ...       19.68   \n",
       "7  [0.0, 0.0, 0.0, 0.0, 0.0, 0.5664093586106854, ...       19.68   \n",
       "8  [0.0, 0.0, 0.0, 0.0, 0.0, 0.5664093586106854, ...       19.68   \n",
       "\n",
       "               method  obs_l_inf  inf norm, visitation  \n",
       "0               top_K   0.745702              0.745702  \n",
       "1  paired_comparisons   0.448264              0.448264  \n",
       "2           blind_irl   0.180503              0.180503  \n",
       "3               top_K   4.145782              4.145782  \n",
       "4  paired_comparisons   0.086117              0.086117  \n",
       "5           blind_irl   6.128554              6.128554  \n",
       "6               top_K   0.582672              0.582672  \n",
       "7  paired_comparisons   0.889215              0.889215  \n",
       "8           blind_irl   0.353584              0.353584  "
      ]
     },
     "execution_count": 393,
     "metadata": {},
     "output_type": "execute_result"
    }
   ],
   "source": [
    "df_single"
   ]
  },
  {
   "cell_type": "code",
   "execution_count": 398,
   "metadata": {},
   "outputs": [
    {
     "data": {
      "image/png": "[encoded data removed]",
      "text/plain": [
       "<Figure size 432x288 with 1 Axes>"
      ]
     },
     "metadata": {
      "needs_background": "light"
     },
     "output_type": "display_data"
    }
   ],
   "source": [
    "sns.barplot(x='method', y='inf norm, visitation', data = df_single)\n",
    "plt.title('Visitation Frequency Comparison')\n",
    "plt.savefig('./images/visitation_freq')"
   ]
  },
  {
   "cell_type": "code",
   "execution_count": 415,
   "metadata": {},
   "outputs": [],
   "source": [
    "df_shared['inf norm, visitation'] = df_shared['obs_obtained'] - df_shared['obs_optimal']\n",
    "df_shared['inf norm, visitation'] = df_shared['inf norm, visitation'].apply(lambda x: np.linalg.norm(x, ord=np.inf))"
   ]
  },
  {
   "cell_type": "code",
   "execution_count": 417,
   "metadata": {},
   "outputs": [
    {
     "data": {
      "text/plain": [
       "<matplotlib.axes._subplots.AxesSubplot at 0x7f450803b240>"
      ]
     },
     "execution_count": 417,
     "metadata": {},
     "output_type": "execute_result"
    },
    {
     "data": {
      "image/png": "[encoded data removed]",
      "text/plain": [
       "<Figure size 432x288 with 1 Axes>"
      ]
     },
     "metadata": {
      "needs_background": "light"
     },
     "output_type": "display_data"
    }
   ],
   "source": [
    "sns.barplot(x='method', y='inf norm, visitation', data = df_shared)"
   ]
  },
  {
   "cell_type": "code",
   "execution_count": 410,
   "metadata": {},
   "outputs": [
    {
     "data": {
      "image/png": "[encoded data removed]",
      "text/plain": [
       "<Figure size 648x216 with 4 Axes>"
      ]
     },
     "metadata": {
      "needs_background": "light"
     },
     "output_type": "display_data"
    }
   ],
   "source": [
    "plt.figure(figsize=(9, 3))\n",
    "for k in range(3):\n",
    "    plt.subplot(140+k+1)\n",
    "    plt.imshow(df_single['obs_obtained'].values[k+6].reshape(4, 4))\n",
    "    plt.title(['Top K', 'Paired Comparisons', 'Blind IRL'][k])\n",
    "    if k == 0: \n",
    "        plt.xlabel('State X')\n",
    "        plt.ylabel('State Y')\n",
    "plt.subplot(144)\n",
    "plt.imshow(df_single['obs_optimal'].values[3].reshape(4, 4))\n",
    "plt.title('Optimal (MCE IRL)')\n",
    "plt.savefig('./images/vistation_example')"
   ]
  },
  {
   "cell_type": "code",
   "execution_count": 396,
   "metadata": {},
   "outputs": [
    {
     "data": {
      "text/plain": [
       "<matplotlib.image.AxesImage at 0x7f452822da90>"
      ]
     },
     "execution_count": 396,
     "metadata": {},
     "output_type": "execute_result"
    },
    {
     "data": {
      "image/png": "[encoded data removed]",
      "text/plain": [
       "<Figure size 432x288 with 1 Axes>"
      ]
     },
     "metadata": {
      "needs_background": "light"
     },
     "output_type": "display_data"
    }
   ],
   "source": [
    "plt.imshow(df_single['obs_optimal'].values[3].reshape(4, 4))"
   ]
  },
  {
   "cell_type": "code",
   "execution_count": null,
   "metadata": {},
   "outputs": [],
   "source": []
  }
 ],
 "metadata": {
  "kernelspec": {
   "display_name": "Python 3",
   "language": "python",
   "name": "python3"
  },
  "language_info": {
   "codemirror_mode": {
    "name": "ipython",
    "version": 3
   },
   "file_extension": ".py",
   "mimetype": "text/x-python",
   "name": "python",
   "nbconvert_exporter": "python",
   "pygments_lexer": "ipython3",
   "version": "3.6.6"
  }
 },
 "nbformat": 4,
 "nbformat_minor": 4
}
