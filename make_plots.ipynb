{
 "cells": [
  {
   "cell_type": "markdown",
   "metadata": {},
   "source": [
    "# Bias model bootstrapping notebook\n",
    "\n",
    "Eventually this notebook will (hopefully?) contain all the code necessary to run our final experiments.\n",
    "For now it just contains a demo of MCE IRL on some gridworlds from the \"learning biases\" paper.\n",
    "\n",
    "First we have some not-very-interesting setup:"
   ]
  },
  {
   "cell_type": "code",
   "execution_count": 1,
   "metadata": {},
   "outputs": [],
   "source": [
    "%matplotlib inline\n",
    "\n",
    "# These are useful for debugging, but make code slower:\n",
    "%load_ext autoreload\n",
    "%autoreload 2\n",
    "\n",
    "import logging\n",
    "\n",
    "import numpy as np\n",
    "import matplotlib.pyplot as plt\n",
    "import pandas as pd\n",
    "import seaborn as sns\n",
    "import jax\n",
    "import jax.experimental.optimizers as jopt\n",
    "import jax.random as jrandom\n",
    "import numpy as np\n",
    "\n",
    "from pref_bootstrap.envs import gridworld, mdp_interface\n",
    "from pref_bootstrap.algos import mce_irl\n",
    "import pref_bootstrap.feedback_learner_blind_irl as fbl_blind_irl\n",
    "import pref_bootstrap.feedback_learner_paired_comparisons as fbl_paired_comp\n",
    "import pref_bootstrap.reward_models as r_models\n",
    "import pref_bootstrap.expert_base as experts\n",
    "\n",
    "sns.set(context='notebook', style='darkgrid')\n",
    "logging.basicConfig(level=logging.INFO)\n",
    "np.set_printoptions(precision=4, linewidth=100)"
   ]
  },
  {
   "cell_type": "markdown",
   "metadata": {},
   "source": [
    "## Very simple example of using environments and MCE IRL code\n",
    "\n",
    "This code doesn't use the new agent API"
   ]
  },
  {
   "cell_type": "code",
   "execution_count": 2,
   "metadata": {},
   "outputs": [],
   "source": [
    "random_gridworld = gridworld.GridworldMdp.generate_random(4, 4, 0.2, 0.1)\n",
    "env = mdp_interface.GridworldEnvWrapper(random_gridworld, random_gridworld.height + random_gridworld.width)"
   ]
  },
  {
   "cell_type": "code",
   "execution_count": 3,
   "metadata": {},
   "outputs": [],
   "source": [
    "# generate some optimal demos (represented by a single optimal occupancy measure vector) and run MCE IRL\n",
    "_, optimal_om = mce_irl.mce_occupancy_measures(env)\n",
    "rmodel = r_models.LinearRewardModel(env.obs_dim)\n",
    "opt_tup = jopt.momentum(1e-2, 0.9)"
   ]
  },
  {
   "cell_type": "code",
   "execution_count": 4,
   "metadata": {},
   "outputs": [
    {
     "name": "stderr",
     "output_type": "stream",
     "text": [
      "WARNING:absl:No GPU/TPU found, falling back to CPU. (Set TF_CPP_MIN_LOG_LEVEL=0 and rerun for more info.)\n",
      "INFO:root:Occupancy measure error@iter   0: 5.778172 (||params||=3.306322, ||grad||=7.350551, ||E[dr/dw]||=5.710816)\n",
      "INFO:root:Occupancy measure error@iter  100: 0.111031 (||params||=4.412621, ||grad||=0.128785, ||E[dr/dw]||=6.057670)\n",
      "INFO:root:Occupancy measure error@iter  200: 0.024265 (||params||=3.839608, ||grad||=0.028906, ||E[dr/dw]||=5.973090)\n",
      "INFO:root:Occupancy measure error@iter  300: 0.014822 (||params||=3.754622, ||grad||=0.017330, ||E[dr/dw]||=5.963995)\n",
      "INFO:root:Occupancy measure error@iter  400: 0.008762 (||params||=3.728791, ||grad||=0.010339, ||E[dr/dw]||=5.963118)\n",
      "INFO:root:Occupancy measure error@iter  500: 0.004939 (||params||=3.718511, ||grad||=0.005868, ||E[dr/dw]||=5.962843)\n",
      "INFO:root:Occupancy measure error@iter  600: 0.002712 (||params||=3.714385, ||grad||=0.003237, ||E[dr/dw]||=5.962771)\n",
      "INFO:root:Occupancy measure error@iter  700: 0.001469 (||params||=3.712655, ||grad||=0.001758, ||E[dr/dw]||=5.962763)\n"
     ]
    }
   ],
   "source": [
    "rew_params, visitations = mce_irl.mce_irl(env, opt_tup, rmodel, optimal_om, print_interval=100, max_iter=1000)"
   ]
  },
  {
   "cell_type": "code",
   "execution_count": 5,
   "metadata": {},
   "outputs": [
    {
     "name": "stdout",
     "output_type": "stream",
     "text": [
      "Optimal state visitation frequencies for each grid cell:\n",
      "[[0.     0.     0.     0.    ]\n",
      " [0.     0.5664 5.8141 0.    ]\n",
      " [0.     1.053  0.5664 0.    ]\n",
      " [0.     0.     0.     0.    ]]\n",
      "\n",
      "Recovered state visitation frequencies for each grid cell:\n",
      "[[0.     0.     0.     0.    ]\n",
      " [0.     0.5669 5.8142 0.    ]\n",
      " [0.     1.052  0.5669 0.    ]\n",
      " [0.     0.     0.     0.    ]]\n"
     ]
    }
   ],
   "source": [
    "print('Optimal state visitation frequencies for each grid cell:')\n",
    "print(optimal_om.reshape((random_gridworld.height, random_gridworld.width)))\n",
    "print('\\nRecovered state visitation frequencies for each grid cell:')\n",
    "print(visitations.reshape((random_gridworld.height, random_gridworld.width)))"
   ]
  },
  {
   "cell_type": "markdown",
   "metadata": {},
   "source": [
    "## More complex example showing how to use an EnvFeedbackModel to recover both a reward function + sub-rationality model\n",
    "\n",
    "This code actually does use the new API to show how to use the 'blind IRL' feedback model (& its associated expert, which doesn't support observation blinding yet)."
   ]
  },
  {
   "cell_type": "code",
   "execution_count": 6,
   "metadata": {},
   "outputs": [],
   "source": [
    "# ALRIGHT, HERE IS WHERE I WILL DEBUG THE TOPK FEEDBACK LEARNER\n",
    "# ABLATIONS: COULD WE DO BETTER IF ALL OUR TRAJECTORIES ARE GOOD? \n",
    "# OR IS IT NECESSARY TO HAVE BAD TRAJECTORIES? "
   ]
  },
  {
   "cell_type": "code",
   "execution_count": 7,
   "metadata": {},
   "outputs": [
    {
     "name": "stderr",
     "output_type": "stream",
     "text": [
      "/userdata/smetzger/gim/lib/python3.6/site-packages/jax/_src/lax/lax.py:6271: UserWarning: Explicitly requested dtype float64 requested in array is not available, and will be truncated to dtype float32. To enable more dtypes, set the jax_enable_x64 configuration option or the JAX_ENABLE_X64 shell environment variable. See https://github.com/google/jax#current-gotchas for more.\n",
      "  warnings.warn(msg.format(dtype, fun_name , truncated_dtype))\n"
     ]
    }
   ],
   "source": [
    "import pref_bootstrap.feedback_learner_topk as fbl_topk\n",
    "\n",
    "rmodel = r_models.LinearRewardModel(env.obs_dim)\n",
    "top_K_feedback_model = fbl_topk.TopKFeedbackModel(env)\n",
    "top_K_expert = experts.TopKExpert(env, temp=.3, K=.05, seed=42)"
   ]
  },
  {
   "cell_type": "code",
   "execution_count": 8,
   "metadata": {},
   "outputs": [
    {
     "ename": "TypeError",
     "evalue": "interact() missing 1 required positional argument: 'rmodel'",
     "output_type": "error",
     "traceback": [
      "\u001b[0;31m---------------------------------------------------------------------------\u001b[0m",
      "\u001b[0;31mTypeError\u001b[0m                                 Traceback (most recent call last)",
      "\u001b[0;32m<ipython-input-8-1a7df41aefd4>\u001b[0m in \u001b[0;36m<module>\u001b[0;34m()\u001b[0m\n\u001b[1;32m      4\u001b[0m \u001b[0mn_traj\u001b[0m \u001b[0;34m=\u001b[0m \u001b[0;36m1000\u001b[0m\u001b[0;34m\u001b[0m\u001b[0m\n\u001b[1;32m      5\u001b[0m \u001b[0mtraj\u001b[0m \u001b[0;34m=\u001b[0m \u001b[0mmce_irl\u001b[0m\u001b[0;34m.\u001b[0m\u001b[0mmce_irl_sample\u001b[0m\u001b[0;34m(\u001b[0m\u001b[0menv\u001b[0m\u001b[0;34m,\u001b[0m \u001b[0mn_traj\u001b[0m\u001b[0;34m,\u001b[0m \u001b[0mR\u001b[0m\u001b[0;34m=\u001b[0m\u001b[0mnp\u001b[0m\u001b[0;34m.\u001b[0m\u001b[0mones\u001b[0m\u001b[0;34m(\u001b[0m\u001b[0;34m(\u001b[0m\u001b[0menv\u001b[0m\u001b[0;34m.\u001b[0m\u001b[0mn_states\u001b[0m\u001b[0;34m,\u001b[0m\u001b[0;34m)\u001b[0m\u001b[0;34m)\u001b[0m\u001b[0;34m)\u001b[0m\u001b[0;34m\u001b[0m\u001b[0m\n\u001b[0;32m----> 6\u001b[0;31m \u001b[0mlabels\u001b[0m\u001b[0;34m=\u001b[0m \u001b[0mtop_K_expert\u001b[0m\u001b[0;34m.\u001b[0m\u001b[0minteract\u001b[0m\u001b[0;34m(\u001b[0m\u001b[0mtraj\u001b[0m\u001b[0;34m)\u001b[0m\u001b[0;34m\u001b[0m\u001b[0m\n\u001b[0m\u001b[1;32m      7\u001b[0m \u001b[0;34m\u001b[0m\u001b[0m\n\u001b[1;32m      8\u001b[0m \u001b[0mlabels_final\u001b[0m\u001b[0;34m,\u001b[0m \u001b[0mtraj_final\u001b[0m \u001b[0;34m=\u001b[0m \u001b[0;34m[\u001b[0m\u001b[0;34m]\u001b[0m\u001b[0;34m,\u001b[0m \u001b[0;34m[\u001b[0m\u001b[0;34m]\u001b[0m\u001b[0;34m\u001b[0m\u001b[0m\n",
      "\u001b[0;31mTypeError\u001b[0m: interact() missing 1 required positional argument: 'rmodel'"
     ]
    }
   ],
   "source": [
    "# def genereate_top_K_dataset(n_traj): \n",
    "import random\n",
    "\n",
    "n_traj = 1000\n",
    "traj = mce_irl.mce_irl_sample(env, n_traj, R=np.ones((env.n_states,)))\n",
    "labels= top_K_expert.interact(traj)\n",
    "\n",
    "labels_final, traj_final = [], []\n",
    "for l, t in zip(labels, traj['states']): \n",
    "    if not(l):\n",
    "        if True:#random.random() < (np.sum(labels)/len(labels)):\n",
    "            labels_final.append(l), traj_final.append(t)\n",
    "    else: \n",
    "        labels_final.append(l), traj_final.append(t)\n",
    "        \n",
    "labels_final = np.array(labels_final)\n",
    "        \n",
    "print(np.sum(labels)/len(labels))\n",
    "print(np.sum(labels_final)/len(labels_final))\n"
   ]
  },
  {
   "cell_type": "code",
   "execution_count": null,
   "metadata": {},
   "outputs": [],
   "source": [
    "def generate_topk_dataset(n_traj):\n",
    "    # def genereate_top_K_dataset(n_traj): \n",
    "    import random\n",
    "    traj = mce_irl.mce_irl_sample(env, n_traj, R=np.ones((env.n_states,)))\n",
    "    labels= top_K_expert.interact(traj)\n",
    "\n",
    "    labels_final, traj_final = [], []\n",
    "    for l, t in zip(labels, traj['states']): \n",
    "        if not(l):\n",
    "            if random.random() < top_K_expert.K:#TODO if there are issues update this so that we balance our dataset.\n",
    "                labels_final.append(l), traj_final.append(t)\n",
    "        else: \n",
    "            labels_final.append(l), traj_final.append(t)\n",
    "\n",
    "    labels_final = np.array([int(l) for l in labels_final])\n",
    "    \n",
    "    return {\n",
    "        'trajectories':np.array(traj_final), \n",
    "        'labels':labels_final\n",
    "    }\n",
    "\n",
    "top_K_dataset = generate_topk_dataset(1000)\n"
   ]
  },
  {
   "cell_type": "code",
   "execution_count": null,
   "metadata": {},
   "outputs": [],
   "source": [
    "lr = 1e-3\n",
    "steps = 10000\n",
    "loss_prev = float('Inf')\n",
    "delta = 100\n",
    "eps = 1e-5\n",
    "\n",
    "import pref_bootstrap.feedback_learner_topk as fbl_topk\n",
    "top_K_feedback_model = fbl_topk.TopKFeedbackModel(env)\n",
    "top_K_expert = experts.TopKExpert(env, temp=.3, K=.05, seed=42)\n",
    "rmodel = r_models.LinearRewardModel(env.obs_dim)\n",
    "import jax\n",
    "import jax.numpy as jnp\n",
    "\n",
    "rng = jrandom.PRNGKey(42)\n",
    "rng, top_K_bias_params = top_K_feedback_model.init_bias_params(rng)"
   ]
  },
  {
   "cell_type": "code",
   "execution_count": null,
   "metadata": {},
   "outputs": [],
   "source": [
    "def trad_optimize(model, data, rmodel, bias_params, use_bias_prior=False, eps=1e-9):\n",
    "    \"\"\"\n",
    "    Note: Going to add back the projected G.D\n",
    "    I'm not really sure why he was trying to optimize the probability of the bias terms under the bias prior, \n",
    "    i don't really think that makes much sense. You'll basically just push it towards the mean terms even\n",
    "    thought its not really there...\n",
    "    \n",
    "    \"\"\"\n",
    "    lr = 1e-2\n",
    "    steps = 1000\n",
    "    loss_prev = float('Inf')\n",
    "    delta = 100\n",
    " \n",
    "    step = 0\n",
    "    \n",
    "    while(np.abs(delta<eps) and step<steps):\n",
    "\n",
    "        grew = model.log_likelihood_grad_rew(data, rmodel, bias_params)\n",
    "        new_r = rmodel.get_params() + lr*grew\n",
    "        rmodel.set_params(new_r)\n",
    "        \n",
    "        gbias = model.log_likelihood_grad_bias(data, rmodel, bias_params)\n",
    "        \n",
    "        \n",
    "        \n",
    "        bias_prior_grad = model.bias_prior.log_prior_grad(bias_params)\n",
    "        \n",
    "        if use_bias_prior: \n",
    "            gbias = gbias+ bias_prior_grad\n",
    "        \n",
    "        bias_params = bias_params + lr*(gbias)\n",
    "        \n",
    "        # Projected G.D. done right (I think this was a bug term from the last one)\n",
    "        \n",
    "        if use_bias_prior: \n",
    "            bias_params = model.bias_prior.project_to_support(bias_params)\n",
    "        \n",
    "        loss = model.log_likelihood(data, rmodel, bias_params)\n",
    "        if step % 100 == 0:\n",
    "            print('step %d loss %.3f' %(step, loss))\n",
    "        if step > 0: \n",
    "            delta = loss-loss_prev\n",
    "        loss_prev = loss\n",
    "        step +=1\n",
    "\n",
    "    if np.abs(delta) <= .0001: \n",
    "        print('terminated due to delta')\n",
    "    else: \n",
    "        print('terminated due to steps exceeding %d' %steps)\n",
    "        \n",
    "    return model, rmodel, bias_params\n",
    "rmodel = r_models.LinearRewardModel(env.obs_dim)\n",
    "_, rmodel, _ = trad_optimize(top_K_feedback_model, top_K_dataset, rmodel, top_K_bias_params)"
   ]
  },
  {
   "cell_type": "code",
   "execution_count": null,
   "metadata": {},
   "outputs": [],
   "source": [
    "def evaluate(rmodel):\n",
    "    plt.plot(rmodel.get_params(), label='estimated')\n",
    "    plt.plot(env.reward_matrix, label='real reward')\n",
    "    plt.legend()\n",
    "    plt.title('Estimated Reward Function')\n",
    "\n",
    "    _, topk_om = mce_irl.mce_occupancy_measures(env, R=rmodel.get_params())\n",
    "\n",
    "    print('Optimal state visitation frequencies for each grid cell:')\n",
    "    print(optimal_om.reshape((random_gridworld.height, random_gridworld.width)))\n",
    "\n",
    "    print('Inferred ')\n",
    "    print(topk_om.reshape((random_gridworld.height, random_gridworld.width)))\n",
    "    \n",
    "evaluate(rmodel)"
   ]
  },
  {
   "cell_type": "code",
   "execution_count": null,
   "metadata": {},
   "outputs": [],
   "source": [
    "# Now can we get another feedback modality to work with the traditional grad descent? "
   ]
  },
  {
   "cell_type": "code",
   "execution_count": null,
   "metadata": {},
   "outputs": [],
   "source": [
    "pc_feedback_model = fbl_paired_comp.PairedCompFeedbackModel(env)\n",
    "rng, pc_bias_params = pc_feedback_model.init_bias_params(rng)\n",
    "pc_expert = experts.PairedComparisonExpert(env, boltz_temp=1.0, seed=42)\n",
    "\n",
    "# generate some random trajectories & compare a random subset of them\n",
    "def generate_comparison_dataset(pc_ntraj):\n",
    "    pc_trajectories = mce_irl.mce_irl_sample(env, pc_ntraj, R=np.ones((env.n_states, )))\n",
    "    to_compare_first = np.arange(len(pc_trajectories['states']))\n",
    "    comparisons = []\n",
    "    for first_idx in range(pc_ntraj):\n",
    "        second_idx = np.random.randint(pc_ntraj - 1)\n",
    "        if second_idx >= first_idx:\n",
    "            second_idx += 1\n",
    "        traj1_is_better = pc_expert.interact(\n",
    "            dict(states=pc_trajectories['states'][first_idx]),\n",
    "            dict(states=pc_trajectories['states'][second_idx]))\n",
    "        if traj1_is_better:\n",
    "            # the better trajectory comes before the worse one\n",
    "            comparisons.append((first_idx, second_idx))\n",
    "        else:\n",
    "            comparisons.append((second_idx, first_idx))\n",
    "    return {\n",
    "        'trajectories': pc_trajectories,\n",
    "        'comparisons': np.asarray(comparisons),\n",
    "    }\n",
    "\n",
    "comparison_dataset = generate_comparison_dataset(100)"
   ]
  },
  {
   "cell_type": "code",
   "execution_count": 9,
   "metadata": {},
   "outputs": [
    {
     "ename": "NameError",
     "evalue": "name 'trad_optimize' is not defined",
     "output_type": "error",
     "traceback": [
      "\u001b[0;31m---------------------------------------------------------------------------\u001b[0m",
      "\u001b[0;31mNameError\u001b[0m                                 Traceback (most recent call last)",
      "\u001b[0;32m<ipython-input-9-ad83039137ee>\u001b[0m in \u001b[0;36m<module>\u001b[0;34m()\u001b[0m\n\u001b[1;32m      1\u001b[0m \u001b[0mrmodel\u001b[0m \u001b[0;34m=\u001b[0m \u001b[0mr_models\u001b[0m\u001b[0;34m.\u001b[0m\u001b[0mLinearRewardModel\u001b[0m\u001b[0;34m(\u001b[0m\u001b[0menv\u001b[0m\u001b[0;34m.\u001b[0m\u001b[0mobs_dim\u001b[0m\u001b[0;34m)\u001b[0m\u001b[0;34m\u001b[0m\u001b[0m\n\u001b[0;32m----> 2\u001b[0;31m \u001b[0m_\u001b[0m\u001b[0;34m,\u001b[0m \u001b[0mrmodel\u001b[0m\u001b[0;34m,\u001b[0m \u001b[0m_\u001b[0m \u001b[0;34m=\u001b[0m \u001b[0mtrad_optimize\u001b[0m\u001b[0;34m(\u001b[0m\u001b[0mpc_feedback_model\u001b[0m\u001b[0;34m,\u001b[0m \u001b[0mcomparison_dataset\u001b[0m\u001b[0;34m,\u001b[0m \u001b[0mrmodel\u001b[0m\u001b[0;34m,\u001b[0m \u001b[0mpc_bias_params\u001b[0m\u001b[0;34m,\u001b[0m \u001b[0muse_bias_prior\u001b[0m\u001b[0;34m=\u001b[0m\u001b[0;32mTrue\u001b[0m\u001b[0;34m)\u001b[0m\u001b[0;34m\u001b[0m\u001b[0m\n\u001b[0m\u001b[1;32m      3\u001b[0m \u001b[0mevaluate\u001b[0m\u001b[0;34m(\u001b[0m\u001b[0mrmodel\u001b[0m\u001b[0;34m)\u001b[0m\u001b[0;34m\u001b[0m\u001b[0m\n",
      "\u001b[0;31mNameError\u001b[0m: name 'trad_optimize' is not defined"
     ]
    }
   ],
   "source": [
    "rmodel = r_models.LinearRewardModel(env.obs_dim)\n",
    "_, rmodel, _ = trad_optimize(pc_feedback_model, comparison_dataset, rmodel, pc_bias_params, use_bias_prior=True)\n",
    "evaluate(rmodel)"
   ]
  },
  {
   "cell_type": "code",
   "execution_count": 16,
   "metadata": {},
   "outputs": [
    {
     "name": "stdout",
     "output_type": "stream",
     "text": [
      "terminated due to steps exceeding 1000\n",
      "Optimal state visitation frequencies for each grid cell:\n",
      "[[0.     0.     0.     0.    ]\n",
      " [0.     0.     1.0526 0.    ]\n",
      " [0.     5.8825 1.0649 0.    ]\n",
      " [0.     0.     0.     0.    ]]\n",
      "Inferred \n",
      "[[0.     0.     0.     0.    ]\n",
      " [0.     0.     1.8788 0.    ]\n",
      " [0.     0.9422 5.1791 0.    ]\n",
      " [0.     0.     0.     0.    ]]\n"
     ]
    },
    {
     "data": {
      "image/png": "[encoded data removed]",
      "text/plain": [
       "<Figure size 432x288 with 1 Axes>"
      ]
     },
     "metadata": {
      "needs_background": "light"
     },
     "output_type": "display_data"
    }
   ],
   "source": [
    "irl_feedback_model = fbl_blind_irl.BlindIRLFeedbackModel(env)\n",
    "rmodel = r_models.LinearRewardModel(env.obs_dim)\n",
    "rng = jrandom.PRNGKey(42)\n",
    "rng, irl_bias_params = irl_feedback_model.init_bias_params(rng)\n",
    "irl_expert = experts.MEDemonstratorExpert(env, np.random.randint((1 << 31) - 1))\n",
    "# we'll do IRL based on 10 trajectories\n",
    "irl_dataset = irl_expert.interact(10)\n",
    "_, rmodel, _ = trad_optimize(irl_feedback_model, irl_dataset, rmodel, irl_bias_params, use_bias_prior=True)\n",
    "evaluate(rmodel)"
   ]
  },
  {
   "cell_type": "code",
   "execution_count": 17,
   "metadata": {},
   "outputs": [],
   "source": [
    "def multi_optimize(model_list, data_list, rmodel, bias_list, use_bias_list, optimize_reward=True): \n",
    "    \n",
    "    lr = 1e-3\n",
    "    steps = 1000\n",
    "    loss_prev = float('Inf')\n",
    "    delta = 100\n",
    "    step = 0\n",
    "    \n",
    "    while(step<steps):\n",
    "    \n",
    "        grew = jnp.zeros_like(env.reward_matrix)\n",
    "        \n",
    "        if optimize_reward: \n",
    "            for model, data, bias_params in zip(model_list, data_list, bias_list):\n",
    "                grew += model.log_likelihood_grad_rew(data, rmodel, bias_params)\n",
    "\n",
    "        new_r = rmodel.get_params() + lr*grew\n",
    "        rmodel.set_params(new_r)\n",
    "        \n",
    "        for k, (model, data, bias_params, use_bias_prior) in enumerate(zip(model_list, data_list, bias_list, use_bias_list)):\n",
    "            gbias = model.log_likelihood_grad_bias(data, rmodel, bias_params)\n",
    "            if use_bias_prior: \n",
    "                bias_prior_grad = model.bias_prior.log_prior_grad(bias_params)\n",
    "                gbias = gbias + bias_prior_grad\n",
    "        \n",
    "            bias_list[k] = bias_params + lr*(gbias)\n",
    "            \n",
    "                    \n",
    "            if use_bias_prior: \n",
    "                bias_list[k] = model.bias_prior.project_to_support(bias_list[k])\n",
    "\n",
    "\n",
    "        for k, (model, data, bias_params) in enumerate(zip(model_list, data_list, bias_list)):\n",
    "            loss = model.log_likelihood(data, rmodel, bias_params)\n",
    "            \n",
    "            if step % 100 == 0:\n",
    "                print('step %d loss %.3f model %d' %(step, loss, k))\n",
    "        if step > 0: \n",
    "            delta = loss-loss_prev\n",
    "        loss_prev = loss\n",
    "        step +=1\n",
    "        \n",
    "    return model_list, rmodel, bias_list"
   ]
  },
  {
   "cell_type": "code",
   "execution_count": 46,
   "metadata": {},
   "outputs": [
    {
     "name": "stdout",
     "output_type": "stream",
     "text": [
      "cutoff 12.0\n",
      "sampledvec [0.5868 7.5754]\n"
     ]
    },
    {
     "name": "stderr",
     "output_type": "stream",
     "text": [
      "/userdata/smetzger/gim/lib/python3.6/site-packages/jax/_src/lax/lax.py:6271: UserWarning: Explicitly requested dtype float64 requested in array is not available, and will be truncated to dtype float32. To enable more dtypes, set the jax_enable_x64 configuration option or the JAX_ENABLE_X64 shell environment variable. See https://github.com/google/jax#current-gotchas for more.\n",
      "  warnings.warn(msg.format(dtype, fun_name , truncated_dtype))\n"
     ]
    }
   ],
   "source": [
    "# Reinitializing all the models\n",
    "\n",
    "irl_feedback_model = fbl_blind_irl.BlindIRLFeedbackModel(env)\n",
    "rmodel = r_models.LinearRewardModel(env.obs_dim)\n",
    "rng = jrandom.PRNGKey(42)\n",
    "rng, irl_bias_params = irl_feedback_model.init_bias_params(rng)\n",
    "irl_expert = experts.MEDemonstratorExpert(env, np.random.randint((1 << 31) - 1))\n",
    "# we'll do IRL based on 10 trajectories\n",
    "irl_dataset = irl_expert.interact(10)\n",
    "\n",
    "pc_feedback_model = fbl_paired_comp.PairedCompFeedbackModel(env)\n",
    "rng, pc_bias_params = pc_feedback_model.init_bias_params(rng)\n",
    "pc_expert = experts.PairedComparisonExpert(env, boltz_temp=1.0, seed=42)\n",
    "\n",
    "# generate some random trajectories & compare a random subset of them\n",
    "def generate_comparison_dataset(pc_ntraj):\n",
    "    pc_trajectories = mce_irl.mce_irl_sample(env, pc_ntraj, R=np.ones((env.n_states, )))\n",
    "    to_compare_first = np.arange(len(pc_trajectories['states']))\n",
    "    comparisons = []\n",
    "    for first_idx in range(pc_ntraj):\n",
    "        second_idx = np.random.randint(pc_ntraj - 1)\n",
    "        if second_idx >= first_idx:\n",
    "            second_idx += 1\n",
    "        traj1_is_better = pc_expert.interact(\n",
    "            dict(states=pc_trajectories['states'][first_idx]),\n",
    "            dict(states=pc_trajectories['states'][second_idx]))\n",
    "        if traj1_is_better:\n",
    "            # the better trajectory comes before the worse one\n",
    "            comparisons.append((first_idx, second_idx))\n",
    "        else:\n",
    "            comparisons.append((second_idx, first_idx))\n",
    "    return {\n",
    "        'trajectories': pc_trajectories,\n",
    "        'comparisons': np.asarray(comparisons),\n",
    "    }\n",
    "\n",
    "comparison_dataset = generate_comparison_dataset(100)\n",
    "\n",
    "top_K_expert = experts.TopKExpert(env, temp=.2, K=.1, seed=42)\n",
    "def generate_topk_dataset(n_traj):\n",
    "    # def genereate_top_K_dataset(n_traj): \n",
    "    import random\n",
    "    \n",
    "    rmodel = r_models.LinearRewardModel(env.obs_dim)\n",
    "    rmodel.set_params(env.reward_matrix)\n",
    "    traj = mce_irl.mce_irl_sample(env, n_traj, R=np.ones((env.n_states,)))\n",
    "    labels= top_K_expert.interact(traj, rmodel)\n",
    "\n",
    "    labels_final, traj_final = [], []\n",
    "    for l, t in zip(labels, traj['states']): \n",
    "        if not(l):\n",
    "            if True:#random.random() < top_K_expert.K:#TODO if there are issues update this so that we balance our dataset.\n",
    "                labels_final.append(l), traj_final.append(t)\n",
    "        else: \n",
    "            labels_final.append(l), traj_final.append(t)\n",
    "\n",
    "    labels_final = np.array([int(l) for l in labels_final])\n",
    "    \n",
    "    return {\n",
    "        'trajectories':np.array(traj_final), \n",
    "        'labels':labels_final\n",
    "    }\n",
    "\n",
    "top_K_dataset = generate_topk_dataset(1000)\n",
    "\n",
    "import pref_bootstrap.feedback_learner_topk as fbl_topk\n",
    "top_K_feedback_model = fbl_topk.TopKFeedbackModel(env)\n",
    "\n",
    "rmodel = r_models.LinearRewardModel(env.obs_dim)\n",
    "import jax\n",
    "import jax.numpy as jnp\n",
    "\n",
    "rng = jrandom.PRNGKey(23)\n",
    "rng, top_K_bias_params = top_K_feedback_model.init_bias_params(rng)"
   ]
  },
  {
   "cell_type": "code",
   "execution_count": 49,
   "metadata": {},
   "outputs": [],
   "source": [
    "model_list = [top_K_feedback_model, pc_feedback_model, irl_feedback_model]\n",
    "data_list = [top_K_dataset, comparison_dataset, irl_dataset]\n",
    "bias_list = [top_K_bias_params, pc_bias_params, irl_bias_params]\n",
    "use_bias_list = [False, False, False]\n",
    "rmodel = r_models.LinearRewardModel(env.obs_dim)\n",
    "rmodel.set_params(env.reward_matrix)"
   ]
  },
  {
   "cell_type": "code",
   "execution_count": 50,
   "metadata": {},
   "outputs": [
    {
     "name": "stdout",
     "output_type": "stream",
     "text": [
      "step 0 loss -0.511 model 0\n",
      "step 0 loss -0.379 model 1\n",
      "step 0 loss -10.186 model 2\n",
      "step 100 loss -0.480 model 0\n",
      "step 100 loss -0.379 model 1\n",
      "step 100 loss -9.224 model 2\n",
      "step 200 loss -0.455 model 0\n",
      "step 200 loss -0.378 model 1\n",
      "step 200 loss -9.093 model 2\n",
      "step 300 loss -0.436 model 0\n",
      "step 300 loss -0.377 model 1\n",
      "step 300 loss -9.039 model 2\n",
      "step 400 loss -0.422 model 0\n",
      "step 400 loss -0.377 model 1\n",
      "step 400 loss -9.011 model 2\n",
      "step 500 loss -0.413 model 0\n",
      "step 500 loss -0.376 model 1\n",
      "step 500 loss -8.994 model 2\n",
      "step 600 loss -0.408 model 0\n",
      "step 600 loss -0.375 model 1\n",
      "step 600 loss -8.983 model 2\n",
      "step 700 loss -0.405 model 0\n",
      "step 700 loss -0.375 model 1\n",
      "step 700 loss -8.975 model 2\n",
      "step 800 loss -0.403 model 0\n",
      "step 800 loss -0.374 model 1\n",
      "step 800 loss -8.970 model 2\n",
      "step 900 loss -0.402 model 0\n",
      "step 900 loss -0.374 model 1\n",
      "step 900 loss -8.966 model 2\n"
     ]
    }
   ],
   "source": [
    "models, rmodel, biases = multi_optimize(model_list, data_list, rmodel, bias_list, use_bias_list, optimize_reward=False)"
   ]
  },
  {
   "cell_type": "code",
   "execution_count": 51,
   "metadata": {},
   "outputs": [
    {
     "name": "stdout",
     "output_type": "stream",
     "text": [
      "Optimal state visitation frequencies for each grid cell:\n",
      "[[0.     0.     0.     0.    ]\n",
      " [0.     0.     1.0526 0.    ]\n",
      " [0.     5.8825 1.0649 0.    ]\n",
      " [0.     0.     0.     0.    ]]\n",
      "Inferred \n",
      "[[0.     0.     0.     0.    ]\n",
      " [0.     0.     1.0526 0.    ]\n",
      " [0.     5.8825 1.0649 0.    ]\n",
      " [0.     0.     0.     0.    ]]\n"
     ]
    },
    {
     "data": {
      "image/png": "[encoded data removed]",
      "text/plain": [
       "<Figure size 432x288 with 1 Axes>"
      ]
     },
     "metadata": {
      "needs_background": "light"
     },
     "output_type": "display_data"
    }
   ],
   "source": [
    "evaluate(rmodel)"
   ]
  },
  {
   "cell_type": "code",
   "execution_count": 52,
   "metadata": {},
   "outputs": [
    {
     "data": {
      "text/plain": [
       "[DeviceArray([0.3031, 7.592 ], dtype=float32),\n",
       " DeviceArray(0.6222, dtype=float32),\n",
       " DeviceArray([0.273 , 0.9186, 0.8208, 0.2088, 0.2972, 0.5325, 0.5749, 0.5896, 0.7297, 0.9203,\n",
       "              0.3191, 0.9805, 0.0829, 0.8147, 0.905 , 0.0139], dtype=float32)]"
      ]
     },
     "execution_count": 52,
     "metadata": {},
     "output_type": "execute_result"
    }
   ],
   "source": [
    "biases"
   ]
  },
  {
   "cell_type": "code",
   "execution_count": 53,
   "metadata": {},
   "outputs": [
    {
     "data": {
      "text/plain": [
       "Text(0.5,1,'Blind IRL')"
      ]
     },
     "execution_count": 53,
     "metadata": {},
     "output_type": "execute_result"
    },
    {
     "data": {
      "image/png": "[encoded data removed]",
      "text/plain": [
       "<Figure size 432x288 with 1 Axes>"
      ]
     },
     "metadata": {
      "needs_background": "light"
     },
     "output_type": "display_data"
    }
   ],
   "source": [
    "plt.plot(biases[-1], label=\"recovered\")\n",
    "plt.plot(irl_bias_params, label='Actual')\n",
    "plt.legend()\n",
    "plt.title('Blind IRL')"
   ]
  },
  {
   "cell_type": "code",
   "execution_count": null,
   "metadata": {},
   "outputs": [],
   "source": []
  }
 ],
 "metadata": {
  "kernelspec": {
   "display_name": "Python 3",
   "language": "python",
   "name": "python3"
  },
  "language_info": {
   "codemirror_mode": {
    "name": "ipython",
    "version": 3
   },
   "file_extension": ".py",
   "mimetype": "text/x-python",
   "name": "python",
   "nbconvert_exporter": "python",
   "pygments_lexer": "ipython3",
   "version": "3.6.6"
  }
 },
 "nbformat": 4,
 "nbformat_minor": 4
}
